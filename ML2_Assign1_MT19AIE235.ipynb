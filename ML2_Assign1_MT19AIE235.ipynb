{
  "nbformat": 4,
  "nbformat_minor": 0,
  "metadata": {
    "colab": {
      "name": "ML2_Assign1_MT19AIE235.ipynb",
      "provenance": [],
      "collapsed_sections": [],
      "authorship_tag": "ABX9TyMO8eDi66KKBHDNy/X441pR",
      "include_colab_link": true
    },
    "kernelspec": {
      "name": "python3",
      "display_name": "Python 3"
    },
    "accelerator": "GPU"
  },
  "cells": [
    {
      "cell_type": "markdown",
      "metadata": {
        "id": "view-in-github",
        "colab_type": "text"
      },
      "source": [
        "<a href=\"https://colab.research.google.com/github/durgesh510/mtaie19/blob/master/ML2_Assign1_MT19AIE235.ipynb\" target=\"_parent\"><img src=\"https://colab.research.google.com/assets/colab-badge.svg\" alt=\"Open In Colab\"/></a>"
      ]
    },
    {
      "cell_type": "code",
      "metadata": {
        "id": "DtAASuj_dPNS"
      },
      "source": [
        "#Roll - MT19AIE235"
      ],
      "execution_count": null,
      "outputs": []
    },
    {
      "cell_type": "code",
      "metadata": {
        "id": "Ut4REG6kFd3s"
      },
      "source": [
        "#loading the dataset\n",
        "import numpy as np\n",
        "from keras.datasets import cifar10\n",
        "from keras.utils.np_utils import to_categorical   \n",
        "from keras.utils import np_utils\n",
        "from keras.layers import Dense, Flatten\n",
        "from keras.layers import Conv2D, MaxPooling2D\n",
        "from keras.models import Sequential\n",
        "from keras.layers import Dense, Activation\n",
        "from keras.optimizers import SGD"
      ],
      "execution_count": 8,
      "outputs": []
    },
    {
      "cell_type": "code",
      "metadata": {
        "id": "175pqbViZGmo",
        "outputId": "a3731afe-8593-4dba-ce00-d90f484bef77",
        "colab": {
          "base_uri": "https://localhost:8080/"
        }
      },
      "source": [
        "#Preparing the dataset and preprocessing\n",
        "(X_train, y_train), (X_test, y_test) = cifar10.load_data()\n",
        "\n",
        "# Transform label indices to one-hot encoded vectors\n",
        "\n",
        "y_train = to_categorical(y_train, num_classes=10)\n",
        "y_test = to_categorical(y_test, num_classes=10)\n",
        "X_train = X_train.astype('float32')\n",
        "X_test = X_test.astype('float32')\n",
        "\n",
        "#normalizing of pixel values (0-1 range)\n",
        "X_train /= 255\n",
        "X_test /= 255"
      ],
      "execution_count": 2,
      "outputs": [
        {
          "output_type": "stream",
          "text": [
            "Downloading data from https://www.cs.toronto.edu/~kriz/cifar-10-python.tar.gz\n",
            "170500096/170498071 [==============================] - 2s 0us/step\n"
          ],
          "name": "stdout"
        }
      ]
    },
    {
      "cell_type": "code",
      "metadata": {
        "id": "9cK_iFxcZbnJ",
        "outputId": "35ce7871-4202-4b63-86fd-68be57d76d83",
        "colab": {
          "base_uri": "https://localhost:8080/"
        }
      },
      "source": [
        "print(\"Shape of training data:\")\n",
        "print(X_train.shape)\n",
        "print(y_train.shape)\n",
        "print(\"Shape of test data:\")\n",
        "print(X_test.shape)\n",
        "print(y_test.shape)"
      ],
      "execution_count": 62,
      "outputs": [
        {
          "output_type": "stream",
          "text": [
            "Shape of training data:\n",
            "(50000, 32, 32, 3)\n",
            "(50000, 10)\n",
            "Shape of test data:\n",
            "(10000, 32, 32, 3)\n",
            "(10000, 10)\n"
          ],
          "name": "stdout"
        }
      ]
    },
    {
      "cell_type": "code",
      "metadata": {
        "id": "OajO8e_2ZrHW",
        "outputId": "b2632bbb-b66c-411f-a4f6-c470e15dfc83",
        "colab": {
          "base_uri": "https://localhost:8080/"
        }
      },
      "source": [
        "#creating CNN model\n",
        "model = Sequential()\n",
        "\n",
        "model.add(Conv2D(32, (3, 3), activation='relu', input_shape=(32, 32, 3)))\n",
        "model.add(Conv2D(64, (3, 3), activation='relu'))\n",
        "model.add(MaxPooling2D(pool_size=(2, 2)))\n",
        "model.add(Conv2D(128, (3, 3), activation='relu'))\n",
        "model.add(MaxPooling2D(pool_size=(2, 2)))\n",
        "model.add(Flatten())\n",
        "model.add(Dense(256, activation='relu'))\n",
        "model.add(Dense(10, activation='softmax'))\n",
        "\n",
        "sgd = SGD(lr=0.01, decay=1e-6, momentum=0.9)\n",
        "model.compile(loss='categorical_crossentropy', metrics=['accuracy'], optimizer=sgd)\n",
        "model.summary()"
      ],
      "execution_count": 61,
      "outputs": [
        {
          "output_type": "stream",
          "text": [
            "Model: \"sequential_10\"\n",
            "_________________________________________________________________\n",
            "Layer (type)                 Output Shape              Param #   \n",
            "=================================================================\n",
            "conv2d_29 (Conv2D)           (None, 30, 30, 32)        896       \n",
            "_________________________________________________________________\n",
            "conv2d_30 (Conv2D)           (None, 28, 28, 64)        18496     \n",
            "_________________________________________________________________\n",
            "max_pooling2d_20 (MaxPooling (None, 14, 14, 64)        0         \n",
            "_________________________________________________________________\n",
            "conv2d_31 (Conv2D)           (None, 12, 12, 128)       73856     \n",
            "_________________________________________________________________\n",
            "max_pooling2d_21 (MaxPooling (None, 6, 6, 128)         0         \n",
            "_________________________________________________________________\n",
            "flatten_9 (Flatten)          (None, 4608)              0         \n",
            "_________________________________________________________________\n",
            "dense_18 (Dense)             (None, 256)               1179904   \n",
            "_________________________________________________________________\n",
            "dense_19 (Dense)             (None, 10)                2570      \n",
            "=================================================================\n",
            "Total params: 1,275,722\n",
            "Trainable params: 1,275,722\n",
            "Non-trainable params: 0\n",
            "_________________________________________________________________\n"
          ],
          "name": "stdout"
        }
      ]
    },
    {
      "cell_type": "code",
      "metadata": {
        "id": "P2akySzmam9F",
        "outputId": "f58c2e55-9412-405e-e07b-ba20f85f769e",
        "colab": {
          "base_uri": "https://localhost:8080/"
        }
      },
      "source": [
        "#Training the model\n",
        "myCNN = model.fit(X_train, y_train, batch_size=32, epochs=15, verbose=2, validation_split=0.2)"
      ],
      "execution_count": 63,
      "outputs": [
        {
          "output_type": "stream",
          "text": [
            "Epoch 1/15\n",
            "1250/1250 - 6s - loss: 1.6103 - accuracy: 0.4132 - val_loss: 1.3705 - val_accuracy: 0.5144\n",
            "Epoch 2/15\n",
            "1250/1250 - 5s - loss: 1.1166 - accuracy: 0.6070 - val_loss: 1.0521 - val_accuracy: 0.6345\n",
            "Epoch 3/15\n",
            "1250/1250 - 6s - loss: 0.8663 - accuracy: 0.6974 - val_loss: 0.8974 - val_accuracy: 0.6942\n",
            "Epoch 4/15\n",
            "1250/1250 - 5s - loss: 0.6849 - accuracy: 0.7610 - val_loss: 0.9499 - val_accuracy: 0.6802\n",
            "Epoch 5/15\n",
            "1250/1250 - 5s - loss: 0.5215 - accuracy: 0.8183 - val_loss: 0.9055 - val_accuracy: 0.7122\n",
            "Epoch 6/15\n",
            "1250/1250 - 5s - loss: 0.3807 - accuracy: 0.8683 - val_loss: 0.9637 - val_accuracy: 0.7069\n",
            "Epoch 7/15\n",
            "1250/1250 - 5s - loss: 0.2730 - accuracy: 0.9057 - val_loss: 1.3396 - val_accuracy: 0.6778\n",
            "Epoch 8/15\n",
            "1250/1250 - 5s - loss: 0.2119 - accuracy: 0.9269 - val_loss: 1.2719 - val_accuracy: 0.6930\n",
            "Epoch 9/15\n",
            "1250/1250 - 5s - loss: 0.1699 - accuracy: 0.9414 - val_loss: 1.3833 - val_accuracy: 0.6946\n",
            "Epoch 10/15\n",
            "1250/1250 - 5s - loss: 0.1414 - accuracy: 0.9513 - val_loss: 1.4835 - val_accuracy: 0.7052\n",
            "Epoch 11/15\n",
            "1250/1250 - 5s - loss: 0.1197 - accuracy: 0.9603 - val_loss: 1.6379 - val_accuracy: 0.6965\n",
            "Epoch 12/15\n",
            "1250/1250 - 5s - loss: 0.1074 - accuracy: 0.9637 - val_loss: 1.6192 - val_accuracy: 0.7119\n",
            "Epoch 13/15\n",
            "1250/1250 - 5s - loss: 0.1048 - accuracy: 0.9657 - val_loss: 1.6851 - val_accuracy: 0.7063\n",
            "Epoch 14/15\n",
            "1250/1250 - 5s - loss: 0.0915 - accuracy: 0.9701 - val_loss: 1.8335 - val_accuracy: 0.7109\n",
            "Epoch 15/15\n",
            "1250/1250 - 5s - loss: 0.0929 - accuracy: 0.9701 - val_loss: 1.8488 - val_accuracy: 0.7069\n"
          ],
          "name": "stdout"
        }
      ]
    },
    {
      "cell_type": "code",
      "metadata": {
        "id": "Cc0ayRAJbw4L"
      },
      "source": [
        "#Plotting the training losses\n",
        "import matplotlib.pyplot as plt\n",
        "def plotLosses(myCNN):  \n",
        "    plt.plot(myCNN.history['loss'])\n",
        "    plt.plot(myCNN.history['val_loss'])\n",
        "    plt.title('model loss')\n",
        "    plt.ylabel('loss')\n",
        "    plt.xlabel('epoch')\n",
        "    plt.legend(['train', 'validation'], loc='upper left')\n",
        "    plt.show()"
      ],
      "execution_count": 37,
      "outputs": []
    },
    {
      "cell_type": "code",
      "metadata": {
        "id": "VMsh71kCcZSL",
        "outputId": "6be65575-1379-4f90-b433-757e56a5897f",
        "colab": {
          "base_uri": "https://localhost:8080/",
          "height": 295
        }
      },
      "source": [
        "#plotting the training losses \n",
        "plotLosses(myCNN)"
      ],
      "execution_count": 38,
      "outputs": [
        {
          "output_type": "display_data",
          "data": {
            "image/png": "[encoded data removed]",
            "text/plain": [
              "<Figure size 432x288 with 1 Axes>"
            ]
          },
          "metadata": {
            "tags": [],
            "needs_background": "light"
          }
        }
      ]
    },
    {
      "cell_type": "code",
      "metadata": {
        "id": "wyKCIUzZevKb"
      },
      "source": [
        "#Evaluating the model\n",
        "eval = model.evaluate(X_test, y_test, batch_size=128, verbose=0)"
      ],
      "execution_count": 39,
      "outputs": []
    },
    {
      "cell_type": "code",
      "metadata": {
        "id": "AWBf_zhFe6lP",
        "outputId": "9396bce1-5060-4b79-c1d2-2e8101eb6ea1",
        "colab": {
          "base_uri": "https://localhost:8080/"
        }
      },
      "source": [
        "print(model.metrics_names)\n",
        "print(eval)"
      ],
      "execution_count": 40,
      "outputs": [
        {
          "output_type": "stream",
          "text": [
            "['loss', 'accuracy']\n",
            "[1.6132804155349731, 0.7243000268936157]\n"
          ],
          "name": "stdout"
        }
      ]
    },
    {
      "cell_type": "markdown",
      "metadata": {
        "id": "300tVyeafF84"
      },
      "source": [
        "This shows that overfitting occured during the trainig of the model. To avoid this, two of the popular regularization techniques will be used."
      ]
    },
    {
      "cell_type": "markdown",
      "metadata": {
        "id": "3_YX-TSOffO0"
      },
      "source": [
        "**Regularization**\n",
        "\n",
        "\n",
        "**1. Dropout**\n"
      ]
    },
    {
      "cell_type": "code",
      "metadata": {
        "id": "4UA-C4ZufzoA"
      },
      "source": [
        "from keras.layers import Dense, Dropout, Flatten\n",
        "from keras.layers import Conv2D, MaxPooling2D\n"
      ],
      "execution_count": 26,
      "outputs": []
    },
    {
      "cell_type": "code",
      "metadata": {
        "id": "ZXypVYUQf6D3",
        "outputId": "74d80a71-cace-467a-e908-9f612c1ee52a",
        "colab": {
          "base_uri": "https://localhost:8080/"
        }
      },
      "source": [
        "model = Sequential()\n",
        "\n",
        "model.add(Conv2D(32, (3, 3), activation='relu', input_shape=(32, 32, 3)))\n",
        "model.add(MaxPooling2D(pool_size=(2, 2)))\n",
        "# adding Dropout layer\n",
        "model.add(Dropout(0.25))\n",
        "model.add(Conv2D(64, (3, 3), activation='relu'))\n",
        "model.add(MaxPooling2D(pool_size=(2, 2)))\n",
        "# adding Dropout layer\n",
        "model.add(Dropout(0.25))\n",
        "\n",
        "model.add(Conv2D(128, (3, 3), activation='relu'))\n",
        "model.add(MaxPooling2D(pool_size=(2, 2)))\n",
        "# adding Dropout layer\n",
        "model.add(Dropout(0.25))\n",
        "model.add(Flatten())\n",
        "model.add(Dense(256, activation='relu'))\n",
        "# adding Dropout layer\n",
        "model.add(Dropout(0.5))\n",
        "\n",
        "model.add(Dense(10, activation='softmax'))\n",
        "\n",
        "sgd = SGD(lr=0.01, decay=1e-6, momentum=0.9)\n",
        "model.compile(loss='categorical_crossentropy', metrics=['accuracy'], optimizer=sgd)\n",
        "model.summary()"
      ],
      "execution_count": 51,
      "outputs": [
        {
          "output_type": "stream",
          "text": [
            "Model: \"sequential_8\"\n",
            "_________________________________________________________________\n",
            "Layer (type)                 Output Shape              Param #   \n",
            "=================================================================\n",
            "conv2d_23 (Conv2D)           (None, 30, 30, 32)        896       \n",
            "_________________________________________________________________\n",
            "max_pooling2d_15 (MaxPooling (None, 15, 15, 32)        0         \n",
            "_________________________________________________________________\n",
            "dropout_6 (Dropout)          (None, 15, 15, 32)        0         \n",
            "_________________________________________________________________\n",
            "conv2d_24 (Conv2D)           (None, 13, 13, 64)        18496     \n",
            "_________________________________________________________________\n",
            "max_pooling2d_16 (MaxPooling (None, 6, 6, 64)          0         \n",
            "_________________________________________________________________\n",
            "dropout_7 (Dropout)          (None, 6, 6, 64)          0         \n",
            "_________________________________________________________________\n",
            "conv2d_25 (Conv2D)           (None, 4, 4, 128)         73856     \n",
            "_________________________________________________________________\n",
            "max_pooling2d_17 (MaxPooling (None, 2, 2, 128)         0         \n",
            "_________________________________________________________________\n",
            "dropout_8 (Dropout)          (None, 2, 2, 128)         0         \n",
            "_________________________________________________________________\n",
            "flatten_7 (Flatten)          (None, 512)               0         \n",
            "_________________________________________________________________\n",
            "dense_14 (Dense)             (None, 256)               131328    \n",
            "_________________________________________________________________\n",
            "dropout_9 (Dropout)          (None, 256)               0         \n",
            "_________________________________________________________________\n",
            "dense_15 (Dense)             (None, 10)                2570      \n",
            "=================================================================\n",
            "Total params: 227,146\n",
            "Trainable params: 227,146\n",
            "Non-trainable params: 0\n",
            "_________________________________________________________________\n"
          ],
          "name": "stdout"
        }
      ]
    },
    {
      "cell_type": "code",
      "metadata": {
        "id": "ZwRsA3cngVpp",
        "outputId": "0851754e-6997-44e0-c4ef-51d459f63eb5",
        "colab": {
          "base_uri": "https://localhost:8080/"
        }
      },
      "source": [
        "#Training the model which contains drouput layers\n",
        "myCNN = model.fit(X_train, y_train, batch_size=32, epochs=15, verbose=2, validation_split=0.2)"
      ],
      "execution_count": 52,
      "outputs": [
        {
          "output_type": "stream",
          "text": [
            "Epoch 1/15\n",
            "1250/1250 - 4s - loss: 1.9091 - accuracy: 0.2853 - val_loss: 1.6362 - val_accuracy: 0.4151\n",
            "Epoch 2/15\n",
            "1250/1250 - 4s - loss: 1.5593 - accuracy: 0.4289 - val_loss: 1.4630 - val_accuracy: 0.4788\n",
            "Epoch 3/15\n",
            "1250/1250 - 4s - loss: 1.4275 - accuracy: 0.4843 - val_loss: 1.3347 - val_accuracy: 0.5267\n",
            "Epoch 4/15\n",
            "1250/1250 - 4s - loss: 1.3528 - accuracy: 0.5149 - val_loss: 1.2205 - val_accuracy: 0.5752\n",
            "Epoch 5/15\n",
            "1250/1250 - 4s - loss: 1.2965 - accuracy: 0.5391 - val_loss: 1.3207 - val_accuracy: 0.5293\n",
            "Epoch 6/15\n",
            "1250/1250 - 4s - loss: 1.2520 - accuracy: 0.5547 - val_loss: 1.1566 - val_accuracy: 0.5937\n",
            "Epoch 7/15\n",
            "1250/1250 - 4s - loss: 1.2192 - accuracy: 0.5675 - val_loss: 1.0982 - val_accuracy: 0.6053\n",
            "Epoch 8/15\n",
            "1250/1250 - 4s - loss: 1.2003 - accuracy: 0.5755 - val_loss: 1.1238 - val_accuracy: 0.6018\n",
            "Epoch 9/15\n",
            "1250/1250 - 4s - loss: 1.1782 - accuracy: 0.5834 - val_loss: 1.0796 - val_accuracy: 0.6233\n",
            "Epoch 10/15\n",
            "1250/1250 - 4s - loss: 1.1644 - accuracy: 0.5921 - val_loss: 1.0033 - val_accuracy: 0.6520\n",
            "Epoch 11/15\n",
            "1250/1250 - 4s - loss: 1.1375 - accuracy: 0.5990 - val_loss: 1.0831 - val_accuracy: 0.6161\n",
            "Epoch 12/15\n",
            "1250/1250 - 4s - loss: 1.1190 - accuracy: 0.6062 - val_loss: 1.0283 - val_accuracy: 0.6308\n",
            "Epoch 13/15\n",
            "1250/1250 - 4s - loss: 1.1135 - accuracy: 0.6087 - val_loss: 1.0129 - val_accuracy: 0.6454\n",
            "Epoch 14/15\n",
            "1250/1250 - 4s - loss: 1.0937 - accuracy: 0.6169 - val_loss: 1.0045 - val_accuracy: 0.6519\n",
            "Epoch 15/15\n",
            "1250/1250 - 4s - loss: 1.0816 - accuracy: 0.6210 - val_loss: 1.0384 - val_accuracy: 0.6499\n"
          ],
          "name": "stdout"
        }
      ]
    },
    {
      "cell_type": "code",
      "metadata": {
        "id": "7kGt3W_LhCNK",
        "outputId": "a12adea7-168b-49d0-8a45-1d09014f7c13",
        "colab": {
          "base_uri": "https://localhost:8080/",
          "height": 295
        }
      },
      "source": [
        "#plotting the training losses \n",
        "plotLosses(myCNN)"
      ],
      "execution_count": 53,
      "outputs": [
        {
          "output_type": "display_data",
          "data": {
            "image/png": "[encoded data removed]",
            "text/plain": [
              "<Figure size 432x288 with 1 Axes>"
            ]
          },
          "metadata": {
            "tags": [],
            "needs_background": "light"
          }
        }
      ]
    },
    {
      "cell_type": "code",
      "metadata": {
        "id": "Ob9GoQJyhK_m"
      },
      "source": [
        "#Evaluating the model\n",
        "eval = model.evaluate(X_test, y_test, batch_size=128, verbose=0)"
      ],
      "execution_count": 54,
      "outputs": []
    },
    {
      "cell_type": "code",
      "metadata": {
        "id": "X68jJ4aGhOi7",
        "outputId": "b42f89ed-88a7-4df4-a518-31ee21cf0a68",
        "colab": {
          "base_uri": "https://localhost:8080/"
        }
      },
      "source": [
        "print(model.metrics_names)\n",
        "print(eval)"
      ],
      "execution_count": 55,
      "outputs": [
        {
          "output_type": "stream",
          "text": [
            "['loss', 'accuracy']\n",
            "[1.0639084577560425, 0.6359000205993652]\n"
          ],
          "name": "stdout"
        }
      ]
    },
    {
      "cell_type": "markdown",
      "metadata": {
        "id": "MzOXkn-_jv9w"
      },
      "source": [
        "**2. Batch Normalization**"
      ]
    },
    {
      "cell_type": "code",
      "metadata": {
        "id": "-JfWQZ9Okbpb"
      },
      "source": [
        "#loading libraries\n",
        "from keras.layers import Dense, Flatten\n",
        "from keras.layers import Conv2D, MaxPooling2D\n",
        "from keras.layers.normalization import BatchNormalization"
      ],
      "execution_count": 46,
      "outputs": []
    },
    {
      "cell_type": "code",
      "metadata": {
        "id": "wn__UnFYki6V",
        "outputId": "b85de5b2-9f17-4115-85a4-c6f1eafbe6b1",
        "colab": {
          "base_uri": "https://localhost:8080/"
        }
      },
      "source": [
        "model = Sequential()\n",
        "\n",
        "model.add(Conv2D(32, (3, 3), activation='relu', input_shape=(32, 32, 3)))\n",
        "# Batch normalization layer added here\n",
        "model.add(BatchNormalization())\n",
        "model.add(Conv2D(64, (3, 3), activation='relu'))\n",
        "model.add(Dropout(0.25))\n",
        "# Batch normalization layer added here\n",
        "model.add(BatchNormalization())\n",
        "model.add(Activation('relu'))\n",
        "\n",
        "model.add(MaxPooling2D(pool_size=(2, 2)))\n",
        "model.add(Dropout(0.25))\n",
        "\n",
        "model.add(Conv2D(128, (3, 3), activation='relu'))\n",
        "model.add(MaxPooling2D(pool_size=(2, 2)))\n",
        "model.add(Flatten())\n",
        "model.add(Dense(256, activation='relu'))\n",
        "\n",
        "# Batch normalization layer added here\n",
        "model.add(BatchNormalization())\n",
        "model.add(Activation('relu'))\n",
        "\n",
        "model.add(Dropout(0.5))\n",
        "\n",
        "model.add(Dense(10, activation='softmax'))\n",
        "\n",
        "sgd = SGD(lr=0.01, decay=1e-6, momentum=0.9)\n",
        "model.compile(loss='categorical_crossentropy', metrics=['accuracy'], optimizer=sgd)\n",
        "model.summary()"
      ],
      "execution_count": 56,
      "outputs": [
        {
          "output_type": "stream",
          "text": [
            "Model: \"sequential_9\"\n",
            "_________________________________________________________________\n",
            "Layer (type)                 Output Shape              Param #   \n",
            "=================================================================\n",
            "conv2d_26 (Conv2D)           (None, 30, 30, 32)        896       \n",
            "_________________________________________________________________\n",
            "batch_normalization_2 (Batch (None, 30, 30, 32)        128       \n",
            "_________________________________________________________________\n",
            "conv2d_27 (Conv2D)           (None, 28, 28, 64)        18496     \n",
            "_________________________________________________________________\n",
            "dropout_10 (Dropout)         (None, 28, 28, 64)        0         \n",
            "_________________________________________________________________\n",
            "batch_normalization_3 (Batch (None, 28, 28, 64)        256       \n",
            "_________________________________________________________________\n",
            "activation_2 (Activation)    (None, 28, 28, 64)        0         \n",
            "_________________________________________________________________\n",
            "max_pooling2d_18 (MaxPooling (None, 14, 14, 64)        0         \n",
            "_________________________________________________________________\n",
            "dropout_11 (Dropout)         (None, 14, 14, 64)        0         \n",
            "_________________________________________________________________\n",
            "conv2d_28 (Conv2D)           (None, 12, 12, 128)       73856     \n",
            "_________________________________________________________________\n",
            "max_pooling2d_19 (MaxPooling (None, 6, 6, 128)         0         \n",
            "_________________________________________________________________\n",
            "flatten_8 (Flatten)          (None, 4608)              0         \n",
            "_________________________________________________________________\n",
            "dense_16 (Dense)             (None, 256)               1179904   \n",
            "_________________________________________________________________\n",
            "batch_normalization_4 (Batch (None, 256)               1024      \n",
            "_________________________________________________________________\n",
            "activation_3 (Activation)    (None, 256)               0         \n",
            "_________________________________________________________________\n",
            "dropout_12 (Dropout)         (None, 256)               0         \n",
            "_________________________________________________________________\n",
            "dense_17 (Dense)             (None, 10)                2570      \n",
            "=================================================================\n",
            "Total params: 1,277,130\n",
            "Trainable params: 1,276,426\n",
            "Non-trainable params: 704\n",
            "_________________________________________________________________\n"
          ],
          "name": "stdout"
        }
      ]
    },
    {
      "cell_type": "code",
      "metadata": {
        "id": "zQ1C1YP6lRkP",
        "outputId": "a694356a-0ce3-43d2-a7f9-7b53c3098fb0",
        "colab": {
          "base_uri": "https://localhost:8080/"
        }
      },
      "source": [
        "#Training the model which contains Batch normalization\n",
        "myCNN = model.fit(X_train, y_train, batch_size=32, epochs=15, verbose=2, validation_split=0.2)"
      ],
      "execution_count": 57,
      "outputs": [
        {
          "output_type": "stream",
          "text": [
            "Epoch 1/15\n",
            "1250/1250 - 7s - loss: 1.7482 - accuracy: 0.3822 - val_loss: 1.8136 - val_accuracy: 0.3249\n",
            "Epoch 2/15\n",
            "1250/1250 - 7s - loss: 1.4179 - accuracy: 0.4921 - val_loss: 1.5231 - val_accuracy: 0.4812\n",
            "Epoch 3/15\n",
            "1250/1250 - 7s - loss: 1.2070 - accuracy: 0.5728 - val_loss: 1.4907 - val_accuracy: 0.4924\n",
            "Epoch 4/15\n",
            "1250/1250 - 7s - loss: 1.1053 - accuracy: 0.6124 - val_loss: 1.5084 - val_accuracy: 0.4998\n",
            "Epoch 5/15\n",
            "1250/1250 - 7s - loss: 1.0221 - accuracy: 0.6431 - val_loss: 1.2809 - val_accuracy: 0.5586\n",
            "Epoch 6/15\n",
            "1250/1250 - 7s - loss: 0.9615 - accuracy: 0.6658 - val_loss: 1.1825 - val_accuracy: 0.6236\n",
            "Epoch 7/15\n",
            "1250/1250 - 7s - loss: 0.9119 - accuracy: 0.6845 - val_loss: 1.1092 - val_accuracy: 0.6349\n",
            "Epoch 8/15\n",
            "1250/1250 - 7s - loss: 0.8725 - accuracy: 0.6952 - val_loss: 0.9872 - val_accuracy: 0.6833\n",
            "Epoch 9/15\n",
            "1250/1250 - 7s - loss: 0.8480 - accuracy: 0.7036 - val_loss: 1.0438 - val_accuracy: 0.6450\n",
            "Epoch 10/15\n",
            "1250/1250 - 7s - loss: 0.8055 - accuracy: 0.7185 - val_loss: 0.9273 - val_accuracy: 0.6968\n",
            "Epoch 11/15\n",
            "1250/1250 - 7s - loss: 0.7671 - accuracy: 0.7314 - val_loss: 0.9885 - val_accuracy: 0.6505\n",
            "Epoch 12/15\n",
            "1250/1250 - 7s - loss: 0.7298 - accuracy: 0.7423 - val_loss: 0.8123 - val_accuracy: 0.7294\n",
            "Epoch 13/15\n",
            "1250/1250 - 7s - loss: 0.7106 - accuracy: 0.7504 - val_loss: 0.8893 - val_accuracy: 0.7054\n",
            "Epoch 14/15\n",
            "1250/1250 - 7s - loss: 0.6871 - accuracy: 0.7582 - val_loss: 0.7891 - val_accuracy: 0.7339\n",
            "Epoch 15/15\n",
            "1250/1250 - 7s - loss: 0.6635 - accuracy: 0.7666 - val_loss: 0.8498 - val_accuracy: 0.7048\n"
          ],
          "name": "stdout"
        }
      ]
    },
    {
      "cell_type": "code",
      "metadata": {
        "id": "DbjiGsDPnvFf",
        "outputId": "4e39c12d-6521-414b-9222-9e9b614ee372",
        "colab": {
          "base_uri": "https://localhost:8080/",
          "height": 295
        }
      },
      "source": [
        "#plotting the training losses \n",
        "plotLosses(myCNN)"
      ],
      "execution_count": 58,
      "outputs": [
        {
          "output_type": "display_data",
          "data": {
            "image/png": "[encoded data removed]",
            "text/plain": [
              "<Figure size 432x288 with 1 Axes>"
            ]
          },
          "metadata": {
            "tags": [],
            "needs_background": "light"
          }
        }
      ]
    },
    {
      "cell_type": "code",
      "metadata": {
        "id": "DzdiHqiCn2fM"
      },
      "source": [
        "#Evaluating the model\n",
        "eval = model.evaluate(X_test, y_test, batch_size=128, verbose=0)"
      ],
      "execution_count": 59,
      "outputs": []
    },
    {
      "cell_type": "code",
      "metadata": {
        "id": "ZakDECFSn5rw",
        "outputId": "857f8e9e-4d73-411a-9651-125ba00b9f24",
        "colab": {
          "base_uri": "https://localhost:8080/"
        }
      },
      "source": [
        "print(model.metrics_names)\n",
        "print(eval)"
      ],
      "execution_count": 60,
      "outputs": [
        {
          "output_type": "stream",
          "text": [
            "['loss', 'accuracy']\n",
            "[0.8556241989135742, 0.7038000226020813]\n"
          ],
          "name": "stdout"
        }
      ]
    }
  ]
}