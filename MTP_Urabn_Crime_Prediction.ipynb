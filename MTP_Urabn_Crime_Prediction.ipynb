{
  "cells": [
    {
      "cell_type": "markdown",
      "metadata": {
        "id": "view-in-github",
        "colab_type": "text"
      },
      "source": [
        "<a href=\"https://colab.research.google.com/github/durgesh510/mtaie19/blob/master/MTP_Urabn_Crime_Prediction.ipynb\" target=\"_parent\"><img src=\"https://colab.research.google.com/assets/colab-badge.svg\" alt=\"Open In Colab\"/></a>"
      ]
    },
    {
      "cell_type": "code",
      "execution_count": 2,
      "metadata": {
        "id": "G4uulZ-T8P4M"
      },
      "outputs": [],
      "source": [
        "import pandas as pd \n",
        "import numpy as np\n",
        "import sklearn.metrics as metrics\n",
        "from sklearn.tree import DecisionTreeClassifier, export_graphviz\n",
        "from sklearn import svm\n",
        "from sklearn.model_selection import cross_val_score\n",
        "from sklearn.linear_model import LogisticRegression\n",
        "from  sklearn.linear_model import LinearRegression\n",
        "from sklearn.naive_bayes import GaussianNB\n",
        "from sklearn.model_selection import validation_curve\n",
        "from sklearn.preprocessing import binarize\n",
        "import matplotlib.pyplot as plot\n",
        "from sklearn import linear_model\n",
        "from IPython.display import Image \n",
        "from sklearn.impute import SimpleImputer\n",
        "from sklearn.preprocessing import PolynomialFeatures\n",
        "from sklearn import tree\n",
        "import sklearn.preprocessing as prep\n",
        "import pydotplus \n",
        "import math\n",
        "from sklearn.linear_model import RidgeCV\n",
        "import sklearn.linear_model as linear_model\n",
        "from sklearn.model_selection import GridSearchCV\n",
        "from sklearn.cluster import KMeans\n",
        "from sklearn.ensemble import GradientBoostingClassifier\n",
        "from sklearn.ensemble import RandomForestClassifier\n",
        "import matplotlib.pyplot as plt\n",
        "from matplotlib.colors import LogNorm\n",
        "from sklearn.model_selection import train_test_split, cross_val_score\n",
        "from sklearn.neighbors import KNeighborsClassifier\n",
        "from sklearn import metrics\n",
        "from sklearn.preprocessing import StandardScaler\n",
        "from sklearn.preprocessing import LabelEncoder\n",
        "from sklearn.decomposition import PCA"
      ]
    },
    {
      "cell_type": "code",
      "execution_count": 3,
      "metadata": {
        "colab": {
          "base_uri": "https://localhost:8080/"
        },
        "id": "sRL823X_ubZK",
        "outputId": "2057c6c5-127b-43de-f913-0aca0f4086a7"
      },
      "outputs": [
        {
          "output_type": "stream",
          "name": "stdout",
          "text": [
            "Mounted at /content/gdrive\n"
          ]
        }
      ],
      "source": [
        "from google.colab import drive\n",
        "drive.mount('/content/gdrive')"
      ]
    },
    {
      "cell_type": "code",
      "execution_count": 4,
      "metadata": {
        "id": "qP3_xdakunjn"
      },
      "outputs": [],
      "source": [
        "import os\n",
        "os.chdir('/content/gdrive/MyDrive/MTP2021/')"
      ]
    },
    {
      "cell_type": "code",
      "execution_count": 5,
      "metadata": {
        "colab": {
          "base_uri": "https://localhost:8080/"
        },
        "id": "uOWAURxYuvl-",
        "outputId": "190ce0cf-136f-4717-828a-de7c2380994a"
      },
      "outputs": [
        {
          "output_type": "stream",
          "name": "stdout",
          "text": [
            "Crimes_-_2001_to_Present.csv\n"
          ]
        }
      ],
      "source": [
        "!ls"
      ]
    },
    {
      "cell_type": "code",
      "execution_count": 6,
      "metadata": {
        "id": "wq90hau0ux7q"
      },
      "outputs": [],
      "source": [
        "crime_df=pd.read_csv('Crimes_-_2001_to_Present.csv', low_memory=False)"
      ]
    },
    {
      "cell_type": "code",
      "execution_count": 7,
      "metadata": {
        "colab": {
          "base_uri": "https://localhost:8080/"
        },
        "id": "xR7mp-I25dbh",
        "outputId": "37605ee1-6e9a-49df-b1bb-10b71e06c596"
      },
      "outputs": [
        {
          "output_type": "execute_result",
          "data": {
            "text/plain": [
              "(7445894, 22)"
            ]
          },
          "metadata": {},
          "execution_count": 7
        }
      ],
      "source": [
        "crime_df.shape"
      ]
    },
    {
      "cell_type": "code",
      "source": [
        "crime_df = pd.read_csv('Crimes_-_2001_to_Present.csv',index_col='Date')\n",
        "crime_df.head(5)"
      ],
      "metadata": {
        "colab": {
          "base_uri": "https://localhost:8080/",
          "height": 415
        },
        "id": "836PrbGr5RI9",
        "outputId": "fb0314b9-6a7d-4682-9846-fb3b7f1aa721"
      },
      "execution_count": 8,
      "outputs": [
        {
          "output_type": "execute_result",
          "data": {
            "text/plain": [
              "                              ID Case Number                  Block  IUCR  \\\n",
              "Date                                                                        \n",
              "09/05/2015 01:30:00 PM  10224738    HY411648        043XX S WOOD ST  0486   \n",
              "09/04/2015 11:30:00 AM  10224739    HY411615    008XX N CENTRAL AVE  0870   \n",
              "09/01/2018 12:01:00 AM  11646166    JC213529  082XX S INGLESIDE AVE  0810   \n",
              "09/05/2015 12:45:00 PM  10224740    HY411595      035XX W BARRY AVE  2023   \n",
              "09/05/2015 01:00:00 PM  10224741    HY411610    0000X N LARAMIE AVE  0560   \n",
              "\n",
              "                       Primary Type              Description  \\\n",
              "Date                                                           \n",
              "09/05/2015 01:30:00 PM      BATTERY  DOMESTIC BATTERY SIMPLE   \n",
              "09/04/2015 11:30:00 AM        THEFT           POCKET-PICKING   \n",
              "09/01/2018 12:01:00 AM        THEFT                OVER $500   \n",
              "09/05/2015 12:45:00 PM    NARCOTICS    POSS: HEROIN(BRN/TAN)   \n",
              "09/05/2015 01:00:00 PM      ASSAULT                   SIMPLE   \n",
              "\n",
              "                       Location Description  Arrest  Domestic  Beat  ...  \\\n",
              "Date                                                                 ...   \n",
              "09/05/2015 01:30:00 PM            RESIDENCE   False      True   924  ...   \n",
              "09/04/2015 11:30:00 AM              CTA BUS   False     False  1511  ...   \n",
              "09/01/2018 12:01:00 AM            RESIDENCE   False      True   631  ...   \n",
              "09/05/2015 12:45:00 PM             SIDEWALK    True     False  1412  ...   \n",
              "09/05/2015 01:00:00 PM            APARTMENT   False      True  1522  ...   \n",
              "\n",
              "                        Ward  Community Area  FBI Code X Coordinate  \\\n",
              "Date                                                                  \n",
              "09/05/2015 01:30:00 PM  12.0            61.0       08B    1165074.0   \n",
              "09/04/2015 11:30:00 AM  29.0            25.0        06    1138875.0   \n",
              "09/01/2018 12:01:00 AM   8.0            44.0        06          NaN   \n",
              "09/05/2015 12:45:00 PM  35.0            21.0        18    1152037.0   \n",
              "09/05/2015 01:00:00 PM  28.0            25.0       08A    1141706.0   \n",
              "\n",
              "                        Y Coordinate  Year              Updated On   Latitude  \\\n",
              "Date                                                                            \n",
              "09/05/2015 01:30:00 PM     1875917.0  2015  02/10/2018 03:50:01 PM  41.815117   \n",
              "09/04/2015 11:30:00 AM     1904869.0  2015  02/10/2018 03:50:01 PM  41.895080   \n",
              "09/01/2018 12:01:00 AM           NaN  2018  04/06/2019 04:04:43 PM        NaN   \n",
              "09/05/2015 12:45:00 PM     1920384.0  2015  02/10/2018 03:50:01 PM  41.937406   \n",
              "09/05/2015 01:00:00 PM     1900086.0  2015  02/10/2018 03:50:01 PM  41.881903   \n",
              "\n",
              "                        Longitude                       Location  \n",
              "Date                                                              \n",
              "09/05/2015 01:30:00 PM -87.670000  (41.815117282, -87.669999562)  \n",
              "09/04/2015 11:30:00 AM -87.765400  (41.895080471, -87.765400451)  \n",
              "09/01/2018 12:01:00 AM        NaN                            NaN  \n",
              "09/05/2015 12:45:00 PM -87.716650  (41.937405765, -87.716649687)  \n",
              "09/05/2015 01:00:00 PM -87.755121  (41.881903443, -87.755121152)  \n",
              "\n",
              "[5 rows x 21 columns]"
            ],
            "text/html": [
              "\n",
              "  <div id=\"df-a6559bd6-f1a8-49e6-9289-2004c837694e\">\n",
              "    <div class=\"colab-df-container\">\n",
              "      <div>\n",
              "<style scoped>\n",
              "    .dataframe tbody tr th:only-of-type {\n",
              "        vertical-align: middle;\n",
              "    }\n",
              "\n",
              "    .dataframe tbody tr th {\n",
              "        vertical-align: top;\n",
              "    }\n",
              "\n",
              "    .dataframe thead th {\n",
              "        text-align: right;\n",
              "    }\n",
              "</style>\n",
              "<table border=\"1\" class=\"dataframe\">\n",
              "  <thead>\n",
              "    <tr style=\"text-align: right;\">\n",
              "      <th></th>\n",
              "      <th>ID</th>\n",
              "      <th>Case Number</th>\n",
              "      <th>Block</th>\n",
              "      <th>IUCR</th>\n",
              "      <th>Primary Type</th>\n",
              "      <th>Description</th>\n",
              "      <th>Location Description</th>\n",
              "      <th>Arrest</th>\n",
              "      <th>Domestic</th>\n",
              "      <th>Beat</th>\n",
              "      <th>...</th>\n",
              "      <th>Ward</th>\n",
              "      <th>Community Area</th>\n",
              "      <th>FBI Code</th>\n",
              "      <th>X Coordinate</th>\n",
              "      <th>Y Coordinate</th>\n",
              "      <th>Year</th>\n",
              "      <th>Updated On</th>\n",
              "      <th>Latitude</th>\n",
              "      <th>Longitude</th>\n",
              "      <th>Location</th>\n",
              "    </tr>\n",
              "    <tr>\n",
              "      <th>Date</th>\n",
              "      <th></th>\n",
              "      <th></th>\n",
              "      <th></th>\n",
              "      <th></th>\n",
              "      <th></th>\n",
              "      <th></th>\n",
              "      <th></th>\n",
              "      <th></th>\n",
              "      <th></th>\n",
              "      <th></th>\n",
              "      <th></th>\n",
              "      <th></th>\n",
              "      <th></th>\n",
              "      <th></th>\n",
              "      <th></th>\n",
              "      <th></th>\n",
              "      <th></th>\n",
              "      <th></th>\n",
              "      <th></th>\n",
              "      <th></th>\n",
              "      <th></th>\n",
              "    </tr>\n",
              "  </thead>\n",
              "  <tbody>\n",
              "    <tr>\n",
              "      <th>09/05/2015 01:30:00 PM</th>\n",
              "      <td>10224738</td>\n",
              "      <td>HY411648</td>\n",
              "      <td>043XX S WOOD ST</td>\n",
              "      <td>0486</td>\n",
              "      <td>BATTERY</td>\n",
              "      <td>DOMESTIC BATTERY SIMPLE</td>\n",
              "      <td>RESIDENCE</td>\n",
              "      <td>False</td>\n",
              "      <td>True</td>\n",
              "      <td>924</td>\n",
              "      <td>...</td>\n",
              "      <td>12.0</td>\n",
              "      <td>61.0</td>\n",
              "      <td>08B</td>\n",
              "      <td>1165074.0</td>\n",
              "      <td>1875917.0</td>\n",
              "      <td>2015</td>\n",
              "      <td>02/10/2018 03:50:01 PM</td>\n",
              "      <td>41.815117</td>\n",
              "      <td>-87.670000</td>\n",
              "      <td>(41.815117282, -87.669999562)</td>\n",
              "    </tr>\n",
              "    <tr>\n",
              "      <th>09/04/2015 11:30:00 AM</th>\n",
              "      <td>10224739</td>\n",
              "      <td>HY411615</td>\n",
              "      <td>008XX N CENTRAL AVE</td>\n",
              "      <td>0870</td>\n",
              "      <td>THEFT</td>\n",
              "      <td>POCKET-PICKING</td>\n",
              "      <td>CTA BUS</td>\n",
              "      <td>False</td>\n",
              "      <td>False</td>\n",
              "      <td>1511</td>\n",
              "      <td>...</td>\n",
              "      <td>29.0</td>\n",
              "      <td>25.0</td>\n",
              "      <td>06</td>\n",
              "      <td>1138875.0</td>\n",
              "      <td>1904869.0</td>\n",
              "      <td>2015</td>\n",
              "      <td>02/10/2018 03:50:01 PM</td>\n",
              "      <td>41.895080</td>\n",
              "      <td>-87.765400</td>\n",
              "      <td>(41.895080471, -87.765400451)</td>\n",
              "    </tr>\n",
              "    <tr>\n",
              "      <th>09/01/2018 12:01:00 AM</th>\n",
              "      <td>11646166</td>\n",
              "      <td>JC213529</td>\n",
              "      <td>082XX S INGLESIDE AVE</td>\n",
              "      <td>0810</td>\n",
              "      <td>THEFT</td>\n",
              "      <td>OVER $500</td>\n",
              "      <td>RESIDENCE</td>\n",
              "      <td>False</td>\n",
              "      <td>True</td>\n",
              "      <td>631</td>\n",
              "      <td>...</td>\n",
              "      <td>8.0</td>\n",
              "      <td>44.0</td>\n",
              "      <td>06</td>\n",
              "      <td>NaN</td>\n",
              "      <td>NaN</td>\n",
              "      <td>2018</td>\n",
              "      <td>04/06/2019 04:04:43 PM</td>\n",
              "      <td>NaN</td>\n",
              "      <td>NaN</td>\n",
              "      <td>NaN</td>\n",
              "    </tr>\n",
              "    <tr>\n",
              "      <th>09/05/2015 12:45:00 PM</th>\n",
              "      <td>10224740</td>\n",
              "      <td>HY411595</td>\n",
              "      <td>035XX W BARRY AVE</td>\n",
              "      <td>2023</td>\n",
              "      <td>NARCOTICS</td>\n",
              "      <td>POSS: HEROIN(BRN/TAN)</td>\n",
              "      <td>SIDEWALK</td>\n",
              "      <td>True</td>\n",
              "      <td>False</td>\n",
              "      <td>1412</td>\n",
              "      <td>...</td>\n",
              "      <td>35.0</td>\n",
              "      <td>21.0</td>\n",
              "      <td>18</td>\n",
              "      <td>1152037.0</td>\n",
              "      <td>1920384.0</td>\n",
              "      <td>2015</td>\n",
              "      <td>02/10/2018 03:50:01 PM</td>\n",
              "      <td>41.937406</td>\n",
              "      <td>-87.716650</td>\n",
              "      <td>(41.937405765, -87.716649687)</td>\n",
              "    </tr>\n",
              "    <tr>\n",
              "      <th>09/05/2015 01:00:00 PM</th>\n",
              "      <td>10224741</td>\n",
              "      <td>HY411610</td>\n",
              "      <td>0000X N LARAMIE AVE</td>\n",
              "      <td>0560</td>\n",
              "      <td>ASSAULT</td>\n",
              "      <td>SIMPLE</td>\n",
              "      <td>APARTMENT</td>\n",
              "      <td>False</td>\n",
              "      <td>True</td>\n",
              "      <td>1522</td>\n",
              "      <td>...</td>\n",
              "      <td>28.0</td>\n",
              "      <td>25.0</td>\n",
              "      <td>08A</td>\n",
              "      <td>1141706.0</td>\n",
              "      <td>1900086.0</td>\n",
              "      <td>2015</td>\n",
              "      <td>02/10/2018 03:50:01 PM</td>\n",
              "      <td>41.881903</td>\n",
              "      <td>-87.755121</td>\n",
              "      <td>(41.881903443, -87.755121152)</td>\n",
              "    </tr>\n",
              "  </tbody>\n",
              "</table>\n",
              "<p>5 rows × 21 columns</p>\n",
              "</div>\n",
              "      <button class=\"colab-df-convert\" onclick=\"convertToInteractive('df-a6559bd6-f1a8-49e6-9289-2004c837694e')\"\n",
              "              title=\"Convert this dataframe to an interactive table.\"\n",
              "              style=\"display:none;\">\n",
              "        \n",
              "  <svg xmlns=\"http://www.w3.org/2000/svg\" height=\"24px\"viewBox=\"0 0 24 24\"\n",
              "       width=\"24px\">\n",
              "    <path d=\"M0 0h24v24H0V0z\" fill=\"none\"/>\n",
              "    <path d=\"M18.56 5.44l.94 2.06.94-2.06 2.06-.94-2.06-.94-.94-2.06-.94 2.06-2.06.94zm-11 1L8.5 8.5l.94-2.06 2.06-.94-2.06-.94L8.5 2.5l-.94 2.06-2.06.94zm10 10l.94 2.06.94-2.06 2.06-.94-2.06-.94-.94-2.06-.94 2.06-2.06.94z\"/><path d=\"M17.41 7.96l-1.37-1.37c-.4-.4-.92-.59-1.43-.59-.52 0-1.04.2-1.43.59L10.3 9.45l-7.72 7.72c-.78.78-.78 2.05 0 2.83L4 21.41c.39.39.9.59 1.41.59.51 0 1.02-.2 1.41-.59l7.78-7.78 2.81-2.81c.8-.78.8-2.07 0-2.86zM5.41 20L4 18.59l7.72-7.72 1.47 1.35L5.41 20z\"/>\n",
              "  </svg>\n",
              "      </button>\n",
              "      \n",
              "  <style>\n",
              "    .colab-df-container {\n",
              "      display:flex;\n",
              "      flex-wrap:wrap;\n",
              "      gap: 12px;\n",
              "    }\n",
              "\n",
              "    .colab-df-convert {\n",
              "      background-color: #E8F0FE;\n",
              "      border: none;\n",
              "      border-radius: 50%;\n",
              "      cursor: pointer;\n",
              "      display: none;\n",
              "      fill: #1967D2;\n",
              "      height: 32px;\n",
              "      padding: 0 0 0 0;\n",
              "      width: 32px;\n",
              "    }\n",
              "\n",
              "    .colab-df-convert:hover {\n",
              "      background-color: #E2EBFA;\n",
              "      box-shadow: 0px 1px 2px rgba(60, 64, 67, 0.3), 0px 1px 3px 1px rgba(60, 64, 67, 0.15);\n",
              "      fill: #174EA6;\n",
              "    }\n",
              "\n",
              "    [theme=dark] .colab-df-convert {\n",
              "      background-color: #3B4455;\n",
              "      fill: #D2E3FC;\n",
              "    }\n",
              "\n",
              "    [theme=dark] .colab-df-convert:hover {\n",
              "      background-color: #434B5C;\n",
              "      box-shadow: 0px 1px 3px 1px rgba(0, 0, 0, 0.15);\n",
              "      filter: drop-shadow(0px 1px 2px rgba(0, 0, 0, 0.3));\n",
              "      fill: #FFFFFF;\n",
              "    }\n",
              "  </style>\n",
              "\n",
              "      <script>\n",
              "        const buttonEl =\n",
              "          document.querySelector('#df-a6559bd6-f1a8-49e6-9289-2004c837694e button.colab-df-convert');\n",
              "        buttonEl.style.display =\n",
              "          google.colab.kernel.accessAllowed ? 'block' : 'none';\n",
              "\n",
              "        async function convertToInteractive(key) {\n",
              "          const element = document.querySelector('#df-a6559bd6-f1a8-49e6-9289-2004c837694e');\n",
              "          const dataTable =\n",
              "            await google.colab.kernel.invokeFunction('convertToInteractive',\n",
              "                                                     [key], {});\n",
              "          if (!dataTable) return;\n",
              "\n",
              "          const docLinkHtml = 'Like what you see? Visit the ' +\n",
              "            '<a target=\"_blank\" href=https://colab.research.google.com/notebooks/data_table.ipynb>data table notebook</a>'\n",
              "            + ' to learn more about interactive tables.';\n",
              "          element.innerHTML = '';\n",
              "          dataTable['output_type'] = 'display_data';\n",
              "          await google.colab.output.renderOutput(dataTable, element);\n",
              "          const docLink = document.createElement('div');\n",
              "          docLink.innerHTML = docLinkHtml;\n",
              "          element.appendChild(docLink);\n",
              "        }\n",
              "      </script>\n",
              "    </div>\n",
              "  </div>\n",
              "  "
            ]
          },
          "metadata": {},
          "execution_count": 8
        }
      ]
    },
    {
      "cell_type": "code",
      "execution_count": 9,
      "metadata": {
        "colab": {
          "base_uri": "https://localhost:8080/",
          "height": 415
        },
        "id": "TMcM9dNpvjhp",
        "outputId": "2345e80f-e924-42a6-b39d-402fec1efd63"
      },
      "outputs": [
        {
          "output_type": "execute_result",
          "data": {
            "text/plain": [
              "                              ID Case Number                  Block  IUCR  \\\n",
              "Date                                                                        \n",
              "09/05/2015 01:30:00 PM  10224738    HY411648        043XX S WOOD ST  0486   \n",
              "09/04/2015 11:30:00 AM  10224739    HY411615    008XX N CENTRAL AVE  0870   \n",
              "09/01/2018 12:01:00 AM  11646166    JC213529  082XX S INGLESIDE AVE  0810   \n",
              "09/05/2015 12:45:00 PM  10224740    HY411595      035XX W BARRY AVE  2023   \n",
              "09/05/2015 01:00:00 PM  10224741    HY411610    0000X N LARAMIE AVE  0560   \n",
              "\n",
              "                       Primary Type              Description  \\\n",
              "Date                                                           \n",
              "09/05/2015 01:30:00 PM      BATTERY  DOMESTIC BATTERY SIMPLE   \n",
              "09/04/2015 11:30:00 AM        THEFT           POCKET-PICKING   \n",
              "09/01/2018 12:01:00 AM        THEFT                OVER $500   \n",
              "09/05/2015 12:45:00 PM    NARCOTICS    POSS: HEROIN(BRN/TAN)   \n",
              "09/05/2015 01:00:00 PM      ASSAULT                   SIMPLE   \n",
              "\n",
              "                       Location Description  Arrest  Domestic  Beat  ...  \\\n",
              "Date                                                                 ...   \n",
              "09/05/2015 01:30:00 PM            RESIDENCE   False      True   924  ...   \n",
              "09/04/2015 11:30:00 AM              CTA BUS   False     False  1511  ...   \n",
              "09/01/2018 12:01:00 AM            RESIDENCE   False      True   631  ...   \n",
              "09/05/2015 12:45:00 PM             SIDEWALK    True     False  1412  ...   \n",
              "09/05/2015 01:00:00 PM            APARTMENT   False      True  1522  ...   \n",
              "\n",
              "                        Ward  Community Area  FBI Code X Coordinate  \\\n",
              "Date                                                                  \n",
              "09/05/2015 01:30:00 PM  12.0            61.0       08B    1165074.0   \n",
              "09/04/2015 11:30:00 AM  29.0            25.0        06    1138875.0   \n",
              "09/01/2018 12:01:00 AM   8.0            44.0        06          NaN   \n",
              "09/05/2015 12:45:00 PM  35.0            21.0        18    1152037.0   \n",
              "09/05/2015 01:00:00 PM  28.0            25.0       08A    1141706.0   \n",
              "\n",
              "                        Y Coordinate  Year              Updated On   Latitude  \\\n",
              "Date                                                                            \n",
              "09/05/2015 01:30:00 PM     1875917.0  2015  02/10/2018 03:50:01 PM  41.815117   \n",
              "09/04/2015 11:30:00 AM     1904869.0  2015  02/10/2018 03:50:01 PM  41.895080   \n",
              "09/01/2018 12:01:00 AM           NaN  2018  04/06/2019 04:04:43 PM        NaN   \n",
              "09/05/2015 12:45:00 PM     1920384.0  2015  02/10/2018 03:50:01 PM  41.937406   \n",
              "09/05/2015 01:00:00 PM     1900086.0  2015  02/10/2018 03:50:01 PM  41.881903   \n",
              "\n",
              "                        Longitude                       Location  \n",
              "Date                                                              \n",
              "09/05/2015 01:30:00 PM -87.670000  (41.815117282, -87.669999562)  \n",
              "09/04/2015 11:30:00 AM -87.765400  (41.895080471, -87.765400451)  \n",
              "09/01/2018 12:01:00 AM        NaN                            NaN  \n",
              "09/05/2015 12:45:00 PM -87.716650  (41.937405765, -87.716649687)  \n",
              "09/05/2015 01:00:00 PM -87.755121  (41.881903443, -87.755121152)  \n",
              "\n",
              "[5 rows x 21 columns]"
            ],
            "text/html": [
              "\n",
              "  <div id=\"df-842cd881-5c36-48ea-99af-d96b6677bc53\">\n",
              "    <div class=\"colab-df-container\">\n",
              "      <div>\n",
              "<style scoped>\n",
              "    .dataframe tbody tr th:only-of-type {\n",
              "        vertical-align: middle;\n",
              "    }\n",
              "\n",
              "    .dataframe tbody tr th {\n",
              "        vertical-align: top;\n",
              "    }\n",
              "\n",
              "    .dataframe thead th {\n",
              "        text-align: right;\n",
              "    }\n",
              "</style>\n",
              "<table border=\"1\" class=\"dataframe\">\n",
              "  <thead>\n",
              "    <tr style=\"text-align: right;\">\n",
              "      <th></th>\n",
              "      <th>ID</th>\n",
              "      <th>Case Number</th>\n",
              "      <th>Block</th>\n",
              "      <th>IUCR</th>\n",
              "      <th>Primary Type</th>\n",
              "      <th>Description</th>\n",
              "      <th>Location Description</th>\n",
              "      <th>Arrest</th>\n",
              "      <th>Domestic</th>\n",
              "      <th>Beat</th>\n",
              "      <th>...</th>\n",
              "      <th>Ward</th>\n",
              "      <th>Community Area</th>\n",
              "      <th>FBI Code</th>\n",
              "      <th>X Coordinate</th>\n",
              "      <th>Y Coordinate</th>\n",
              "      <th>Year</th>\n",
              "      <th>Updated On</th>\n",
              "      <th>Latitude</th>\n",
              "      <th>Longitude</th>\n",
              "      <th>Location</th>\n",
              "    </tr>\n",
              "    <tr>\n",
              "      <th>Date</th>\n",
              "      <th></th>\n",
              "      <th></th>\n",
              "      <th></th>\n",
              "      <th></th>\n",
              "      <th></th>\n",
              "      <th></th>\n",
              "      <th></th>\n",
              "      <th></th>\n",
              "      <th></th>\n",
              "      <th></th>\n",
              "      <th></th>\n",
              "      <th></th>\n",
              "      <th></th>\n",
              "      <th></th>\n",
              "      <th></th>\n",
              "      <th></th>\n",
              "      <th></th>\n",
              "      <th></th>\n",
              "      <th></th>\n",
              "      <th></th>\n",
              "      <th></th>\n",
              "    </tr>\n",
              "  </thead>\n",
              "  <tbody>\n",
              "    <tr>\n",
              "      <th>09/05/2015 01:30:00 PM</th>\n",
              "      <td>10224738</td>\n",
              "      <td>HY411648</td>\n",
              "      <td>043XX S WOOD ST</td>\n",
              "      <td>0486</td>\n",
              "      <td>BATTERY</td>\n",
              "      <td>DOMESTIC BATTERY SIMPLE</td>\n",
              "      <td>RESIDENCE</td>\n",
              "      <td>False</td>\n",
              "      <td>True</td>\n",
              "      <td>924</td>\n",
              "      <td>...</td>\n",
              "      <td>12.0</td>\n",
              "      <td>61.0</td>\n",
              "      <td>08B</td>\n",
              "      <td>1165074.0</td>\n",
              "      <td>1875917.0</td>\n",
              "      <td>2015</td>\n",
              "      <td>02/10/2018 03:50:01 PM</td>\n",
              "      <td>41.815117</td>\n",
              "      <td>-87.670000</td>\n",
              "      <td>(41.815117282, -87.669999562)</td>\n",
              "    </tr>\n",
              "    <tr>\n",
              "      <th>09/04/2015 11:30:00 AM</th>\n",
              "      <td>10224739</td>\n",
              "      <td>HY411615</td>\n",
              "      <td>008XX N CENTRAL AVE</td>\n",
              "      <td>0870</td>\n",
              "      <td>THEFT</td>\n",
              "      <td>POCKET-PICKING</td>\n",
              "      <td>CTA BUS</td>\n",
              "      <td>False</td>\n",
              "      <td>False</td>\n",
              "      <td>1511</td>\n",
              "      <td>...</td>\n",
              "      <td>29.0</td>\n",
              "      <td>25.0</td>\n",
              "      <td>06</td>\n",
              "      <td>1138875.0</td>\n",
              "      <td>1904869.0</td>\n",
              "      <td>2015</td>\n",
              "      <td>02/10/2018 03:50:01 PM</td>\n",
              "      <td>41.895080</td>\n",
              "      <td>-87.765400</td>\n",
              "      <td>(41.895080471, -87.765400451)</td>\n",
              "    </tr>\n",
              "    <tr>\n",
              "      <th>09/01/2018 12:01:00 AM</th>\n",
              "      <td>11646166</td>\n",
              "      <td>JC213529</td>\n",
              "      <td>082XX S INGLESIDE AVE</td>\n",
              "      <td>0810</td>\n",
              "      <td>THEFT</td>\n",
              "      <td>OVER $500</td>\n",
              "      <td>RESIDENCE</td>\n",
              "      <td>False</td>\n",
              "      <td>True</td>\n",
              "      <td>631</td>\n",
              "      <td>...</td>\n",
              "      <td>8.0</td>\n",
              "      <td>44.0</td>\n",
              "      <td>06</td>\n",
              "      <td>NaN</td>\n",
              "      <td>NaN</td>\n",
              "      <td>2018</td>\n",
              "      <td>04/06/2019 04:04:43 PM</td>\n",
              "      <td>NaN</td>\n",
              "      <td>NaN</td>\n",
              "      <td>NaN</td>\n",
              "    </tr>\n",
              "    <tr>\n",
              "      <th>09/05/2015 12:45:00 PM</th>\n",
              "      <td>10224740</td>\n",
              "      <td>HY411595</td>\n",
              "      <td>035XX W BARRY AVE</td>\n",
              "      <td>2023</td>\n",
              "      <td>NARCOTICS</td>\n",
              "      <td>POSS: HEROIN(BRN/TAN)</td>\n",
              "      <td>SIDEWALK</td>\n",
              "      <td>True</td>\n",
              "      <td>False</td>\n",
              "      <td>1412</td>\n",
              "      <td>...</td>\n",
              "      <td>35.0</td>\n",
              "      <td>21.0</td>\n",
              "      <td>18</td>\n",
              "      <td>1152037.0</td>\n",
              "      <td>1920384.0</td>\n",
              "      <td>2015</td>\n",
              "      <td>02/10/2018 03:50:01 PM</td>\n",
              "      <td>41.937406</td>\n",
              "      <td>-87.716650</td>\n",
              "      <td>(41.937405765, -87.716649687)</td>\n",
              "    </tr>\n",
              "    <tr>\n",
              "      <th>09/05/2015 01:00:00 PM</th>\n",
              "      <td>10224741</td>\n",
              "      <td>HY411610</td>\n",
              "      <td>0000X N LARAMIE AVE</td>\n",
              "      <td>0560</td>\n",
              "      <td>ASSAULT</td>\n",
              "      <td>SIMPLE</td>\n",
              "      <td>APARTMENT</td>\n",
              "      <td>False</td>\n",
              "      <td>True</td>\n",
              "      <td>1522</td>\n",
              "      <td>...</td>\n",
              "      <td>28.0</td>\n",
              "      <td>25.0</td>\n",
              "      <td>08A</td>\n",
              "      <td>1141706.0</td>\n",
              "      <td>1900086.0</td>\n",
              "      <td>2015</td>\n",
              "      <td>02/10/2018 03:50:01 PM</td>\n",
              "      <td>41.881903</td>\n",
              "      <td>-87.755121</td>\n",
              "      <td>(41.881903443, -87.755121152)</td>\n",
              "    </tr>\n",
              "  </tbody>\n",
              "</table>\n",
              "<p>5 rows × 21 columns</p>\n",
              "</div>\n",
              "      <button class=\"colab-df-convert\" onclick=\"convertToInteractive('df-842cd881-5c36-48ea-99af-d96b6677bc53')\"\n",
              "              title=\"Convert this dataframe to an interactive table.\"\n",
              "              style=\"display:none;\">\n",
              "        \n",
              "  <svg xmlns=\"http://www.w3.org/2000/svg\" height=\"24px\"viewBox=\"0 0 24 24\"\n",
              "       width=\"24px\">\n",
              "    <path d=\"M0 0h24v24H0V0z\" fill=\"none\"/>\n",
              "    <path d=\"M18.56 5.44l.94 2.06.94-2.06 2.06-.94-2.06-.94-.94-2.06-.94 2.06-2.06.94zm-11 1L8.5 8.5l.94-2.06 2.06-.94-2.06-.94L8.5 2.5l-.94 2.06-2.06.94zm10 10l.94 2.06.94-2.06 2.06-.94-2.06-.94-.94-2.06-.94 2.06-2.06.94z\"/><path d=\"M17.41 7.96l-1.37-1.37c-.4-.4-.92-.59-1.43-.59-.52 0-1.04.2-1.43.59L10.3 9.45l-7.72 7.72c-.78.78-.78 2.05 0 2.83L4 21.41c.39.39.9.59 1.41.59.51 0 1.02-.2 1.41-.59l7.78-7.78 2.81-2.81c.8-.78.8-2.07 0-2.86zM5.41 20L4 18.59l7.72-7.72 1.47 1.35L5.41 20z\"/>\n",
              "  </svg>\n",
              "      </button>\n",
              "      \n",
              "  <style>\n",
              "    .colab-df-container {\n",
              "      display:flex;\n",
              "      flex-wrap:wrap;\n",
              "      gap: 12px;\n",
              "    }\n",
              "\n",
              "    .colab-df-convert {\n",
              "      background-color: #E8F0FE;\n",
              "      border: none;\n",
              "      border-radius: 50%;\n",
              "      cursor: pointer;\n",
              "      display: none;\n",
              "      fill: #1967D2;\n",
              "      height: 32px;\n",
              "      padding: 0 0 0 0;\n",
              "      width: 32px;\n",
              "    }\n",
              "\n",
              "    .colab-df-convert:hover {\n",
              "      background-color: #E2EBFA;\n",
              "      box-shadow: 0px 1px 2px rgba(60, 64, 67, 0.3), 0px 1px 3px 1px rgba(60, 64, 67, 0.15);\n",
              "      fill: #174EA6;\n",
              "    }\n",
              "\n",
              "    [theme=dark] .colab-df-convert {\n",
              "      background-color: #3B4455;\n",
              "      fill: #D2E3FC;\n",
              "    }\n",
              "\n",
              "    [theme=dark] .colab-df-convert:hover {\n",
              "      background-color: #434B5C;\n",
              "      box-shadow: 0px 1px 3px 1px rgba(0, 0, 0, 0.15);\n",
              "      filter: drop-shadow(0px 1px 2px rgba(0, 0, 0, 0.3));\n",
              "      fill: #FFFFFF;\n",
              "    }\n",
              "  </style>\n",
              "\n",
              "      <script>\n",
              "        const buttonEl =\n",
              "          document.querySelector('#df-842cd881-5c36-48ea-99af-d96b6677bc53 button.colab-df-convert');\n",
              "        buttonEl.style.display =\n",
              "          google.colab.kernel.accessAllowed ? 'block' : 'none';\n",
              "\n",
              "        async function convertToInteractive(key) {\n",
              "          const element = document.querySelector('#df-842cd881-5c36-48ea-99af-d96b6677bc53');\n",
              "          const dataTable =\n",
              "            await google.colab.kernel.invokeFunction('convertToInteractive',\n",
              "                                                     [key], {});\n",
              "          if (!dataTable) return;\n",
              "\n",
              "          const docLinkHtml = 'Like what you see? Visit the ' +\n",
              "            '<a target=\"_blank\" href=https://colab.research.google.com/notebooks/data_table.ipynb>data table notebook</a>'\n",
              "            + ' to learn more about interactive tables.';\n",
              "          element.innerHTML = '';\n",
              "          dataTable['output_type'] = 'display_data';\n",
              "          await google.colab.output.renderOutput(dataTable, element);\n",
              "          const docLink = document.createElement('div');\n",
              "          docLink.innerHTML = docLinkHtml;\n",
              "          element.appendChild(docLink);\n",
              "        }\n",
              "      </script>\n",
              "    </div>\n",
              "  </div>\n",
              "  "
            ]
          },
          "metadata": {},
          "execution_count": 9
        }
      ],
      "source": [
        "crime_df.head()"
      ]
    },
    {
      "cell_type": "code",
      "execution_count": 10,
      "metadata": {
        "id": "7VOr7X3ov4Id",
        "colab": {
          "base_uri": "https://localhost:8080/",
          "height": 301
        },
        "outputId": "9f2a1043-ad79-4091-bfd9-bb1a8dc6e9c8"
      },
      "outputs": [
        {
          "output_type": "error",
          "ename": "AttributeError",
          "evalue": "ignored",
          "traceback": [
            "\u001b[0;31m---------------------------------------------------------------------------\u001b[0m",
            "\u001b[0;31mAttributeError\u001b[0m                            Traceback (most recent call last)",
            "\u001b[0;32m<ipython-input-10-968ad8c9f357>\u001b[0m in \u001b[0;36m<module>\u001b[0;34m()\u001b[0m\n\u001b[0;32m----> 1\u001b[0;31m \u001b[0mcrime_df\u001b[0m\u001b[0;34m.\u001b[0m\u001b[0mDate\u001b[0m \u001b[0;34m=\u001b[0m \u001b[0mpd\u001b[0m\u001b[0;34m.\u001b[0m\u001b[0mto_datetime\u001b[0m\u001b[0;34m(\u001b[0m\u001b[0mcrime_df\u001b[0m\u001b[0;34m.\u001b[0m\u001b[0mDate\u001b[0m\u001b[0;34m,\u001b[0m\u001b[0mformat\u001b[0m\u001b[0;34m=\u001b[0m\u001b[0;34m'%m/%d/%Y %I:%M:%S %p'\u001b[0m\u001b[0;34m)\u001b[0m\u001b[0;34m\u001b[0m\u001b[0;34m\u001b[0m\u001b[0m\n\u001b[0m",
            "\u001b[0;32m/usr/local/lib/python3.7/dist-packages/pandas/core/generic.py\u001b[0m in \u001b[0;36m__getattr__\u001b[0;34m(self, name)\u001b[0m\n\u001b[1;32m   5485\u001b[0m         ):\n\u001b[1;32m   5486\u001b[0m             \u001b[0;32mreturn\u001b[0m \u001b[0mself\u001b[0m\u001b[0;34m[\u001b[0m\u001b[0mname\u001b[0m\u001b[0;34m]\u001b[0m\u001b[0;34m\u001b[0m\u001b[0;34m\u001b[0m\u001b[0m\n\u001b[0;32m-> 5487\u001b[0;31m         \u001b[0;32mreturn\u001b[0m \u001b[0mobject\u001b[0m\u001b[0;34m.\u001b[0m\u001b[0m__getattribute__\u001b[0m\u001b[0;34m(\u001b[0m\u001b[0mself\u001b[0m\u001b[0;34m,\u001b[0m \u001b[0mname\u001b[0m\u001b[0;34m)\u001b[0m\u001b[0;34m\u001b[0m\u001b[0;34m\u001b[0m\u001b[0m\n\u001b[0m\u001b[1;32m   5488\u001b[0m \u001b[0;34m\u001b[0m\u001b[0m\n\u001b[1;32m   5489\u001b[0m     \u001b[0;32mdef\u001b[0m \u001b[0m__setattr__\u001b[0m\u001b[0;34m(\u001b[0m\u001b[0mself\u001b[0m\u001b[0;34m,\u001b[0m \u001b[0mname\u001b[0m\u001b[0;34m:\u001b[0m \u001b[0mstr\u001b[0m\u001b[0;34m,\u001b[0m \u001b[0mvalue\u001b[0m\u001b[0;34m)\u001b[0m \u001b[0;34m->\u001b[0m \u001b[0;32mNone\u001b[0m\u001b[0;34m:\u001b[0m\u001b[0;34m\u001b[0m\u001b[0;34m\u001b[0m\u001b[0m\n",
            "\u001b[0;31mAttributeError\u001b[0m: 'DataFrame' object has no attribute 'Date'"
          ]
        }
      ],
      "source": [
        "crime_df.Date = pd.to_datetime(crime_df.Date,format='%m/%d/%Y %I:%M:%S %p')"
      ]
    },
    {
      "cell_type": "code",
      "execution_count": 11,
      "metadata": {
        "colab": {
          "base_uri": "https://localhost:8080/",
          "height": 415
        },
        "id": "pGWX4dUc3wPd",
        "outputId": "930e840f-aecd-4a20-97e7-0a331520c863"
      },
      "outputs": [
        {
          "output_type": "execute_result",
          "data": {
            "text/plain": [
              "                              ID Case Number                  Block  IUCR  \\\n",
              "Date                                                                        \n",
              "09/05/2015 01:30:00 PM  10224738    HY411648        043XX S WOOD ST  0486   \n",
              "09/04/2015 11:30:00 AM  10224739    HY411615    008XX N CENTRAL AVE  0870   \n",
              "09/01/2018 12:01:00 AM  11646166    JC213529  082XX S INGLESIDE AVE  0810   \n",
              "09/05/2015 12:45:00 PM  10224740    HY411595      035XX W BARRY AVE  2023   \n",
              "09/05/2015 01:00:00 PM  10224741    HY411610    0000X N LARAMIE AVE  0560   \n",
              "\n",
              "                       Primary Type              Description  \\\n",
              "Date                                                           \n",
              "09/05/2015 01:30:00 PM      BATTERY  DOMESTIC BATTERY SIMPLE   \n",
              "09/04/2015 11:30:00 AM        THEFT           POCKET-PICKING   \n",
              "09/01/2018 12:01:00 AM        THEFT                OVER $500   \n",
              "09/05/2015 12:45:00 PM    NARCOTICS    POSS: HEROIN(BRN/TAN)   \n",
              "09/05/2015 01:00:00 PM      ASSAULT                   SIMPLE   \n",
              "\n",
              "                       Location Description  Arrest  Domestic  Beat  ...  \\\n",
              "Date                                                                 ...   \n",
              "09/05/2015 01:30:00 PM            RESIDENCE   False      True   924  ...   \n",
              "09/04/2015 11:30:00 AM              CTA BUS   False     False  1511  ...   \n",
              "09/01/2018 12:01:00 AM            RESIDENCE   False      True   631  ...   \n",
              "09/05/2015 12:45:00 PM             SIDEWALK    True     False  1412  ...   \n",
              "09/05/2015 01:00:00 PM            APARTMENT   False      True  1522  ...   \n",
              "\n",
              "                        Ward  Community Area  FBI Code X Coordinate  \\\n",
              "Date                                                                  \n",
              "09/05/2015 01:30:00 PM  12.0            61.0       08B    1165074.0   \n",
              "09/04/2015 11:30:00 AM  29.0            25.0        06    1138875.0   \n",
              "09/01/2018 12:01:00 AM   8.0            44.0        06          NaN   \n",
              "09/05/2015 12:45:00 PM  35.0            21.0        18    1152037.0   \n",
              "09/05/2015 01:00:00 PM  28.0            25.0       08A    1141706.0   \n",
              "\n",
              "                        Y Coordinate  Year              Updated On   Latitude  \\\n",
              "Date                                                                            \n",
              "09/05/2015 01:30:00 PM     1875917.0  2015  02/10/2018 03:50:01 PM  41.815117   \n",
              "09/04/2015 11:30:00 AM     1904869.0  2015  02/10/2018 03:50:01 PM  41.895080   \n",
              "09/01/2018 12:01:00 AM           NaN  2018  04/06/2019 04:04:43 PM        NaN   \n",
              "09/05/2015 12:45:00 PM     1920384.0  2015  02/10/2018 03:50:01 PM  41.937406   \n",
              "09/05/2015 01:00:00 PM     1900086.0  2015  02/10/2018 03:50:01 PM  41.881903   \n",
              "\n",
              "                        Longitude                       Location  \n",
              "Date                                                              \n",
              "09/05/2015 01:30:00 PM -87.670000  (41.815117282, -87.669999562)  \n",
              "09/04/2015 11:30:00 AM -87.765400  (41.895080471, -87.765400451)  \n",
              "09/01/2018 12:01:00 AM        NaN                            NaN  \n",
              "09/05/2015 12:45:00 PM -87.716650  (41.937405765, -87.716649687)  \n",
              "09/05/2015 01:00:00 PM -87.755121  (41.881903443, -87.755121152)  \n",
              "\n",
              "[5 rows x 21 columns]"
            ],
            "text/html": [
              "\n",
              "  <div id=\"df-565f7b76-d01b-494b-9392-9f7c97b065ad\">\n",
              "    <div class=\"colab-df-container\">\n",
              "      <div>\n",
              "<style scoped>\n",
              "    .dataframe tbody tr th:only-of-type {\n",
              "        vertical-align: middle;\n",
              "    }\n",
              "\n",
              "    .dataframe tbody tr th {\n",
              "        vertical-align: top;\n",
              "    }\n",
              "\n",
              "    .dataframe thead th {\n",
              "        text-align: right;\n",
              "    }\n",
              "</style>\n",
              "<table border=\"1\" class=\"dataframe\">\n",
              "  <thead>\n",
              "    <tr style=\"text-align: right;\">\n",
              "      <th></th>\n",
              "      <th>ID</th>\n",
              "      <th>Case Number</th>\n",
              "      <th>Block</th>\n",
              "      <th>IUCR</th>\n",
              "      <th>Primary Type</th>\n",
              "      <th>Description</th>\n",
              "      <th>Location Description</th>\n",
              "      <th>Arrest</th>\n",
              "      <th>Domestic</th>\n",
              "      <th>Beat</th>\n",
              "      <th>...</th>\n",
              "      <th>Ward</th>\n",
              "      <th>Community Area</th>\n",
              "      <th>FBI Code</th>\n",
              "      <th>X Coordinate</th>\n",
              "      <th>Y Coordinate</th>\n",
              "      <th>Year</th>\n",
              "      <th>Updated On</th>\n",
              "      <th>Latitude</th>\n",
              "      <th>Longitude</th>\n",
              "      <th>Location</th>\n",
              "    </tr>\n",
              "    <tr>\n",
              "      <th>Date</th>\n",
              "      <th></th>\n",
              "      <th></th>\n",
              "      <th></th>\n",
              "      <th></th>\n",
              "      <th></th>\n",
              "      <th></th>\n",
              "      <th></th>\n",
              "      <th></th>\n",
              "      <th></th>\n",
              "      <th></th>\n",
              "      <th></th>\n",
              "      <th></th>\n",
              "      <th></th>\n",
              "      <th></th>\n",
              "      <th></th>\n",
              "      <th></th>\n",
              "      <th></th>\n",
              "      <th></th>\n",
              "      <th></th>\n",
              "      <th></th>\n",
              "      <th></th>\n",
              "    </tr>\n",
              "  </thead>\n",
              "  <tbody>\n",
              "    <tr>\n",
              "      <th>09/05/2015 01:30:00 PM</th>\n",
              "      <td>10224738</td>\n",
              "      <td>HY411648</td>\n",
              "      <td>043XX S WOOD ST</td>\n",
              "      <td>0486</td>\n",
              "      <td>BATTERY</td>\n",
              "      <td>DOMESTIC BATTERY SIMPLE</td>\n",
              "      <td>RESIDENCE</td>\n",
              "      <td>False</td>\n",
              "      <td>True</td>\n",
              "      <td>924</td>\n",
              "      <td>...</td>\n",
              "      <td>12.0</td>\n",
              "      <td>61.0</td>\n",
              "      <td>08B</td>\n",
              "      <td>1165074.0</td>\n",
              "      <td>1875917.0</td>\n",
              "      <td>2015</td>\n",
              "      <td>02/10/2018 03:50:01 PM</td>\n",
              "      <td>41.815117</td>\n",
              "      <td>-87.670000</td>\n",
              "      <td>(41.815117282, -87.669999562)</td>\n",
              "    </tr>\n",
              "    <tr>\n",
              "      <th>09/04/2015 11:30:00 AM</th>\n",
              "      <td>10224739</td>\n",
              "      <td>HY411615</td>\n",
              "      <td>008XX N CENTRAL AVE</td>\n",
              "      <td>0870</td>\n",
              "      <td>THEFT</td>\n",
              "      <td>POCKET-PICKING</td>\n",
              "      <td>CTA BUS</td>\n",
              "      <td>False</td>\n",
              "      <td>False</td>\n",
              "      <td>1511</td>\n",
              "      <td>...</td>\n",
              "      <td>29.0</td>\n",
              "      <td>25.0</td>\n",
              "      <td>06</td>\n",
              "      <td>1138875.0</td>\n",
              "      <td>1904869.0</td>\n",
              "      <td>2015</td>\n",
              "      <td>02/10/2018 03:50:01 PM</td>\n",
              "      <td>41.895080</td>\n",
              "      <td>-87.765400</td>\n",
              "      <td>(41.895080471, -87.765400451)</td>\n",
              "    </tr>\n",
              "    <tr>\n",
              "      <th>09/01/2018 12:01:00 AM</th>\n",
              "      <td>11646166</td>\n",
              "      <td>JC213529</td>\n",
              "      <td>082XX S INGLESIDE AVE</td>\n",
              "      <td>0810</td>\n",
              "      <td>THEFT</td>\n",
              "      <td>OVER $500</td>\n",
              "      <td>RESIDENCE</td>\n",
              "      <td>False</td>\n",
              "      <td>True</td>\n",
              "      <td>631</td>\n",
              "      <td>...</td>\n",
              "      <td>8.0</td>\n",
              "      <td>44.0</td>\n",
              "      <td>06</td>\n",
              "      <td>NaN</td>\n",
              "      <td>NaN</td>\n",
              "      <td>2018</td>\n",
              "      <td>04/06/2019 04:04:43 PM</td>\n",
              "      <td>NaN</td>\n",
              "      <td>NaN</td>\n",
              "      <td>NaN</td>\n",
              "    </tr>\n",
              "    <tr>\n",
              "      <th>09/05/2015 12:45:00 PM</th>\n",
              "      <td>10224740</td>\n",
              "      <td>HY411595</td>\n",
              "      <td>035XX W BARRY AVE</td>\n",
              "      <td>2023</td>\n",
              "      <td>NARCOTICS</td>\n",
              "      <td>POSS: HEROIN(BRN/TAN)</td>\n",
              "      <td>SIDEWALK</td>\n",
              "      <td>True</td>\n",
              "      <td>False</td>\n",
              "      <td>1412</td>\n",
              "      <td>...</td>\n",
              "      <td>35.0</td>\n",
              "      <td>21.0</td>\n",
              "      <td>18</td>\n",
              "      <td>1152037.0</td>\n",
              "      <td>1920384.0</td>\n",
              "      <td>2015</td>\n",
              "      <td>02/10/2018 03:50:01 PM</td>\n",
              "      <td>41.937406</td>\n",
              "      <td>-87.716650</td>\n",
              "      <td>(41.937405765, -87.716649687)</td>\n",
              "    </tr>\n",
              "    <tr>\n",
              "      <th>09/05/2015 01:00:00 PM</th>\n",
              "      <td>10224741</td>\n",
              "      <td>HY411610</td>\n",
              "      <td>0000X N LARAMIE AVE</td>\n",
              "      <td>0560</td>\n",
              "      <td>ASSAULT</td>\n",
              "      <td>SIMPLE</td>\n",
              "      <td>APARTMENT</td>\n",
              "      <td>False</td>\n",
              "      <td>True</td>\n",
              "      <td>1522</td>\n",
              "      <td>...</td>\n",
              "      <td>28.0</td>\n",
              "      <td>25.0</td>\n",
              "      <td>08A</td>\n",
              "      <td>1141706.0</td>\n",
              "      <td>1900086.0</td>\n",
              "      <td>2015</td>\n",
              "      <td>02/10/2018 03:50:01 PM</td>\n",
              "      <td>41.881903</td>\n",
              "      <td>-87.755121</td>\n",
              "      <td>(41.881903443, -87.755121152)</td>\n",
              "    </tr>\n",
              "  </tbody>\n",
              "</table>\n",
              "<p>5 rows × 21 columns</p>\n",
              "</div>\n",
              "      <button class=\"colab-df-convert\" onclick=\"convertToInteractive('df-565f7b76-d01b-494b-9392-9f7c97b065ad')\"\n",
              "              title=\"Convert this dataframe to an interactive table.\"\n",
              "              style=\"display:none;\">\n",
              "        \n",
              "  <svg xmlns=\"http://www.w3.org/2000/svg\" height=\"24px\"viewBox=\"0 0 24 24\"\n",
              "       width=\"24px\">\n",
              "    <path d=\"M0 0h24v24H0V0z\" fill=\"none\"/>\n",
              "    <path d=\"M18.56 5.44l.94 2.06.94-2.06 2.06-.94-2.06-.94-.94-2.06-.94 2.06-2.06.94zm-11 1L8.5 8.5l.94-2.06 2.06-.94-2.06-.94L8.5 2.5l-.94 2.06-2.06.94zm10 10l.94 2.06.94-2.06 2.06-.94-2.06-.94-.94-2.06-.94 2.06-2.06.94z\"/><path d=\"M17.41 7.96l-1.37-1.37c-.4-.4-.92-.59-1.43-.59-.52 0-1.04.2-1.43.59L10.3 9.45l-7.72 7.72c-.78.78-.78 2.05 0 2.83L4 21.41c.39.39.9.59 1.41.59.51 0 1.02-.2 1.41-.59l7.78-7.78 2.81-2.81c.8-.78.8-2.07 0-2.86zM5.41 20L4 18.59l7.72-7.72 1.47 1.35L5.41 20z\"/>\n",
              "  </svg>\n",
              "      </button>\n",
              "      \n",
              "  <style>\n",
              "    .colab-df-container {\n",
              "      display:flex;\n",
              "      flex-wrap:wrap;\n",
              "      gap: 12px;\n",
              "    }\n",
              "\n",
              "    .colab-df-convert {\n",
              "      background-color: #E8F0FE;\n",
              "      border: none;\n",
              "      border-radius: 50%;\n",
              "      cursor: pointer;\n",
              "      display: none;\n",
              "      fill: #1967D2;\n",
              "      height: 32px;\n",
              "      padding: 0 0 0 0;\n",
              "      width: 32px;\n",
              "    }\n",
              "\n",
              "    .colab-df-convert:hover {\n",
              "      background-color: #E2EBFA;\n",
              "      box-shadow: 0px 1px 2px rgba(60, 64, 67, 0.3), 0px 1px 3px 1px rgba(60, 64, 67, 0.15);\n",
              "      fill: #174EA6;\n",
              "    }\n",
              "\n",
              "    [theme=dark] .colab-df-convert {\n",
              "      background-color: #3B4455;\n",
              "      fill: #D2E3FC;\n",
              "    }\n",
              "\n",
              "    [theme=dark] .colab-df-convert:hover {\n",
              "      background-color: #434B5C;\n",
              "      box-shadow: 0px 1px 3px 1px rgba(0, 0, 0, 0.15);\n",
              "      filter: drop-shadow(0px 1px 2px rgba(0, 0, 0, 0.3));\n",
              "      fill: #FFFFFF;\n",
              "    }\n",
              "  </style>\n",
              "\n",
              "      <script>\n",
              "        const buttonEl =\n",
              "          document.querySelector('#df-565f7b76-d01b-494b-9392-9f7c97b065ad button.colab-df-convert');\n",
              "        buttonEl.style.display =\n",
              "          google.colab.kernel.accessAllowed ? 'block' : 'none';\n",
              "\n",
              "        async function convertToInteractive(key) {\n",
              "          const element = document.querySelector('#df-565f7b76-d01b-494b-9392-9f7c97b065ad');\n",
              "          const dataTable =\n",
              "            await google.colab.kernel.invokeFunction('convertToInteractive',\n",
              "                                                     [key], {});\n",
              "          if (!dataTable) return;\n",
              "\n",
              "          const docLinkHtml = 'Like what you see? Visit the ' +\n",
              "            '<a target=\"_blank\" href=https://colab.research.google.com/notebooks/data_table.ipynb>data table notebook</a>'\n",
              "            + ' to learn more about interactive tables.';\n",
              "          element.innerHTML = '';\n",
              "          dataTable['output_type'] = 'display_data';\n",
              "          await google.colab.output.renderOutput(dataTable, element);\n",
              "          const docLink = document.createElement('div');\n",
              "          docLink.innerHTML = docLinkHtml;\n",
              "          element.appendChild(docLink);\n",
              "        }\n",
              "      </script>\n",
              "    </div>\n",
              "  </div>\n",
              "  "
            ]
          },
          "metadata": {},
          "execution_count": 11
        }
      ],
      "source": [
        "crime_df.head()"
      ]
    },
    {
      "cell_type": "code",
      "execution_count": 12,
      "metadata": {
        "id": "ca1rVn4F5a41"
      },
      "outputs": [],
      "source": [
        "# more than 70 lakh records are there. I will scope the data only from 2011\n",
        "crime_df = crime_df[crime_df['Year'] >= 2010]"
      ]
    },
    {
      "cell_type": "code",
      "execution_count": 13,
      "metadata": {
        "colab": {
          "base_uri": "https://localhost:8080/"
        },
        "id": "hfdbAXcR546J",
        "outputId": "44eafb16-eb1e-403d-f1d5-8b4c7ec2ffda"
      },
      "outputs": [
        {
          "output_type": "execute_result",
          "data": {
            "text/plain": [
              "(3369018, 21)"
            ]
          },
          "metadata": {},
          "execution_count": 13
        }
      ],
      "source": [
        "crime_df.shape"
      ]
    },
    {
      "cell_type": "markdown",
      "metadata": {
        "id": "5TvHY-4w9LMa"
      },
      "source": [
        "**Visualizing Criminal Activity**\n"
      ]
    },
    {
      "cell_type": "code",
      "execution_count": 14,
      "metadata": {
        "colab": {
          "base_uri": "https://localhost:8080/",
          "height": 653
        },
        "id": "YHE0V9a5_v7Y",
        "outputId": "405f7854-a171-49ed-ac0b-7cacfdb14ccc"
      },
      "outputs": [
        {
          "output_type": "stream",
          "name": "stdout",
          "text": [
            "Year\n",
            "2011    351925\n",
            "2012    336208\n",
            "2013    307391\n",
            "2014    275658\n",
            "2015    264609\n",
            "2016    269643\n",
            "2017    268876\n",
            "2018    268495\n",
            "2019    260862\n",
            "2020    211430\n",
            "2021    183476\n",
            "dtype: int64\n"
          ]
        },
        {
          "output_type": "display_data",
          "data": {
            "text/plain": [
              "<Figure size 936x432 with 1 Axes>"
            ],
            "image/png": "[encoded data removed]"
          },
          "metadata": {
            "needs_background": "light"
          }
        }
      ],
      "source": [
        "# Creating a Countplot to view yearwise criminal activity\n",
        "crime_df = crime_df[crime_df['Year'] > 2010]\n",
        "yearwise_total_crime = crime_df.groupby('Year').size()\n",
        "print(yearwise_total_crime)\n",
        "\n",
        "plt.figure(figsize=(13,6))\n",
        "ct = yearwise_total_crime.sort_values(ascending=True)\n",
        "ax = ct.plot.line()\n",
        "ax.set_xlabel('Year')\n",
        "ax.set_ylabel('Total Number of Criminal Cases throughout 2011 to 2021')\n",
        "ax.set_title('Yearwise total Criminal Cases throughout 2011 to 2021',color = 'red',fontsize=25)\n",
        "ax.grid(linestyle='-')\n",
        "plt.show()"
      ]
    },
    {
      "cell_type": "code",
      "execution_count": 15,
      "metadata": {
        "id": "RW3aRJlf71RE"
      },
      "outputs": [],
      "source": [
        "primaryVisualizeDF = crime_df.groupby('Primary Type').size()"
      ]
    },
    {
      "cell_type": "code",
      "execution_count": 16,
      "metadata": {
        "colab": {
          "base_uri": "https://localhost:8080/",
          "height": 36
        },
        "id": "qqIKymAA79-x",
        "outputId": "bc84e420-c44f-47d4-f7a1-4f0ce64d41f7"
      },
      "outputs": [
        {
          "output_type": "execute_result",
          "data": {
            "text/plain": [
              "\"\\nprimaryVisualizeDF.plot.bar(figsize = (18,18))\\nplt.xlabel('Primary Crime Type', fontsize=4, color = 'red')\\nplt.legend()\\n\""
            ],
            "application/vnd.google.colaboratory.intrinsic+json": {
              "type": "string"
            }
          },
          "metadata": {},
          "execution_count": 16
        }
      ],
      "source": [
        "'''\n",
        "primaryVisualizeDF.plot.bar(figsize = (18,18))\n",
        "plt.xlabel('Primary Crime Type', fontsize=4, color = 'red')\n",
        "plt.legend()\n",
        "'''"
      ]
    },
    {
      "cell_type": "markdown",
      "metadata": {
        "id": "iWhY1YEX9SLX"
      },
      "source": [
        "Location\n",
        "Let's see the distribution of crime"
      ]
    },
    {
      "cell_type": "code",
      "execution_count": 17,
      "metadata": {
        "colab": {
          "base_uri": "https://localhost:8080/",
          "height": 283
        },
        "id": "DqXJty1b9UzR",
        "outputId": "45d6cbf5-4a02-46a5-ac9a-3d12b3d3270f"
      },
      "outputs": [
        {
          "output_type": "execute_result",
          "data": {
            "text/plain": [
              "<matplotlib.image.AxesImage at 0x7f81007b81d0>"
            ]
          },
          "metadata": {},
          "execution_count": 17
        },
        {
          "output_type": "display_data",
          "data": {
            "text/plain": [
              "<Figure size 432x288 with 1 Axes>"
            ],
            "image/png": "[encoded data removed]"
          },
          "metadata": {
            "needs_background": "light"
          }
        }
      ],
      "source": [
        "crime_df_loc = crime_df[crime_df['X Coordinate'] > 0]\n",
        "histo, xedges, yedges = np.histogram2d(np.array(crime_df_loc['X Coordinate']), np.array(crime_df_loc['Y Coordinate']), bins=(500,500))\n",
        "plt.imshow(histo.T, origin='slow', norm = LogNorm())"
      ]
    },
    {
      "cell_type": "code",
      "execution_count": 18,
      "metadata": {
        "colab": {
          "base_uri": "https://localhost:8080/",
          "height": 824
        },
        "id": "mgbtt85-9o4A",
        "outputId": "d8e4fd5c-60f0-4448-fe90-a2ed6d32c8a9"
      },
      "outputs": [
        {
          "output_type": "display_data",
          "data": {
            "text/plain": [
              "<Figure size 1440x1440 with 11 Axes>"
            ],
            "image/png": "[encoded data removed]"
          },
          "metadata": {
            "needs_background": "light"
          }
        }
      ],
      "source": [
        "groups = crime_df_loc.groupby('Year')\n",
        "plt.figure(figsize = (20, 20))\n",
        "ii = 1\n",
        "for name, grp in groups:\n",
        "    plt.subplot(4,5,ii)\n",
        "    histo, xedges, yedges = np.histogram2d(np.array(grp['X Coordinate']), np.array(grp['Y Coordinate']), bins=(140,140))\n",
        "    plt.imshow(histo.T, origin='low', norm = LogNorm())\n",
        "    plt.title(name)\n",
        "    ii+=1"
      ]
    },
    {
      "cell_type": "code",
      "execution_count": 19,
      "metadata": {
        "colab": {
          "base_uri": "https://localhost:8080/",
          "height": 363
        },
        "id": "qAVFQSQUvkTS",
        "outputId": "48044dbb-b9ce-4c3f-f668-434f11f32c68"
      },
      "outputs": [
        {
          "output_type": "execute_result",
          "data": {
            "text/plain": [
              "          Primary Type  counts\n",
              "0                THEFT  671465\n",
              "1              BATTERY  548776\n",
              "2      CRIMINAL DAMAGE  322522\n",
              "3            NARCOTICS  226178\n",
              "4              ASSAULT  207903\n",
              "5        OTHER OFFENSE  183822\n",
              "6   DECEPTIVE PRACTICE  182284\n",
              "7             BURGLARY  158297\n",
              "8  MOTOR VEHICLE THEFT  129219\n",
              "9              ROBBERY  114966"
            ],
            "text/html": [
              "\n",
              "  <div id=\"df-d3284f66-e033-4622-a16e-3644a2cb3efe\">\n",
              "    <div class=\"colab-df-container\">\n",
              "      <div>\n",
              "<style scoped>\n",
              "    .dataframe tbody tr th:only-of-type {\n",
              "        vertical-align: middle;\n",
              "    }\n",
              "\n",
              "    .dataframe tbody tr th {\n",
              "        vertical-align: top;\n",
              "    }\n",
              "\n",
              "    .dataframe thead th {\n",
              "        text-align: right;\n",
              "    }\n",
              "</style>\n",
              "<table border=\"1\" class=\"dataframe\">\n",
              "  <thead>\n",
              "    <tr style=\"text-align: right;\">\n",
              "      <th></th>\n",
              "      <th>Primary Type</th>\n",
              "      <th>counts</th>\n",
              "    </tr>\n",
              "  </thead>\n",
              "  <tbody>\n",
              "    <tr>\n",
              "      <th>0</th>\n",
              "      <td>THEFT</td>\n",
              "      <td>671465</td>\n",
              "    </tr>\n",
              "    <tr>\n",
              "      <th>1</th>\n",
              "      <td>BATTERY</td>\n",
              "      <td>548776</td>\n",
              "    </tr>\n",
              "    <tr>\n",
              "      <th>2</th>\n",
              "      <td>CRIMINAL DAMAGE</td>\n",
              "      <td>322522</td>\n",
              "    </tr>\n",
              "    <tr>\n",
              "      <th>3</th>\n",
              "      <td>NARCOTICS</td>\n",
              "      <td>226178</td>\n",
              "    </tr>\n",
              "    <tr>\n",
              "      <th>4</th>\n",
              "      <td>ASSAULT</td>\n",
              "      <td>207903</td>\n",
              "    </tr>\n",
              "    <tr>\n",
              "      <th>5</th>\n",
              "      <td>OTHER OFFENSE</td>\n",
              "      <td>183822</td>\n",
              "    </tr>\n",
              "    <tr>\n",
              "      <th>6</th>\n",
              "      <td>DECEPTIVE PRACTICE</td>\n",
              "      <td>182284</td>\n",
              "    </tr>\n",
              "    <tr>\n",
              "      <th>7</th>\n",
              "      <td>BURGLARY</td>\n",
              "      <td>158297</td>\n",
              "    </tr>\n",
              "    <tr>\n",
              "      <th>8</th>\n",
              "      <td>MOTOR VEHICLE THEFT</td>\n",
              "      <td>129219</td>\n",
              "    </tr>\n",
              "    <tr>\n",
              "      <th>9</th>\n",
              "      <td>ROBBERY</td>\n",
              "      <td>114966</td>\n",
              "    </tr>\n",
              "  </tbody>\n",
              "</table>\n",
              "</div>\n",
              "      <button class=\"colab-df-convert\" onclick=\"convertToInteractive('df-d3284f66-e033-4622-a16e-3644a2cb3efe')\"\n",
              "              title=\"Convert this dataframe to an interactive table.\"\n",
              "              style=\"display:none;\">\n",
              "        \n",
              "  <svg xmlns=\"http://www.w3.org/2000/svg\" height=\"24px\"viewBox=\"0 0 24 24\"\n",
              "       width=\"24px\">\n",
              "    <path d=\"M0 0h24v24H0V0z\" fill=\"none\"/>\n",
              "    <path d=\"M18.56 5.44l.94 2.06.94-2.06 2.06-.94-2.06-.94-.94-2.06-.94 2.06-2.06.94zm-11 1L8.5 8.5l.94-2.06 2.06-.94-2.06-.94L8.5 2.5l-.94 2.06-2.06.94zm10 10l.94 2.06.94-2.06 2.06-.94-2.06-.94-.94-2.06-.94 2.06-2.06.94z\"/><path d=\"M17.41 7.96l-1.37-1.37c-.4-.4-.92-.59-1.43-.59-.52 0-1.04.2-1.43.59L10.3 9.45l-7.72 7.72c-.78.78-.78 2.05 0 2.83L4 21.41c.39.39.9.59 1.41.59.51 0 1.02-.2 1.41-.59l7.78-7.78 2.81-2.81c.8-.78.8-2.07 0-2.86zM5.41 20L4 18.59l7.72-7.72 1.47 1.35L5.41 20z\"/>\n",
              "  </svg>\n",
              "      </button>\n",
              "      \n",
              "  <style>\n",
              "    .colab-df-container {\n",
              "      display:flex;\n",
              "      flex-wrap:wrap;\n",
              "      gap: 12px;\n",
              "    }\n",
              "\n",
              "    .colab-df-convert {\n",
              "      background-color: #E8F0FE;\n",
              "      border: none;\n",
              "      border-radius: 50%;\n",
              "      cursor: pointer;\n",
              "      display: none;\n",
              "      fill: #1967D2;\n",
              "      height: 32px;\n",
              "      padding: 0 0 0 0;\n",
              "      width: 32px;\n",
              "    }\n",
              "\n",
              "    .colab-df-convert:hover {\n",
              "      background-color: #E2EBFA;\n",
              "      box-shadow: 0px 1px 2px rgba(60, 64, 67, 0.3), 0px 1px 3px 1px rgba(60, 64, 67, 0.15);\n",
              "      fill: #174EA6;\n",
              "    }\n",
              "\n",
              "    [theme=dark] .colab-df-convert {\n",
              "      background-color: #3B4455;\n",
              "      fill: #D2E3FC;\n",
              "    }\n",
              "\n",
              "    [theme=dark] .colab-df-convert:hover {\n",
              "      background-color: #434B5C;\n",
              "      box-shadow: 0px 1px 3px 1px rgba(0, 0, 0, 0.15);\n",
              "      filter: drop-shadow(0px 1px 2px rgba(0, 0, 0, 0.3));\n",
              "      fill: #FFFFFF;\n",
              "    }\n",
              "  </style>\n",
              "\n",
              "      <script>\n",
              "        const buttonEl =\n",
              "          document.querySelector('#df-d3284f66-e033-4622-a16e-3644a2cb3efe button.colab-df-convert');\n",
              "        buttonEl.style.display =\n",
              "          google.colab.kernel.accessAllowed ? 'block' : 'none';\n",
              "\n",
              "        async function convertToInteractive(key) {\n",
              "          const element = document.querySelector('#df-d3284f66-e033-4622-a16e-3644a2cb3efe');\n",
              "          const dataTable =\n",
              "            await google.colab.kernel.invokeFunction('convertToInteractive',\n",
              "                                                     [key], {});\n",
              "          if (!dataTable) return;\n",
              "\n",
              "          const docLinkHtml = 'Like what you see? Visit the ' +\n",
              "            '<a target=\"_blank\" href=https://colab.research.google.com/notebooks/data_table.ipynb>data table notebook</a>'\n",
              "            + ' to learn more about interactive tables.';\n",
              "          element.innerHTML = '';\n",
              "          dataTable['output_type'] = 'display_data';\n",
              "          await google.colab.output.renderOutput(dataTable, element);\n",
              "          const docLink = document.createElement('div');\n",
              "          docLink.innerHTML = docLinkHtml;\n",
              "          element.appendChild(docLink);\n",
              "        }\n",
              "      </script>\n",
              "    </div>\n",
              "  </div>\n",
              "  "
            ]
          },
          "metadata": {},
          "execution_count": 19
        }
      ],
      "source": [
        "primtyp = crime_df[['Primary Type']]\n",
        "crime_counts11_21 = pd.DataFrame(primtyp.groupby('Primary Type').size().sort_values(ascending=False).rename('counts').reset_index()).head(10)\n",
        "crime_counts11_21"
      ]
    },
    {
      "cell_type": "code",
      "execution_count": 20,
      "metadata": {
        "colab": {
          "base_uri": "https://localhost:8080/",
          "height": 363
        },
        "id": "qyXiGD0ft9dN",
        "outputId": "4f6458e2-53e3-4c99-a51f-c064595a3669"
      },
      "outputs": [
        {
          "output_type": "execute_result",
          "data": {
            "text/plain": [
              "             Location Description  counts\n",
              "0                          STREET  684868\n",
              "1                       RESIDENCE  494626\n",
              "2                       APARTMENT  405853\n",
              "3                        SIDEWALK  288408\n",
              "4                           OTHER  101779\n",
              "5  PARKING LOT/GARAGE(NON.RESID.)   76265\n",
              "6              SMALL RETAIL STORE   65537\n",
              "7                           ALLEY   63636\n",
              "8                      RESTAURANT   58610\n",
              "9   RESIDENTIAL YARD (FRONT/BACK)   53164"
            ],
            "text/html": [
              "\n",
              "  <div id=\"df-395db5e2-e13f-407d-9648-2fc170b118f1\">\n",
              "    <div class=\"colab-df-container\">\n",
              "      <div>\n",
              "<style scoped>\n",
              "    .dataframe tbody tr th:only-of-type {\n",
              "        vertical-align: middle;\n",
              "    }\n",
              "\n",
              "    .dataframe tbody tr th {\n",
              "        vertical-align: top;\n",
              "    }\n",
              "\n",
              "    .dataframe thead th {\n",
              "        text-align: right;\n",
              "    }\n",
              "</style>\n",
              "<table border=\"1\" class=\"dataframe\">\n",
              "  <thead>\n",
              "    <tr style=\"text-align: right;\">\n",
              "      <th></th>\n",
              "      <th>Location Description</th>\n",
              "      <th>counts</th>\n",
              "    </tr>\n",
              "  </thead>\n",
              "  <tbody>\n",
              "    <tr>\n",
              "      <th>0</th>\n",
              "      <td>STREET</td>\n",
              "      <td>684868</td>\n",
              "    </tr>\n",
              "    <tr>\n",
              "      <th>1</th>\n",
              "      <td>RESIDENCE</td>\n",
              "      <td>494626</td>\n",
              "    </tr>\n",
              "    <tr>\n",
              "      <th>2</th>\n",
              "      <td>APARTMENT</td>\n",
              "      <td>405853</td>\n",
              "    </tr>\n",
              "    <tr>\n",
              "      <th>3</th>\n",
              "      <td>SIDEWALK</td>\n",
              "      <td>288408</td>\n",
              "    </tr>\n",
              "    <tr>\n",
              "      <th>4</th>\n",
              "      <td>OTHER</td>\n",
              "      <td>101779</td>\n",
              "    </tr>\n",
              "    <tr>\n",
              "      <th>5</th>\n",
              "      <td>PARKING LOT/GARAGE(NON.RESID.)</td>\n",
              "      <td>76265</td>\n",
              "    </tr>\n",
              "    <tr>\n",
              "      <th>6</th>\n",
              "      <td>SMALL RETAIL STORE</td>\n",
              "      <td>65537</td>\n",
              "    </tr>\n",
              "    <tr>\n",
              "      <th>7</th>\n",
              "      <td>ALLEY</td>\n",
              "      <td>63636</td>\n",
              "    </tr>\n",
              "    <tr>\n",
              "      <th>8</th>\n",
              "      <td>RESTAURANT</td>\n",
              "      <td>58610</td>\n",
              "    </tr>\n",
              "    <tr>\n",
              "      <th>9</th>\n",
              "      <td>RESIDENTIAL YARD (FRONT/BACK)</td>\n",
              "      <td>53164</td>\n",
              "    </tr>\n",
              "  </tbody>\n",
              "</table>\n",
              "</div>\n",
              "      <button class=\"colab-df-convert\" onclick=\"convertToInteractive('df-395db5e2-e13f-407d-9648-2fc170b118f1')\"\n",
              "              title=\"Convert this dataframe to an interactive table.\"\n",
              "              style=\"display:none;\">\n",
              "        \n",
              "  <svg xmlns=\"http://www.w3.org/2000/svg\" height=\"24px\"viewBox=\"0 0 24 24\"\n",
              "       width=\"24px\">\n",
              "    <path d=\"M0 0h24v24H0V0z\" fill=\"none\"/>\n",
              "    <path d=\"M18.56 5.44l.94 2.06.94-2.06 2.06-.94-2.06-.94-.94-2.06-.94 2.06-2.06.94zm-11 1L8.5 8.5l.94-2.06 2.06-.94-2.06-.94L8.5 2.5l-.94 2.06-2.06.94zm10 10l.94 2.06.94-2.06 2.06-.94-2.06-.94-.94-2.06-.94 2.06-2.06.94z\"/><path d=\"M17.41 7.96l-1.37-1.37c-.4-.4-.92-.59-1.43-.59-.52 0-1.04.2-1.43.59L10.3 9.45l-7.72 7.72c-.78.78-.78 2.05 0 2.83L4 21.41c.39.39.9.59 1.41.59.51 0 1.02-.2 1.41-.59l7.78-7.78 2.81-2.81c.8-.78.8-2.07 0-2.86zM5.41 20L4 18.59l7.72-7.72 1.47 1.35L5.41 20z\"/>\n",
              "  </svg>\n",
              "      </button>\n",
              "      \n",
              "  <style>\n",
              "    .colab-df-container {\n",
              "      display:flex;\n",
              "      flex-wrap:wrap;\n",
              "      gap: 12px;\n",
              "    }\n",
              "\n",
              "    .colab-df-convert {\n",
              "      background-color: #E8F0FE;\n",
              "      border: none;\n",
              "      border-radius: 50%;\n",
              "      cursor: pointer;\n",
              "      display: none;\n",
              "      fill: #1967D2;\n",
              "      height: 32px;\n",
              "      padding: 0 0 0 0;\n",
              "      width: 32px;\n",
              "    }\n",
              "\n",
              "    .colab-df-convert:hover {\n",
              "      background-color: #E2EBFA;\n",
              "      box-shadow: 0px 1px 2px rgba(60, 64, 67, 0.3), 0px 1px 3px 1px rgba(60, 64, 67, 0.15);\n",
              "      fill: #174EA6;\n",
              "    }\n",
              "\n",
              "    [theme=dark] .colab-df-convert {\n",
              "      background-color: #3B4455;\n",
              "      fill: #D2E3FC;\n",
              "    }\n",
              "\n",
              "    [theme=dark] .colab-df-convert:hover {\n",
              "      background-color: #434B5C;\n",
              "      box-shadow: 0px 1px 3px 1px rgba(0, 0, 0, 0.15);\n",
              "      filter: drop-shadow(0px 1px 2px rgba(0, 0, 0, 0.3));\n",
              "      fill: #FFFFFF;\n",
              "    }\n",
              "  </style>\n",
              "\n",
              "      <script>\n",
              "        const buttonEl =\n",
              "          document.querySelector('#df-395db5e2-e13f-407d-9648-2fc170b118f1 button.colab-df-convert');\n",
              "        buttonEl.style.display =\n",
              "          google.colab.kernel.accessAllowed ? 'block' : 'none';\n",
              "\n",
              "        async function convertToInteractive(key) {\n",
              "          const element = document.querySelector('#df-395db5e2-e13f-407d-9648-2fc170b118f1');\n",
              "          const dataTable =\n",
              "            await google.colab.kernel.invokeFunction('convertToInteractive',\n",
              "                                                     [key], {});\n",
              "          if (!dataTable) return;\n",
              "\n",
              "          const docLinkHtml = 'Like what you see? Visit the ' +\n",
              "            '<a target=\"_blank\" href=https://colab.research.google.com/notebooks/data_table.ipynb>data table notebook</a>'\n",
              "            + ' to learn more about interactive tables.';\n",
              "          element.innerHTML = '';\n",
              "          dataTable['output_type'] = 'display_data';\n",
              "          await google.colab.output.renderOutput(dataTable, element);\n",
              "          const docLink = document.createElement('div');\n",
              "          docLink.innerHTML = docLinkHtml;\n",
              "          element.appendChild(docLink);\n",
              "        }\n",
              "      </script>\n",
              "    </div>\n",
              "  </div>\n",
              "  "
            ]
          },
          "metadata": {},
          "execution_count": 20
        }
      ],
      "source": [
        "loc11_21 = crime_df[['Location Description']]\n",
        "locations = pd.DataFrame(loc11_21.groupby('Location Description').size().sort_values(ascending=False).rename('counts').reset_index()).head(10)\n",
        "locations"
      ]
    },
    {
      "cell_type": "code",
      "execution_count": 21,
      "metadata": {
        "colab": {
          "base_uri": "https://localhost:8080/",
          "height": 515
        },
        "id": "OLoG1DOytrG6",
        "outputId": "456717a5-883c-4339-e2d4-3dfd3c886cd3"
      },
      "outputs": [
        {
          "output_type": "execute_result",
          "data": {
            "text/plain": [
              "<matplotlib.axes._subplots.AxesSubplot at 0x7f81304d5310>"
            ]
          },
          "metadata": {},
          "execution_count": 21
        },
        {
          "output_type": "display_data",
          "data": {
            "text/plain": [
              "<Figure size 576x576 with 1 Axes>"
            ],
            "image/png": "[encoded data removed]"
          },
          "metadata": {
            "needs_background": "light"
          }
        }
      ],
      "source": [
        "import seaborn as sns\n",
        "plt.figure(figsize=(8,8))\n",
        "#f, ax = plt.subplots(2,2)\n",
        "\n",
        "sns.barplot(x=\"counts\", y=\"Location Description\", data=locations,\n",
        "            label=\"Total\", color=\"grey\")"
      ]
    },
    {
      "cell_type": "markdown",
      "metadata": {
        "id": "cRCGPygU3OI6"
      },
      "source": [
        "**Primary Type**\n",
        "\n",
        "\n",
        "Now let's see the different types of crime committed."
      ]
    },
    {
      "cell_type": "code",
      "execution_count": 22,
      "metadata": {
        "colab": {
          "base_uri": "https://localhost:8080/"
        },
        "id": "ayY7nNiF3RjT",
        "outputId": "bf7a46e4-239d-4756-870c-b995aa0fe21c"
      },
      "outputs": [
        {
          "output_type": "stream",
          "name": "stderr",
          "text": [
            "/usr/local/lib/python3.7/dist-packages/ipykernel_launcher.py:2: SettingWithCopyWarning: \n",
            "A value is trying to be set on a copy of a slice from a DataFrame\n",
            "\n",
            "See the caveats in the documentation: https://pandas.pydata.org/pandas-docs/stable/user_guide/indexing.html#returning-a-view-versus-a-copy\n",
            "  \n"
          ]
        },
        {
          "output_type": "execute_result",
          "data": {
            "text/plain": [
              "THEFT                                671465\n",
              "BATTERY                              548776\n",
              "CRIMINAL DAMAGE                      322522\n",
              "NARCOTICS                            226178\n",
              "ASSAULT                              207903\n",
              "OTHER OFFENSE                        183822\n",
              "DECEPTIVE PRACTICE                   182284\n",
              "BURGLARY                             158297\n",
              "MOTOR VEHICLE THEFT                  129219\n",
              "ROBBERY                              114966\n",
              "CRIMINAL TRESPASS                     73026\n",
              "WEAPONS VIOLATION                     54044\n",
              "OFFENSE INVOLVING CHILDREN            25056\n",
              "PUBLIC PEACE VIOLATION                22370\n",
              "PROSTITUTION                          12511\n",
              "CRIM SEXUAL ASSAULT                   12324\n",
              "INTERFERENCE WITH PUBLIC OFFICER      12072\n",
              "SEX OFFENSE                           11733\n",
              "HOMICIDE                               6407\n",
              "ARSON                                  4948\n",
              "CRIMINAL SEXUAL ASSAULT                3852\n",
              "LIQUOR LAW VIOLATION                   3564\n",
              "GAMBLING                               3520\n",
              "STALKING                               2161\n",
              "KIDNAPPING                             2091\n",
              "INTIMIDATION                           1581\n",
              "CONCEALED CARRY LICENSE VIOLATION       835\n",
              "OBSCENITY                               563\n",
              "NON-CRIMINAL                            219\n",
              "PUBLIC INDECENCY                        121\n",
              "HUMAN TRAFFICKING                        79\n",
              "OTHER NARCOTIC VIOLATION                 63\n",
              "RITUALISM                                 1\n",
              "Name: Primary Type, dtype: int64"
            ]
          },
          "metadata": {},
          "execution_count": 22
        }
      ],
      "source": [
        "crime_df['Primary Type'][crime_df['Primary Type'] == 'NON - CRIMINAL'] = 'NON-CRIMINAL'\n",
        "crime_df['Primary Type'][crime_df['Primary Type'] == 'NON-CRIMINAL (SUBJECT SPECIFIED)'] = 'NON-CRIMINAL'\n",
        "crime_df['Primary Type'].value_counts()"
      ]
    },
    {
      "cell_type": "markdown",
      "metadata": {
        "id": "nNaX6e1Q3eaD"
      },
      "source": [
        "Graphical representation\n"
      ]
    },
    {
      "cell_type": "code",
      "execution_count": 23,
      "metadata": {
        "colab": {
          "base_uri": "https://localhost:8080/",
          "height": 610
        },
        "id": "tBeUQmCt3c91",
        "outputId": "676bf847-3970-412f-ea7f-51f5fd1a6bc2"
      },
      "outputs": [
        {
          "output_type": "execute_result",
          "data": {
            "text/plain": [
              "<matplotlib.axes._subplots.AxesSubplot at 0x7f812fd69590>"
            ]
          },
          "metadata": {},
          "execution_count": 23
        },
        {
          "output_type": "display_data",
          "data": {
            "text/plain": [
              "<Figure size 864x720 with 1 Axes>"
            ],
            "image/png": "[encoded data removed]"
          },
          "metadata": {
            "needs_background": "light"
          }
        }
      ],
      "source": [
        "crime_df['Primary Type'].value_counts().plot(kind = 'barh', figsize = (12,10))"
      ]
    },
    {
      "cell_type": "markdown",
      "metadata": {
        "id": "FbSW_Yed30rG"
      },
      "source": [
        "Next, a graphical representation of top 5 crimes with the descriptions to get a better idea of what those are"
      ]
    },
    {
      "cell_type": "code",
      "execution_count": 24,
      "metadata": {
        "colab": {
          "base_uri": "https://localhost:8080/",
          "height": 1000
        },
        "id": "4j0BZhJc39OW",
        "outputId": "df8456ee-6795-41bc-ebcf-88a8f4e89a88"
      },
      "outputs": [
        {
          "output_type": "display_data",
          "data": {
            "text/plain": [
              "<Figure size 1080x1440 with 5 Axes>"
            ],
            "image/png": "[encoded data removed]"
          },
          "metadata": {
            "needs_background": "light"
          }
        }
      ],
      "source": [
        "groups = [crime_df[crime_df['Primary Type'] == x] for x in crime_df['Primary Type'].value_counts()[:5].index]\n",
        "plt.figure(figsize = (15, 20))\n",
        "\n",
        "ii = 1\n",
        "for name, grp in zip(crime_df['Primary Type'].value_counts()[:5].index,groups):\n",
        "    plt.subplot(5,1,ii)\n",
        "    grp['Description'].value_counts()[:10].plot(kind = 'barh')\n",
        "    plt.title(name)\n",
        "    ii+=1\n",
        "plt.tight_layout()"
      ]
    },
    {
      "cell_type": "markdown",
      "metadata": {
        "id": "MlKW1gXi4J3A"
      },
      "source": [
        "**Arrest**"
      ]
    },
    {
      "cell_type": "code",
      "execution_count": 25,
      "metadata": {
        "colab": {
          "base_uri": "https://localhost:8080/",
          "height": 310
        },
        "id": "pbT-Hgjf4Lmf",
        "outputId": "91b6aa1f-1fc5-4745-84e3-4636904f8d13"
      },
      "outputs": [
        {
          "output_type": "execute_result",
          "data": {
            "text/plain": [
              "<matplotlib.axes._subplots.AxesSubplot at 0x7f80a667a590>"
            ]
          },
          "metadata": {},
          "execution_count": 25
        },
        {
          "output_type": "display_data",
          "data": {
            "text/plain": [
              "<Figure size 432x288 with 1 Axes>"
            ],
            "image/png": "[encoded data removed]"
          },
          "metadata": {
            "needs_background": "light"
          }
        }
      ],
      "source": [
        "crime_df['Arrest'].value_counts().plot(kind = 'bar')"
      ]
    },
    {
      "cell_type": "markdown",
      "metadata": {
        "id": "fnCL9Kjh4RTB"
      },
      "source": [
        "**Time**"
      ]
    },
    {
      "cell_type": "code",
      "execution_count": 25,
      "metadata": {
        "id": "iSDZpvwBJ-o3"
      },
      "outputs": [],
      "source": [
        ""
      ]
    },
    {
      "cell_type": "code",
      "execution_count": 26,
      "metadata": {
        "id": "u--0eAVi4TBE"
      },
      "outputs": [],
      "source": [
        "def datetimeconv(x):\n",
        "    dt, tm, m = x.split()\n",
        "    hr = int(tm.split(':')[0])\n",
        "    hr = hr+12 if m == 'PM' and hr is not 12 else hr\n",
        "    hr = 0 if hr is 12 and m == 'AM' else hr\n",
        "    return hr"
      ]
    },
    {
      "cell_type": "code",
      "execution_count": 27,
      "metadata": {
        "id": "8Ad0lB-E4WI9",
        "colab": {
          "base_uri": "https://localhost:8080/",
          "height": 528
        },
        "outputId": "21ab878d-5876-42ac-aa5c-d7e4a5dc3bfb"
      },
      "outputs": [
        {
          "output_type": "error",
          "ename": "KeyError",
          "evalue": "ignored",
          "traceback": [
            "\u001b[0;31m---------------------------------------------------------------------------\u001b[0m",
            "\u001b[0;31mKeyError\u001b[0m                                  Traceback (most recent call last)",
            "\u001b[0;32m/usr/local/lib/python3.7/dist-packages/pandas/core/indexes/base.py\u001b[0m in \u001b[0;36mget_loc\u001b[0;34m(self, key, method, tolerance)\u001b[0m\n\u001b[1;32m   3360\u001b[0m             \u001b[0;32mtry\u001b[0m\u001b[0;34m:\u001b[0m\u001b[0;34m\u001b[0m\u001b[0;34m\u001b[0m\u001b[0m\n\u001b[0;32m-> 3361\u001b[0;31m                 \u001b[0;32mreturn\u001b[0m \u001b[0mself\u001b[0m\u001b[0;34m.\u001b[0m\u001b[0m_engine\u001b[0m\u001b[0;34m.\u001b[0m\u001b[0mget_loc\u001b[0m\u001b[0;34m(\u001b[0m\u001b[0mcasted_key\u001b[0m\u001b[0;34m)\u001b[0m\u001b[0;34m\u001b[0m\u001b[0;34m\u001b[0m\u001b[0m\n\u001b[0m\u001b[1;32m   3362\u001b[0m             \u001b[0;32mexcept\u001b[0m \u001b[0mKeyError\u001b[0m \u001b[0;32mas\u001b[0m \u001b[0merr\u001b[0m\u001b[0;34m:\u001b[0m\u001b[0;34m\u001b[0m\u001b[0;34m\u001b[0m\u001b[0m\n",
            "\u001b[0;32m/usr/local/lib/python3.7/dist-packages/pandas/_libs/index.pyx\u001b[0m in \u001b[0;36mpandas._libs.index.IndexEngine.get_loc\u001b[0;34m()\u001b[0m\n",
            "\u001b[0;32m/usr/local/lib/python3.7/dist-packages/pandas/_libs/index.pyx\u001b[0m in \u001b[0;36mpandas._libs.index.IndexEngine.get_loc\u001b[0;34m()\u001b[0m\n",
            "\u001b[0;32mpandas/_libs/hashtable_class_helper.pxi\u001b[0m in \u001b[0;36mpandas._libs.hashtable.PyObjectHashTable.get_item\u001b[0;34m()\u001b[0m\n",
            "\u001b[0;32mpandas/_libs/hashtable_class_helper.pxi\u001b[0m in \u001b[0;36mpandas._libs.hashtable.PyObjectHashTable.get_item\u001b[0;34m()\u001b[0m\n",
            "\u001b[0;31mKeyError\u001b[0m: 'Date'",
            "\nThe above exception was the direct cause of the following exception:\n",
            "\u001b[0;31mKeyError\u001b[0m                                  Traceback (most recent call last)",
            "\u001b[0;32m<ipython-input-27-67c5acd2384b>\u001b[0m in \u001b[0;36m<module>\u001b[0;34m()\u001b[0m\n\u001b[0;32m----> 1\u001b[0;31m \u001b[0mcrime_df_time\u001b[0m \u001b[0;34m=\u001b[0m \u001b[0mcrime_df\u001b[0m\u001b[0;34m[\u001b[0m\u001b[0;34m'Date'\u001b[0m\u001b[0;34m]\u001b[0m\u001b[0;34m\u001b[0m\u001b[0;34m\u001b[0m\u001b[0m\n\u001b[0m",
            "\u001b[0;32m/usr/local/lib/python3.7/dist-packages/pandas/core/frame.py\u001b[0m in \u001b[0;36m__getitem__\u001b[0;34m(self, key)\u001b[0m\n\u001b[1;32m   3456\u001b[0m             \u001b[0;32mif\u001b[0m \u001b[0mself\u001b[0m\u001b[0;34m.\u001b[0m\u001b[0mcolumns\u001b[0m\u001b[0;34m.\u001b[0m\u001b[0mnlevels\u001b[0m \u001b[0;34m>\u001b[0m \u001b[0;36m1\u001b[0m\u001b[0;34m:\u001b[0m\u001b[0;34m\u001b[0m\u001b[0;34m\u001b[0m\u001b[0m\n\u001b[1;32m   3457\u001b[0m                 \u001b[0;32mreturn\u001b[0m \u001b[0mself\u001b[0m\u001b[0;34m.\u001b[0m\u001b[0m_getitem_multilevel\u001b[0m\u001b[0;34m(\u001b[0m\u001b[0mkey\u001b[0m\u001b[0;34m)\u001b[0m\u001b[0;34m\u001b[0m\u001b[0;34m\u001b[0m\u001b[0m\n\u001b[0;32m-> 3458\u001b[0;31m             \u001b[0mindexer\u001b[0m \u001b[0;34m=\u001b[0m \u001b[0mself\u001b[0m\u001b[0;34m.\u001b[0m\u001b[0mcolumns\u001b[0m\u001b[0;34m.\u001b[0m\u001b[0mget_loc\u001b[0m\u001b[0;34m(\u001b[0m\u001b[0mkey\u001b[0m\u001b[0;34m)\u001b[0m\u001b[0;34m\u001b[0m\u001b[0;34m\u001b[0m\u001b[0m\n\u001b[0m\u001b[1;32m   3459\u001b[0m             \u001b[0;32mif\u001b[0m \u001b[0mis_integer\u001b[0m\u001b[0;34m(\u001b[0m\u001b[0mindexer\u001b[0m\u001b[0;34m)\u001b[0m\u001b[0;34m:\u001b[0m\u001b[0;34m\u001b[0m\u001b[0;34m\u001b[0m\u001b[0m\n\u001b[1;32m   3460\u001b[0m                 \u001b[0mindexer\u001b[0m \u001b[0;34m=\u001b[0m \u001b[0;34m[\u001b[0m\u001b[0mindexer\u001b[0m\u001b[0;34m]\u001b[0m\u001b[0;34m\u001b[0m\u001b[0;34m\u001b[0m\u001b[0m\n",
            "\u001b[0;32m/usr/local/lib/python3.7/dist-packages/pandas/core/indexes/base.py\u001b[0m in \u001b[0;36mget_loc\u001b[0;34m(self, key, method, tolerance)\u001b[0m\n\u001b[1;32m   3361\u001b[0m                 \u001b[0;32mreturn\u001b[0m \u001b[0mself\u001b[0m\u001b[0;34m.\u001b[0m\u001b[0m_engine\u001b[0m\u001b[0;34m.\u001b[0m\u001b[0mget_loc\u001b[0m\u001b[0;34m(\u001b[0m\u001b[0mcasted_key\u001b[0m\u001b[0;34m)\u001b[0m\u001b[0;34m\u001b[0m\u001b[0;34m\u001b[0m\u001b[0m\n\u001b[1;32m   3362\u001b[0m             \u001b[0;32mexcept\u001b[0m \u001b[0mKeyError\u001b[0m \u001b[0;32mas\u001b[0m \u001b[0merr\u001b[0m\u001b[0;34m:\u001b[0m\u001b[0;34m\u001b[0m\u001b[0;34m\u001b[0m\u001b[0m\n\u001b[0;32m-> 3363\u001b[0;31m                 \u001b[0;32mraise\u001b[0m \u001b[0mKeyError\u001b[0m\u001b[0;34m(\u001b[0m\u001b[0mkey\u001b[0m\u001b[0;34m)\u001b[0m \u001b[0;32mfrom\u001b[0m \u001b[0merr\u001b[0m\u001b[0;34m\u001b[0m\u001b[0;34m\u001b[0m\u001b[0m\n\u001b[0m\u001b[1;32m   3364\u001b[0m \u001b[0;34m\u001b[0m\u001b[0m\n\u001b[1;32m   3365\u001b[0m         \u001b[0;32mif\u001b[0m \u001b[0mis_scalar\u001b[0m\u001b[0;34m(\u001b[0m\u001b[0mkey\u001b[0m\u001b[0;34m)\u001b[0m \u001b[0;32mand\u001b[0m \u001b[0misna\u001b[0m\u001b[0;34m(\u001b[0m\u001b[0mkey\u001b[0m\u001b[0;34m)\u001b[0m \u001b[0;32mand\u001b[0m \u001b[0;32mnot\u001b[0m \u001b[0mself\u001b[0m\u001b[0;34m.\u001b[0m\u001b[0mhasnans\u001b[0m\u001b[0;34m:\u001b[0m\u001b[0;34m\u001b[0m\u001b[0;34m\u001b[0m\u001b[0m\n",
            "\u001b[0;31mKeyError\u001b[0m: 'Date'"
          ]
        }
      ],
      "source": [
        "crime_df_time = crime_df['Date']"
      ]
    },
    {
      "cell_type": "code",
      "execution_count": null,
      "metadata": {
        "id": "qc_-NpXRKAN3"
      },
      "outputs": [],
      "source": [
        ""
      ]
    },
    {
      "cell_type": "markdown",
      "metadata": {
        "id": "TRByfK-oKPe3"
      },
      "source": [
        "Dropping crimes which are minimal in nature"
      ]
    },
    {
      "cell_type": "code",
      "execution_count": 28,
      "metadata": {
        "id": "SroTVoUeWJ-y"
      },
      "outputs": [],
      "source": [
        "crime_df=crime_df.dropna()"
      ]
    },
    {
      "cell_type": "code",
      "execution_count": 29,
      "metadata": {
        "colab": {
          "base_uri": "https://localhost:8080/"
        },
        "id": "5-1hiNyiWClV",
        "outputId": "5bf1106b-0eca-44be-b849-23b6a64f4b5a"
      },
      "outputs": [
        {
          "output_type": "execute_result",
          "data": {
            "text/plain": [
              "Index(['ID', 'Case Number', 'Block', 'IUCR', 'Primary Type', 'Description',\n",
              "       'Location Description', 'Arrest', 'Domestic', 'Beat', 'District',\n",
              "       'Ward', 'Community Area', 'FBI Code', 'X Coordinate', 'Y Coordinate',\n",
              "       'Year', 'Updated On', 'Latitude', 'Longitude', 'Location'],\n",
              "      dtype='object')"
            ]
          },
          "metadata": {},
          "execution_count": 29
        }
      ],
      "source": [
        "crime_df.columns"
      ]
    },
    {
      "cell_type": "code",
      "execution_count": 30,
      "metadata": {
        "id": "SzWTVl5KWZBH"
      },
      "outputs": [],
      "source": [
        "labelEncoder = LabelEncoder()"
      ]
    },
    {
      "cell_type": "code",
      "execution_count": 31,
      "metadata": {
        "id": "9I9ndNufWukp"
      },
      "outputs": [],
      "source": [
        "# create an instance of label encoder for categorical variables\n",
        "primaryEncoded = labelEncoder.fit_transform(crime_df['Primary Type'])"
      ]
    },
    {
      "cell_type": "code",
      "execution_count": 32,
      "metadata": {
        "colab": {
          "base_uri": "https://localhost:8080/"
        },
        "id": "9aFDyabeW5iF",
        "outputId": "391aa874-e63b-439a-db48-121156cc99fe"
      },
      "outputs": [
        {
          "output_type": "execute_result",
          "data": {
            "text/plain": [
              "array([ 2, 31, 18, ..., 17,  2, 23])"
            ]
          },
          "metadata": {},
          "execution_count": 32
        }
      ],
      "source": [
        "primaryEncoded"
      ]
    },
    {
      "cell_type": "code",
      "execution_count": 33,
      "metadata": {
        "id": "bcI-QIUsXMp8",
        "colab": {
          "base_uri": "https://localhost:8080/"
        },
        "outputId": "896f6b5e-1459-4231-f8ce-91223dfafda7"
      },
      "outputs": [
        {
          "output_type": "stream",
          "name": "stderr",
          "text": [
            "/usr/local/lib/python3.7/dist-packages/ipykernel_launcher.py:1: SettingWithCopyWarning: \n",
            "A value is trying to be set on a copy of a slice from a DataFrame.\n",
            "Try using .loc[row_indexer,col_indexer] = value instead\n",
            "\n",
            "See the caveats in the documentation: https://pandas.pydata.org/pandas-docs/stable/user_guide/indexing.html#returning-a-view-versus-a-copy\n",
            "  \"\"\"Entry point for launching an IPython kernel.\n"
          ]
        }
      ],
      "source": [
        "crime_df['Primary Type'] = primaryEncoded"
      ]
    },
    {
      "cell_type": "code",
      "execution_count": 34,
      "metadata": {
        "id": "5u9gE_HCXSNy"
      },
      "outputs": [],
      "source": [
        "# create an instance of label encoder for categorical variables\n",
        "labelEncoder2 = LabelEncoder()"
      ]
    },
    {
      "cell_type": "code",
      "execution_count": 35,
      "metadata": {
        "colab": {
          "base_uri": "https://localhost:8080/"
        },
        "id": "Y3wB7KzjXZ0f",
        "outputId": "17af4b2c-c3c1-4d5b-c03a-41bd2f95e321"
      },
      "outputs": [
        {
          "output_type": "execute_result",
          "data": {
            "text/plain": [
              "array([143,  62, 165, ..., 143, 131, 143])"
            ]
          },
          "metadata": {},
          "execution_count": 35
        }
      ],
      "source": [
        "locDiscEncoded = labelEncoder2.fit_transform(crime_df['Location Description'])\n",
        "locDiscEncoded"
      ]
    },
    {
      "cell_type": "code",
      "execution_count": 36,
      "metadata": {
        "id": "UM9-stmnXe9I",
        "colab": {
          "base_uri": "https://localhost:8080/"
        },
        "outputId": "7216bdc8-8500-4a34-ba67-5b0c232b2d87"
      },
      "outputs": [
        {
          "output_type": "stream",
          "name": "stderr",
          "text": [
            "/usr/local/lib/python3.7/dist-packages/ipykernel_launcher.py:1: SettingWithCopyWarning: \n",
            "A value is trying to be set on a copy of a slice from a DataFrame.\n",
            "Try using .loc[row_indexer,col_indexer] = value instead\n",
            "\n",
            "See the caveats in the documentation: https://pandas.pydata.org/pandas-docs/stable/user_guide/indexing.html#returning-a-view-versus-a-copy\n",
            "  \"\"\"Entry point for launching an IPython kernel.\n"
          ]
        }
      ],
      "source": [
        "crime_df['Location Description'] = locDiscEncoded"
      ]
    },
    {
      "cell_type": "code",
      "execution_count": 37,
      "metadata": {
        "id": "z6q9eltZXjbt"
      },
      "outputs": [],
      "source": [
        "# create an instance of label encoder for categorical variables\n",
        "labelEncoder3 = LabelEncoder()"
      ]
    },
    {
      "cell_type": "code",
      "execution_count": 38,
      "metadata": {
        "colab": {
          "base_uri": "https://localhost:8080/"
        },
        "id": "KXjNBxfAXl46",
        "outputId": "843915b4-9a2b-4df1-a7fe-849690deb8b2"
      },
      "outputs": [
        {
          "output_type": "execute_result",
          "data": {
            "text/plain": [
              "array([143,  62, 165, ..., 143, 131, 143])"
            ]
          },
          "metadata": {},
          "execution_count": 38
        }
      ],
      "source": [
        "blockEncoded = labelEncoder2.fit_transform(crime_df['Location Description'])\n",
        "blockEncoded"
      ]
    },
    {
      "cell_type": "code",
      "execution_count": 39,
      "metadata": {
        "id": "l0Wuec-iXu-Q",
        "colab": {
          "base_uri": "https://localhost:8080/"
        },
        "outputId": "d1b58b99-15b6-4e79-a43d-b874ad878f34"
      },
      "outputs": [
        {
          "output_type": "stream",
          "name": "stderr",
          "text": [
            "/usr/local/lib/python3.7/dist-packages/ipykernel_launcher.py:1: SettingWithCopyWarning: \n",
            "A value is trying to be set on a copy of a slice from a DataFrame.\n",
            "Try using .loc[row_indexer,col_indexer] = value instead\n",
            "\n",
            "See the caveats in the documentation: https://pandas.pydata.org/pandas-docs/stable/user_guide/indexing.html#returning-a-view-versus-a-copy\n",
            "  \"\"\"Entry point for launching an IPython kernel.\n"
          ]
        }
      ],
      "source": [
        "crime_df['Block'] = locDiscEncoded"
      ]
    },
    {
      "cell_type": "code",
      "execution_count": 40,
      "metadata": {
        "id": "m-LfYvmKXyp4"
      },
      "outputs": [],
      "source": [
        "#using PCA to combine all features"
      ]
    },
    {
      "cell_type": "code",
      "execution_count": 41,
      "metadata": {
        "id": "B7iBi1l2YDv5"
      },
      "outputs": [],
      "source": [
        "location = crime_df[['Latitude','Longitude']]\n",
        "pca = PCA(n_components=1,random_state=123)"
      ]
    },
    {
      "cell_type": "code",
      "execution_count": 42,
      "metadata": {
        "id": "tP_8pLkIYIPt"
      },
      "outputs": [],
      "source": [
        "loc = pca.fit_transform(location)"
      ]
    },
    {
      "cell_type": "code",
      "execution_count": 43,
      "metadata": {
        "id": "jIu2rYcUYLbk",
        "colab": {
          "base_uri": "https://localhost:8080/"
        },
        "outputId": "d9cdd630-80ad-430e-ee7a-f6821e7781e9"
      },
      "outputs": [
        {
          "output_type": "stream",
          "name": "stderr",
          "text": [
            "/usr/local/lib/python3.7/dist-packages/ipykernel_launcher.py:1: SettingWithCopyWarning: \n",
            "A value is trying to be set on a copy of a slice from a DataFrame.\n",
            "Try using .loc[row_indexer,col_indexer] = value instead\n",
            "\n",
            "See the caveats in the documentation: https://pandas.pydata.org/pandas-docs/stable/user_guide/indexing.html#returning-a-view-versus-a-copy\n",
            "  \"\"\"Entry point for launching an IPython kernel.\n"
          ]
        }
      ],
      "source": [
        "crime_df['Location'] = loc"
      ]
    },
    {
      "cell_type": "code",
      "execution_count": 44,
      "metadata": {
        "colab": {
          "base_uri": "https://localhost:8080/",
          "height": 415
        },
        "id": "bik99vwlYN2J",
        "outputId": "09513091-41ed-4803-c607-8578c5582cc1"
      },
      "outputs": [
        {
          "output_type": "execute_result",
          "data": {
            "text/plain": [
              "                              ID Case Number  Block  IUCR  Primary Type  \\\n",
              "Date                                                                      \n",
              "09/05/2015 01:30:00 PM  10224738    HY411648    143  0486             2   \n",
              "09/04/2015 11:30:00 AM  10224739    HY411615     62  0870            31   \n",
              "09/05/2015 12:45:00 PM  10224740    HY411595    165  2023            18   \n",
              "09/05/2015 01:00:00 PM  10224741    HY411610     17  0560             1   \n",
              "09/05/2015 10:55:00 AM  10224742    HY411435    143  0610             3   \n",
              "\n",
              "                                    Description  Location Description  Arrest  \\\n",
              "Date                                                                            \n",
              "09/05/2015 01:30:00 PM  DOMESTIC BATTERY SIMPLE                   143   False   \n",
              "09/04/2015 11:30:00 AM           POCKET-PICKING                    62   False   \n",
              "09/05/2015 12:45:00 PM    POSS: HEROIN(BRN/TAN)                   165    True   \n",
              "09/05/2015 01:00:00 PM                   SIMPLE                    17   False   \n",
              "09/05/2015 10:55:00 AM           FORCIBLE ENTRY                   143   False   \n",
              "\n",
              "                        Domestic  Beat  ...  Ward  Community Area  FBI Code  \\\n",
              "Date                                    ...                                   \n",
              "09/05/2015 01:30:00 PM      True   924  ...  12.0            61.0       08B   \n",
              "09/04/2015 11:30:00 AM     False  1511  ...  29.0            25.0        06   \n",
              "09/05/2015 12:45:00 PM     False  1412  ...  35.0            21.0        18   \n",
              "09/05/2015 01:00:00 PM      True  1522  ...  28.0            25.0       08A   \n",
              "09/05/2015 10:55:00 AM     False   614  ...  21.0            71.0        05   \n",
              "\n",
              "                       X Coordinate  Y Coordinate  Year  \\\n",
              "Date                                                      \n",
              "09/05/2015 01:30:00 PM    1165074.0     1875917.0  2015   \n",
              "09/04/2015 11:30:00 AM    1138875.0     1904869.0  2015   \n",
              "09/05/2015 12:45:00 PM    1152037.0     1920384.0  2015   \n",
              "09/05/2015 01:00:00 PM    1141706.0     1900086.0  2015   \n",
              "09/05/2015 10:55:00 AM    1168430.0     1850165.0  2015   \n",
              "\n",
              "                                    Updated On   Latitude  Longitude  Location  \n",
              "Date                                                                            \n",
              "09/05/2015 01:30:00 PM  02/10/2018 03:50:01 PM  41.815117 -87.670000  0.024953  \n",
              "09/04/2015 11:30:00 AM  02/10/2018 03:50:01 PM  41.895080 -87.765400 -0.087461  \n",
              "09/05/2015 12:45:00 PM  02/10/2018 03:50:01 PM  41.937406 -87.716650 -0.105657  \n",
              "09/05/2015 01:00:00 PM  02/10/2018 03:50:01 PM  41.881903 -87.755121 -0.071201  \n",
              "09/05/2015 10:55:00 AM  02/10/2018 03:50:01 PM  41.744379 -87.658431  0.094089  \n",
              "\n",
              "[5 rows x 21 columns]"
            ],
            "text/html": [
              "\n",
              "  <div id=\"df-0a63578e-9ba9-49f9-9429-7d5c74b77bd1\">\n",
              "    <div class=\"colab-df-container\">\n",
              "      <div>\n",
              "<style scoped>\n",
              "    .dataframe tbody tr th:only-of-type {\n",
              "        vertical-align: middle;\n",
              "    }\n",
              "\n",
              "    .dataframe tbody tr th {\n",
              "        vertical-align: top;\n",
              "    }\n",
              "\n",
              "    .dataframe thead th {\n",
              "        text-align: right;\n",
              "    }\n",
              "</style>\n",
              "<table border=\"1\" class=\"dataframe\">\n",
              "  <thead>\n",
              "    <tr style=\"text-align: right;\">\n",
              "      <th></th>\n",
              "      <th>ID</th>\n",
              "      <th>Case Number</th>\n",
              "      <th>Block</th>\n",
              "      <th>IUCR</th>\n",
              "      <th>Primary Type</th>\n",
              "      <th>Description</th>\n",
              "      <th>Location Description</th>\n",
              "      <th>Arrest</th>\n",
              "      <th>Domestic</th>\n",
              "      <th>Beat</th>\n",
              "      <th>...</th>\n",
              "      <th>Ward</th>\n",
              "      <th>Community Area</th>\n",
              "      <th>FBI Code</th>\n",
              "      <th>X Coordinate</th>\n",
              "      <th>Y Coordinate</th>\n",
              "      <th>Year</th>\n",
              "      <th>Updated On</th>\n",
              "      <th>Latitude</th>\n",
              "      <th>Longitude</th>\n",
              "      <th>Location</th>\n",
              "    </tr>\n",
              "    <tr>\n",
              "      <th>Date</th>\n",
              "      <th></th>\n",
              "      <th></th>\n",
              "      <th></th>\n",
              "      <th></th>\n",
              "      <th></th>\n",
              "      <th></th>\n",
              "      <th></th>\n",
              "      <th></th>\n",
              "      <th></th>\n",
              "      <th></th>\n",
              "      <th></th>\n",
              "      <th></th>\n",
              "      <th></th>\n",
              "      <th></th>\n",
              "      <th></th>\n",
              "      <th></th>\n",
              "      <th></th>\n",
              "      <th></th>\n",
              "      <th></th>\n",
              "      <th></th>\n",
              "      <th></th>\n",
              "    </tr>\n",
              "  </thead>\n",
              "  <tbody>\n",
              "    <tr>\n",
              "      <th>09/05/2015 01:30:00 PM</th>\n",
              "      <td>10224738</td>\n",
              "      <td>HY411648</td>\n",
              "      <td>143</td>\n",
              "      <td>0486</td>\n",
              "      <td>2</td>\n",
              "      <td>DOMESTIC BATTERY SIMPLE</td>\n",
              "      <td>143</td>\n",
              "      <td>False</td>\n",
              "      <td>True</td>\n",
              "      <td>924</td>\n",
              "      <td>...</td>\n",
              "      <td>12.0</td>\n",
              "      <td>61.0</td>\n",
              "      <td>08B</td>\n",
              "      <td>1165074.0</td>\n",
              "      <td>1875917.0</td>\n",
              "      <td>2015</td>\n",
              "      <td>02/10/2018 03:50:01 PM</td>\n",
              "      <td>41.815117</td>\n",
              "      <td>-87.670000</td>\n",
              "      <td>0.024953</td>\n",
              "    </tr>\n",
              "    <tr>\n",
              "      <th>09/04/2015 11:30:00 AM</th>\n",
              "      <td>10224739</td>\n",
              "      <td>HY411615</td>\n",
              "      <td>62</td>\n",
              "      <td>0870</td>\n",
              "      <td>31</td>\n",
              "      <td>POCKET-PICKING</td>\n",
              "      <td>62</td>\n",
              "      <td>False</td>\n",
              "      <td>False</td>\n",
              "      <td>1511</td>\n",
              "      <td>...</td>\n",
              "      <td>29.0</td>\n",
              "      <td>25.0</td>\n",
              "      <td>06</td>\n",
              "      <td>1138875.0</td>\n",
              "      <td>1904869.0</td>\n",
              "      <td>2015</td>\n",
              "      <td>02/10/2018 03:50:01 PM</td>\n",
              "      <td>41.895080</td>\n",
              "      <td>-87.765400</td>\n",
              "      <td>-0.087461</td>\n",
              "    </tr>\n",
              "    <tr>\n",
              "      <th>09/05/2015 12:45:00 PM</th>\n",
              "      <td>10224740</td>\n",
              "      <td>HY411595</td>\n",
              "      <td>165</td>\n",
              "      <td>2023</td>\n",
              "      <td>18</td>\n",
              "      <td>POSS: HEROIN(BRN/TAN)</td>\n",
              "      <td>165</td>\n",
              "      <td>True</td>\n",
              "      <td>False</td>\n",
              "      <td>1412</td>\n",
              "      <td>...</td>\n",
              "      <td>35.0</td>\n",
              "      <td>21.0</td>\n",
              "      <td>18</td>\n",
              "      <td>1152037.0</td>\n",
              "      <td>1920384.0</td>\n",
              "      <td>2015</td>\n",
              "      <td>02/10/2018 03:50:01 PM</td>\n",
              "      <td>41.937406</td>\n",
              "      <td>-87.716650</td>\n",
              "      <td>-0.105657</td>\n",
              "    </tr>\n",
              "    <tr>\n",
              "      <th>09/05/2015 01:00:00 PM</th>\n",
              "      <td>10224741</td>\n",
              "      <td>HY411610</td>\n",
              "      <td>17</td>\n",
              "      <td>0560</td>\n",
              "      <td>1</td>\n",
              "      <td>SIMPLE</td>\n",
              "      <td>17</td>\n",
              "      <td>False</td>\n",
              "      <td>True</td>\n",
              "      <td>1522</td>\n",
              "      <td>...</td>\n",
              "      <td>28.0</td>\n",
              "      <td>25.0</td>\n",
              "      <td>08A</td>\n",
              "      <td>1141706.0</td>\n",
              "      <td>1900086.0</td>\n",
              "      <td>2015</td>\n",
              "      <td>02/10/2018 03:50:01 PM</td>\n",
              "      <td>41.881903</td>\n",
              "      <td>-87.755121</td>\n",
              "      <td>-0.071201</td>\n",
              "    </tr>\n",
              "    <tr>\n",
              "      <th>09/05/2015 10:55:00 AM</th>\n",
              "      <td>10224742</td>\n",
              "      <td>HY411435</td>\n",
              "      <td>143</td>\n",
              "      <td>0610</td>\n",
              "      <td>3</td>\n",
              "      <td>FORCIBLE ENTRY</td>\n",
              "      <td>143</td>\n",
              "      <td>False</td>\n",
              "      <td>False</td>\n",
              "      <td>614</td>\n",
              "      <td>...</td>\n",
              "      <td>21.0</td>\n",
              "      <td>71.0</td>\n",
              "      <td>05</td>\n",
              "      <td>1168430.0</td>\n",
              "      <td>1850165.0</td>\n",
              "      <td>2015</td>\n",
              "      <td>02/10/2018 03:50:01 PM</td>\n",
              "      <td>41.744379</td>\n",
              "      <td>-87.658431</td>\n",
              "      <td>0.094089</td>\n",
              "    </tr>\n",
              "  </tbody>\n",
              "</table>\n",
              "<p>5 rows × 21 columns</p>\n",
              "</div>\n",
              "      <button class=\"colab-df-convert\" onclick=\"convertToInteractive('df-0a63578e-9ba9-49f9-9429-7d5c74b77bd1')\"\n",
              "              title=\"Convert this dataframe to an interactive table.\"\n",
              "              style=\"display:none;\">\n",
              "        \n",
              "  <svg xmlns=\"http://www.w3.org/2000/svg\" height=\"24px\"viewBox=\"0 0 24 24\"\n",
              "       width=\"24px\">\n",
              "    <path d=\"M0 0h24v24H0V0z\" fill=\"none\"/>\n",
              "    <path d=\"M18.56 5.44l.94 2.06.94-2.06 2.06-.94-2.06-.94-.94-2.06-.94 2.06-2.06.94zm-11 1L8.5 8.5l.94-2.06 2.06-.94-2.06-.94L8.5 2.5l-.94 2.06-2.06.94zm10 10l.94 2.06.94-2.06 2.06-.94-2.06-.94-.94-2.06-.94 2.06-2.06.94z\"/><path d=\"M17.41 7.96l-1.37-1.37c-.4-.4-.92-.59-1.43-.59-.52 0-1.04.2-1.43.59L10.3 9.45l-7.72 7.72c-.78.78-.78 2.05 0 2.83L4 21.41c.39.39.9.59 1.41.59.51 0 1.02-.2 1.41-.59l7.78-7.78 2.81-2.81c.8-.78.8-2.07 0-2.86zM5.41 20L4 18.59l7.72-7.72 1.47 1.35L5.41 20z\"/>\n",
              "  </svg>\n",
              "      </button>\n",
              "      \n",
              "  <style>\n",
              "    .colab-df-container {\n",
              "      display:flex;\n",
              "      flex-wrap:wrap;\n",
              "      gap: 12px;\n",
              "    }\n",
              "\n",
              "    .colab-df-convert {\n",
              "      background-color: #E8F0FE;\n",
              "      border: none;\n",
              "      border-radius: 50%;\n",
              "      cursor: pointer;\n",
              "      display: none;\n",
              "      fill: #1967D2;\n",
              "      height: 32px;\n",
              "      padding: 0 0 0 0;\n",
              "      width: 32px;\n",
              "    }\n",
              "\n",
              "    .colab-df-convert:hover {\n",
              "      background-color: #E2EBFA;\n",
              "      box-shadow: 0px 1px 2px rgba(60, 64, 67, 0.3), 0px 1px 3px 1px rgba(60, 64, 67, 0.15);\n",
              "      fill: #174EA6;\n",
              "    }\n",
              "\n",
              "    [theme=dark] .colab-df-convert {\n",
              "      background-color: #3B4455;\n",
              "      fill: #D2E3FC;\n",
              "    }\n",
              "\n",
              "    [theme=dark] .colab-df-convert:hover {\n",
              "      background-color: #434B5C;\n",
              "      box-shadow: 0px 1px 3px 1px rgba(0, 0, 0, 0.15);\n",
              "      filter: drop-shadow(0px 1px 2px rgba(0, 0, 0, 0.3));\n",
              "      fill: #FFFFFF;\n",
              "    }\n",
              "  </style>\n",
              "\n",
              "      <script>\n",
              "        const buttonEl =\n",
              "          document.querySelector('#df-0a63578e-9ba9-49f9-9429-7d5c74b77bd1 button.colab-df-convert');\n",
              "        buttonEl.style.display =\n",
              "          google.colab.kernel.accessAllowed ? 'block' : 'none';\n",
              "\n",
              "        async function convertToInteractive(key) {\n",
              "          const element = document.querySelector('#df-0a63578e-9ba9-49f9-9429-7d5c74b77bd1');\n",
              "          const dataTable =\n",
              "            await google.colab.kernel.invokeFunction('convertToInteractive',\n",
              "                                                     [key], {});\n",
              "          if (!dataTable) return;\n",
              "\n",
              "          const docLinkHtml = 'Like what you see? Visit the ' +\n",
              "            '<a target=\"_blank\" href=https://colab.research.google.com/notebooks/data_table.ipynb>data table notebook</a>'\n",
              "            + ' to learn more about interactive tables.';\n",
              "          element.innerHTML = '';\n",
              "          dataTable['output_type'] = 'display_data';\n",
              "          await google.colab.output.renderOutput(dataTable, element);\n",
              "          const docLink = document.createElement('div');\n",
              "          docLink.innerHTML = docLinkHtml;\n",
              "          element.appendChild(docLink);\n",
              "        }\n",
              "      </script>\n",
              "    </div>\n",
              "  </div>\n",
              "  "
            ]
          },
          "metadata": {},
          "execution_count": 44
        }
      ],
      "source": [
        "crime_df.head(5)"
      ]
    },
    {
      "cell_type": "code",
      "source": [
        "#crime_df = crime_df.drop('Case Number', axis=1)\n",
        "crime_df = crime_df.drop('FBI Code', axis=1)\n",
        "crime_df = crime_df.drop('Domestic', axis=1)\n",
        "crime_df = crime_df.drop('IUCR', axis=1)\n",
        "crime_df = crime_df.drop('Updated On', axis=1)\n",
        "crime_df = crime_df.drop('ID', axis=1)"
      ],
      "metadata": {
        "id": "TDFKUXiUaKMM"
      },
      "execution_count": 45,
      "outputs": []
    },
    {
      "cell_type": "code",
      "source": [
        "crime_df = crime_df.drop('Description', axis=1)"
      ],
      "metadata": {
        "id": "ECDjXY6ucI6I"
      },
      "execution_count": 46,
      "outputs": []
    },
    {
      "cell_type": "code",
      "source": [
        "crime_df = crime_df.drop('Case Number', axis=1)"
      ],
      "metadata": {
        "id": "v6LHQioyRyI1"
      },
      "execution_count": 47,
      "outputs": []
    },
    {
      "cell_type": "code",
      "source": [
        "crime_df.head(5)"
      ],
      "metadata": {
        "colab": {
          "base_uri": "https://localhost:8080/",
          "height": 237
        },
        "id": "1Da0UeG-gkVC",
        "outputId": "ec3f96c8-4f87-4042-c9fd-eb179821334b"
      },
      "execution_count": 48,
      "outputs": [
        {
          "output_type": "execute_result",
          "data": {
            "text/plain": [
              "                        Block  Primary Type  Location Description  Arrest  \\\n",
              "Date                                                                        \n",
              "09/05/2015 01:30:00 PM    143             2                   143   False   \n",
              "09/04/2015 11:30:00 AM     62            31                    62   False   \n",
              "09/05/2015 12:45:00 PM    165            18                   165    True   \n",
              "09/05/2015 01:00:00 PM     17             1                    17   False   \n",
              "09/05/2015 10:55:00 AM    143             3                   143   False   \n",
              "\n",
              "                        Beat  District  Ward  Community Area  X Coordinate  \\\n",
              "Date                                                                         \n",
              "09/05/2015 01:30:00 PM   924       9.0  12.0            61.0     1165074.0   \n",
              "09/04/2015 11:30:00 AM  1511      15.0  29.0            25.0     1138875.0   \n",
              "09/05/2015 12:45:00 PM  1412      14.0  35.0            21.0     1152037.0   \n",
              "09/05/2015 01:00:00 PM  1522      15.0  28.0            25.0     1141706.0   \n",
              "09/05/2015 10:55:00 AM   614       6.0  21.0            71.0     1168430.0   \n",
              "\n",
              "                        Y Coordinate  Year   Latitude  Longitude  Location  \n",
              "Date                                                                        \n",
              "09/05/2015 01:30:00 PM     1875917.0  2015  41.815117 -87.670000  0.024953  \n",
              "09/04/2015 11:30:00 AM     1904869.0  2015  41.895080 -87.765400 -0.087461  \n",
              "09/05/2015 12:45:00 PM     1920384.0  2015  41.937406 -87.716650 -0.105657  \n",
              "09/05/2015 01:00:00 PM     1900086.0  2015  41.881903 -87.755121 -0.071201  \n",
              "09/05/2015 10:55:00 AM     1850165.0  2015  41.744379 -87.658431  0.094089  "
            ],
            "text/html": [
              "\n",
              "  <div id=\"df-87724c94-ce78-490b-801c-830299698416\">\n",
              "    <div class=\"colab-df-container\">\n",
              "      <div>\n",
              "<style scoped>\n",
              "    .dataframe tbody tr th:only-of-type {\n",
              "        vertical-align: middle;\n",
              "    }\n",
              "\n",
              "    .dataframe tbody tr th {\n",
              "        vertical-align: top;\n",
              "    }\n",
              "\n",
              "    .dataframe thead th {\n",
              "        text-align: right;\n",
              "    }\n",
              "</style>\n",
              "<table border=\"1\" class=\"dataframe\">\n",
              "  <thead>\n",
              "    <tr style=\"text-align: right;\">\n",
              "      <th></th>\n",
              "      <th>Block</th>\n",
              "      <th>Primary Type</th>\n",
              "      <th>Location Description</th>\n",
              "      <th>Arrest</th>\n",
              "      <th>Beat</th>\n",
              "      <th>District</th>\n",
              "      <th>Ward</th>\n",
              "      <th>Community Area</th>\n",
              "      <th>X Coordinate</th>\n",
              "      <th>Y Coordinate</th>\n",
              "      <th>Year</th>\n",
              "      <th>Latitude</th>\n",
              "      <th>Longitude</th>\n",
              "      <th>Location</th>\n",
              "    </tr>\n",
              "    <tr>\n",
              "      <th>Date</th>\n",
              "      <th></th>\n",
              "      <th></th>\n",
              "      <th></th>\n",
              "      <th></th>\n",
              "      <th></th>\n",
              "      <th></th>\n",
              "      <th></th>\n",
              "      <th></th>\n",
              "      <th></th>\n",
              "      <th></th>\n",
              "      <th></th>\n",
              "      <th></th>\n",
              "      <th></th>\n",
              "      <th></th>\n",
              "    </tr>\n",
              "  </thead>\n",
              "  <tbody>\n",
              "    <tr>\n",
              "      <th>09/05/2015 01:30:00 PM</th>\n",
              "      <td>143</td>\n",
              "      <td>2</td>\n",
              "      <td>143</td>\n",
              "      <td>False</td>\n",
              "      <td>924</td>\n",
              "      <td>9.0</td>\n",
              "      <td>12.0</td>\n",
              "      <td>61.0</td>\n",
              "      <td>1165074.0</td>\n",
              "      <td>1875917.0</td>\n",
              "      <td>2015</td>\n",
              "      <td>41.815117</td>\n",
              "      <td>-87.670000</td>\n",
              "      <td>0.024953</td>\n",
              "    </tr>\n",
              "    <tr>\n",
              "      <th>09/04/2015 11:30:00 AM</th>\n",
              "      <td>62</td>\n",
              "      <td>31</td>\n",
              "      <td>62</td>\n",
              "      <td>False</td>\n",
              "      <td>1511</td>\n",
              "      <td>15.0</td>\n",
              "      <td>29.0</td>\n",
              "      <td>25.0</td>\n",
              "      <td>1138875.0</td>\n",
              "      <td>1904869.0</td>\n",
              "      <td>2015</td>\n",
              "      <td>41.895080</td>\n",
              "      <td>-87.765400</td>\n",
              "      <td>-0.087461</td>\n",
              "    </tr>\n",
              "    <tr>\n",
              "      <th>09/05/2015 12:45:00 PM</th>\n",
              "      <td>165</td>\n",
              "      <td>18</td>\n",
              "      <td>165</td>\n",
              "      <td>True</td>\n",
              "      <td>1412</td>\n",
              "      <td>14.0</td>\n",
              "      <td>35.0</td>\n",
              "      <td>21.0</td>\n",
              "      <td>1152037.0</td>\n",
              "      <td>1920384.0</td>\n",
              "      <td>2015</td>\n",
              "      <td>41.937406</td>\n",
              "      <td>-87.716650</td>\n",
              "      <td>-0.105657</td>\n",
              "    </tr>\n",
              "    <tr>\n",
              "      <th>09/05/2015 01:00:00 PM</th>\n",
              "      <td>17</td>\n",
              "      <td>1</td>\n",
              "      <td>17</td>\n",
              "      <td>False</td>\n",
              "      <td>1522</td>\n",
              "      <td>15.0</td>\n",
              "      <td>28.0</td>\n",
              "      <td>25.0</td>\n",
              "      <td>1141706.0</td>\n",
              "      <td>1900086.0</td>\n",
              "      <td>2015</td>\n",
              "      <td>41.881903</td>\n",
              "      <td>-87.755121</td>\n",
              "      <td>-0.071201</td>\n",
              "    </tr>\n",
              "    <tr>\n",
              "      <th>09/05/2015 10:55:00 AM</th>\n",
              "      <td>143</td>\n",
              "      <td>3</td>\n",
              "      <td>143</td>\n",
              "      <td>False</td>\n",
              "      <td>614</td>\n",
              "      <td>6.0</td>\n",
              "      <td>21.0</td>\n",
              "      <td>71.0</td>\n",
              "      <td>1168430.0</td>\n",
              "      <td>1850165.0</td>\n",
              "      <td>2015</td>\n",
              "      <td>41.744379</td>\n",
              "      <td>-87.658431</td>\n",
              "      <td>0.094089</td>\n",
              "    </tr>\n",
              "  </tbody>\n",
              "</table>\n",
              "</div>\n",
              "      <button class=\"colab-df-convert\" onclick=\"convertToInteractive('df-87724c94-ce78-490b-801c-830299698416')\"\n",
              "              title=\"Convert this dataframe to an interactive table.\"\n",
              "              style=\"display:none;\">\n",
              "        \n",
              "  <svg xmlns=\"http://www.w3.org/2000/svg\" height=\"24px\"viewBox=\"0 0 24 24\"\n",
              "       width=\"24px\">\n",
              "    <path d=\"M0 0h24v24H0V0z\" fill=\"none\"/>\n",
              "    <path d=\"M18.56 5.44l.94 2.06.94-2.06 2.06-.94-2.06-.94-.94-2.06-.94 2.06-2.06.94zm-11 1L8.5 8.5l.94-2.06 2.06-.94-2.06-.94L8.5 2.5l-.94 2.06-2.06.94zm10 10l.94 2.06.94-2.06 2.06-.94-2.06-.94-.94-2.06-.94 2.06-2.06.94z\"/><path d=\"M17.41 7.96l-1.37-1.37c-.4-.4-.92-.59-1.43-.59-.52 0-1.04.2-1.43.59L10.3 9.45l-7.72 7.72c-.78.78-.78 2.05 0 2.83L4 21.41c.39.39.9.59 1.41.59.51 0 1.02-.2 1.41-.59l7.78-7.78 2.81-2.81c.8-.78.8-2.07 0-2.86zM5.41 20L4 18.59l7.72-7.72 1.47 1.35L5.41 20z\"/>\n",
              "  </svg>\n",
              "      </button>\n",
              "      \n",
              "  <style>\n",
              "    .colab-df-container {\n",
              "      display:flex;\n",
              "      flex-wrap:wrap;\n",
              "      gap: 12px;\n",
              "    }\n",
              "\n",
              "    .colab-df-convert {\n",
              "      background-color: #E8F0FE;\n",
              "      border: none;\n",
              "      border-radius: 50%;\n",
              "      cursor: pointer;\n",
              "      display: none;\n",
              "      fill: #1967D2;\n",
              "      height: 32px;\n",
              "      padding: 0 0 0 0;\n",
              "      width: 32px;\n",
              "    }\n",
              "\n",
              "    .colab-df-convert:hover {\n",
              "      background-color: #E2EBFA;\n",
              "      box-shadow: 0px 1px 2px rgba(60, 64, 67, 0.3), 0px 1px 3px 1px rgba(60, 64, 67, 0.15);\n",
              "      fill: #174EA6;\n",
              "    }\n",
              "\n",
              "    [theme=dark] .colab-df-convert {\n",
              "      background-color: #3B4455;\n",
              "      fill: #D2E3FC;\n",
              "    }\n",
              "\n",
              "    [theme=dark] .colab-df-convert:hover {\n",
              "      background-color: #434B5C;\n",
              "      box-shadow: 0px 1px 3px 1px rgba(0, 0, 0, 0.15);\n",
              "      filter: drop-shadow(0px 1px 2px rgba(0, 0, 0, 0.3));\n",
              "      fill: #FFFFFF;\n",
              "    }\n",
              "  </style>\n",
              "\n",
              "      <script>\n",
              "        const buttonEl =\n",
              "          document.querySelector('#df-87724c94-ce78-490b-801c-830299698416 button.colab-df-convert');\n",
              "        buttonEl.style.display =\n",
              "          google.colab.kernel.accessAllowed ? 'block' : 'none';\n",
              "\n",
              "        async function convertToInteractive(key) {\n",
              "          const element = document.querySelector('#df-87724c94-ce78-490b-801c-830299698416');\n",
              "          const dataTable =\n",
              "            await google.colab.kernel.invokeFunction('convertToInteractive',\n",
              "                                                     [key], {});\n",
              "          if (!dataTable) return;\n",
              "\n",
              "          const docLinkHtml = 'Like what you see? Visit the ' +\n",
              "            '<a target=\"_blank\" href=https://colab.research.google.com/notebooks/data_table.ipynb>data table notebook</a>'\n",
              "            + ' to learn more about interactive tables.';\n",
              "          element.innerHTML = '';\n",
              "          dataTable['output_type'] = 'display_data';\n",
              "          await google.colab.output.renderOutput(dataTable, element);\n",
              "          const docLink = document.createElement('div');\n",
              "          docLink.innerHTML = docLinkHtml;\n",
              "          element.appendChild(docLink);\n",
              "        }\n",
              "      </script>\n",
              "    </div>\n",
              "  </div>\n",
              "  "
            ]
          },
          "metadata": {},
          "execution_count": 48
        }
      ]
    },
    {
      "cell_type": "code",
      "source": [
        ""
      ],
      "metadata": {
        "id": "imIi70kIgp4z"
      },
      "execution_count": 48,
      "outputs": []
    },
    {
      "cell_type": "code",
      "source": [
        "#taking a fraction of data\n",
        "crime_sample = crime_df.sample(frac=0.1, random_state=123)"
      ],
      "metadata": {
        "id": "3UlEaIALYvOm"
      },
      "execution_count": 49,
      "outputs": []
    },
    {
      "cell_type": "markdown",
      "source": [
        "Checking importance of features using an ExtraTreesClassifier"
      ],
      "metadata": {
        "id": "d2tuzs89c_Qb"
      }
    },
    {
      "cell_type": "code",
      "source": [
        "from sklearn.ensemble import ExtraTreesClassifier\n",
        "import matplotlib.pyplot as plt\n",
        "model = ExtraTreesClassifier()"
      ],
      "metadata": {
        "id": "nVhuGfTnY4wF"
      },
      "execution_count": 50,
      "outputs": []
    },
    {
      "cell_type": "code",
      "source": [
        "X = crime_sample.loc[:, crime_df.columns != 'Primary Type']"
      ],
      "metadata": {
        "id": "E8GmAf9AY8f2"
      },
      "execution_count": 51,
      "outputs": []
    },
    {
      "cell_type": "code",
      "source": [
        "model.fit(X,crime_sample['Primary Type'])"
      ],
      "metadata": {
        "colab": {
          "base_uri": "https://localhost:8080/"
        },
        "id": "Vmi0A-7oZCxe",
        "outputId": "fa9598d1-76e5-4aca-e7ab-da6b46f0a620"
      },
      "execution_count": 52,
      "outputs": [
        {
          "output_type": "execute_result",
          "data": {
            "text/plain": [
              "ExtraTreesClassifier()"
            ]
          },
          "metadata": {},
          "execution_count": 52
        }
      ]
    },
    {
      "cell_type": "code",
      "source": [
        "print(model.feature_importances_)"
      ],
      "metadata": {
        "colab": {
          "base_uri": "https://localhost:8080/"
        },
        "id": "8_GdmCD_cvzq",
        "outputId": "be88a833-3267-414c-da36-f0858b2a5359"
      },
      "execution_count": 53,
      "outputs": [
        {
          "output_type": "stream",
          "name": "stdout",
          "text": [
            "[0.06189035 0.062      0.036843   0.04250401 0.00834203 0.02458149\n",
            " 0.01943891 0.12595904 0.12584964 0.11713205 0.12476937 0.1227157\n",
            " 0.12797443]\n"
          ]
        }
      ]
    },
    {
      "cell_type": "code",
      "source": [
        "#plot graph of feature importances for better visualization\n",
        "feat_importances = pd.Series(model.feature_importances_, index=X.columns)\n",
        "#plot for top 10 features\n",
        "feat_importances.nlargest(10).plot(kind='barh')\n",
        "plt.show()"
      ],
      "metadata": {
        "colab": {
          "base_uri": "https://localhost:8080/",
          "height": 265
        },
        "id": "38uzfqyVcyWY",
        "outputId": "1cecceb3-fe6f-44fa-a4b0-55eeacfc7a74"
      },
      "execution_count": 54,
      "outputs": [
        {
          "output_type": "display_data",
          "data": {
            "text/plain": [
              "<Figure size 432x288 with 1 Axes>"
            ],
            "image/png": "[encoded data removed]"
          },
          "metadata": {
            "needs_background": "light"
          }
        }
      ]
    },
    {
      "cell_type": "markdown",
      "source": [
        "Find corelation between data to find dependency between data columns"
      ],
      "metadata": {
        "id": "2xxM9UJLc6WK"
      }
    },
    {
      "cell_type": "code",
      "source": [
        "corelation = crime_df.corr()\n",
        "corelation"
      ],
      "metadata": {
        "colab": {
          "base_uri": "https://localhost:8080/",
          "height": 488
        },
        "id": "_F_ilYC_c0GH",
        "outputId": "0b1094d5-6f48-4c00-cba0-520b4ad777de"
      },
      "execution_count": 55,
      "outputs": [
        {
          "output_type": "execute_result",
          "data": {
            "text/plain": [
              "                         Block  Primary Type  Location Description    Arrest  \\\n",
              "Block                 1.000000      0.123506              1.000000  0.043941   \n",
              "Primary Type          0.123506      1.000000              0.123506  0.030487   \n",
              "Location Description  1.000000      0.123506              1.000000  0.043941   \n",
              "Arrest                0.043941      0.030487              0.043941  1.000000   \n",
              "Beat                  0.013290      0.033397              0.013290 -0.024459   \n",
              "District              0.013613      0.032195              0.013613 -0.024082   \n",
              "Ward                 -0.011154      0.063056             -0.011154 -0.014473   \n",
              "Community Area        0.014839     -0.076664              0.014839  0.020425   \n",
              "X Coordinate         -0.014971      0.002816             -0.014971 -0.032539   \n",
              "Y Coordinate         -0.040453      0.077471             -0.040453 -0.024831   \n",
              "Year                 -0.048723     -0.018476             -0.048723 -0.103533   \n",
              "Latitude             -0.040268      0.077254             -0.040268 -0.024637   \n",
              "Longitude            -0.015685      0.004089             -0.015685 -0.033301   \n",
              "Location              0.030084     -0.064760              0.030084  0.011985   \n",
              "\n",
              "                          Beat  District      Ward  Community Area  \\\n",
              "Block                 0.013290  0.013613 -0.011154        0.014839   \n",
              "Primary Type          0.033397  0.032195  0.063056       -0.076664   \n",
              "Location Description  0.013290  0.013613 -0.011154        0.014839   \n",
              "Arrest               -0.024459 -0.024082 -0.014473        0.020425   \n",
              "Beat                  1.000000  0.989747  0.663399       -0.492629   \n",
              "District              0.989747  1.000000  0.673414       -0.492063   \n",
              "Ward                  0.663399  0.673414  1.000000       -0.534852   \n",
              "Community Area       -0.492629 -0.492063 -0.534852        1.000000   \n",
              "X Coordinate         -0.519498 -0.529528 -0.436238        0.242222   \n",
              "Y Coordinate          0.613699  0.616178  0.637980       -0.749558   \n",
              "Year                 -0.019175 -0.006220  0.012220       -0.015375   \n",
              "Latitude              0.614155  0.616668  0.638029       -0.748531   \n",
              "Longitude            -0.517132 -0.527257 -0.432398        0.234265   \n",
              "Location             -0.663715 -0.668601 -0.661118        0.701663   \n",
              "\n",
              "                      X Coordinate  Y Coordinate      Year  Latitude  \\\n",
              "Block                    -0.014971     -0.040453 -0.048723 -0.040268   \n",
              "Primary Type              0.002816      0.077471 -0.018476  0.077254   \n",
              "Location Description     -0.014971     -0.040453 -0.048723 -0.040268   \n",
              "Arrest                   -0.032539     -0.024831 -0.103533 -0.024637   \n",
              "Beat                     -0.519498      0.613699 -0.019175  0.614155   \n",
              "District                 -0.529528      0.616178 -0.006220  0.616668   \n",
              "Ward                     -0.436238      0.637980  0.012220  0.638029   \n",
              "Community Area            0.242222     -0.749558 -0.015375 -0.748531   \n",
              "X Coordinate              1.000000     -0.433995  0.013180 -0.435727   \n",
              "Y Coordinate             -0.433995      1.000000  0.010064  0.999993   \n",
              "Year                      0.013180      0.010064  1.000000  0.010002   \n",
              "Latitude                 -0.435727      0.999993  0.010002  1.000000   \n",
              "Longitude                 0.999809     -0.430499  0.013400 -0.432292   \n",
              "Location                  0.642334     -0.969218 -0.004898 -0.969709   \n",
              "\n",
              "                      Longitude  Location  \n",
              "Block                 -0.015685  0.030084  \n",
              "Primary Type           0.004089 -0.064760  \n",
              "Location Description  -0.015685  0.030084  \n",
              "Arrest                -0.033301  0.011985  \n",
              "Beat                  -0.517132 -0.663715  \n",
              "District              -0.527257 -0.668601  \n",
              "Ward                  -0.432398 -0.661118  \n",
              "Community Area         0.234265  0.701663  \n",
              "X Coordinate           0.999809  0.642334  \n",
              "Y Coordinate          -0.430499 -0.969218  \n",
              "Year                   0.013400 -0.004898  \n",
              "Latitude              -0.432292 -0.969709  \n",
              "Longitude              1.000000  0.639457  \n",
              "Location               0.639457  1.000000  "
            ],
            "text/html": [
              "\n",
              "  <div id=\"df-696ef51e-c207-427e-bbf3-cb7a47e50a11\">\n",
              "    <div class=\"colab-df-container\">\n",
              "      <div>\n",
              "<style scoped>\n",
              "    .dataframe tbody tr th:only-of-type {\n",
              "        vertical-align: middle;\n",
              "    }\n",
              "\n",
              "    .dataframe tbody tr th {\n",
              "        vertical-align: top;\n",
              "    }\n",
              "\n",
              "    .dataframe thead th {\n",
              "        text-align: right;\n",
              "    }\n",
              "</style>\n",
              "<table border=\"1\" class=\"dataframe\">\n",
              "  <thead>\n",
              "    <tr style=\"text-align: right;\">\n",
              "      <th></th>\n",
              "      <th>Block</th>\n",
              "      <th>Primary Type</th>\n",
              "      <th>Location Description</th>\n",
              "      <th>Arrest</th>\n",
              "      <th>Beat</th>\n",
              "      <th>District</th>\n",
              "      <th>Ward</th>\n",
              "      <th>Community Area</th>\n",
              "      <th>X Coordinate</th>\n",
              "      <th>Y Coordinate</th>\n",
              "      <th>Year</th>\n",
              "      <th>Latitude</th>\n",
              "      <th>Longitude</th>\n",
              "      <th>Location</th>\n",
              "    </tr>\n",
              "  </thead>\n",
              "  <tbody>\n",
              "    <tr>\n",
              "      <th>Block</th>\n",
              "      <td>1.000000</td>\n",
              "      <td>0.123506</td>\n",
              "      <td>1.000000</td>\n",
              "      <td>0.043941</td>\n",
              "      <td>0.013290</td>\n",
              "      <td>0.013613</td>\n",
              "      <td>-0.011154</td>\n",
              "      <td>0.014839</td>\n",
              "      <td>-0.014971</td>\n",
              "      <td>-0.040453</td>\n",
              "      <td>-0.048723</td>\n",
              "      <td>-0.040268</td>\n",
              "      <td>-0.015685</td>\n",
              "      <td>0.030084</td>\n",
              "    </tr>\n",
              "    <tr>\n",
              "      <th>Primary Type</th>\n",
              "      <td>0.123506</td>\n",
              "      <td>1.000000</td>\n",
              "      <td>0.123506</td>\n",
              "      <td>0.030487</td>\n",
              "      <td>0.033397</td>\n",
              "      <td>0.032195</td>\n",
              "      <td>0.063056</td>\n",
              "      <td>-0.076664</td>\n",
              "      <td>0.002816</td>\n",
              "      <td>0.077471</td>\n",
              "      <td>-0.018476</td>\n",
              "      <td>0.077254</td>\n",
              "      <td>0.004089</td>\n",
              "      <td>-0.064760</td>\n",
              "    </tr>\n",
              "    <tr>\n",
              "      <th>Location Description</th>\n",
              "      <td>1.000000</td>\n",
              "      <td>0.123506</td>\n",
              "      <td>1.000000</td>\n",
              "      <td>0.043941</td>\n",
              "      <td>0.013290</td>\n",
              "      <td>0.013613</td>\n",
              "      <td>-0.011154</td>\n",
              "      <td>0.014839</td>\n",
              "      <td>-0.014971</td>\n",
              "      <td>-0.040453</td>\n",
              "      <td>-0.048723</td>\n",
              "      <td>-0.040268</td>\n",
              "      <td>-0.015685</td>\n",
              "      <td>0.030084</td>\n",
              "    </tr>\n",
              "    <tr>\n",
              "      <th>Arrest</th>\n",
              "      <td>0.043941</td>\n",
              "      <td>0.030487</td>\n",
              "      <td>0.043941</td>\n",
              "      <td>1.000000</td>\n",
              "      <td>-0.024459</td>\n",
              "      <td>-0.024082</td>\n",
              "      <td>-0.014473</td>\n",
              "      <td>0.020425</td>\n",
              "      <td>-0.032539</td>\n",
              "      <td>-0.024831</td>\n",
              "      <td>-0.103533</td>\n",
              "      <td>-0.024637</td>\n",
              "      <td>-0.033301</td>\n",
              "      <td>0.011985</td>\n",
              "    </tr>\n",
              "    <tr>\n",
              "      <th>Beat</th>\n",
              "      <td>0.013290</td>\n",
              "      <td>0.033397</td>\n",
              "      <td>0.013290</td>\n",
              "      <td>-0.024459</td>\n",
              "      <td>1.000000</td>\n",
              "      <td>0.989747</td>\n",
              "      <td>0.663399</td>\n",
              "      <td>-0.492629</td>\n",
              "      <td>-0.519498</td>\n",
              "      <td>0.613699</td>\n",
              "      <td>-0.019175</td>\n",
              "      <td>0.614155</td>\n",
              "      <td>-0.517132</td>\n",
              "      <td>-0.663715</td>\n",
              "    </tr>\n",
              "    <tr>\n",
              "      <th>District</th>\n",
              "      <td>0.013613</td>\n",
              "      <td>0.032195</td>\n",
              "      <td>0.013613</td>\n",
              "      <td>-0.024082</td>\n",
              "      <td>0.989747</td>\n",
              "      <td>1.000000</td>\n",
              "      <td>0.673414</td>\n",
              "      <td>-0.492063</td>\n",
              "      <td>-0.529528</td>\n",
              "      <td>0.616178</td>\n",
              "      <td>-0.006220</td>\n",
              "      <td>0.616668</td>\n",
              "      <td>-0.527257</td>\n",
              "      <td>-0.668601</td>\n",
              "    </tr>\n",
              "    <tr>\n",
              "      <th>Ward</th>\n",
              "      <td>-0.011154</td>\n",
              "      <td>0.063056</td>\n",
              "      <td>-0.011154</td>\n",
              "      <td>-0.014473</td>\n",
              "      <td>0.663399</td>\n",
              "      <td>0.673414</td>\n",
              "      <td>1.000000</td>\n",
              "      <td>-0.534852</td>\n",
              "      <td>-0.436238</td>\n",
              "      <td>0.637980</td>\n",
              "      <td>0.012220</td>\n",
              "      <td>0.638029</td>\n",
              "      <td>-0.432398</td>\n",
              "      <td>-0.661118</td>\n",
              "    </tr>\n",
              "    <tr>\n",
              "      <th>Community Area</th>\n",
              "      <td>0.014839</td>\n",
              "      <td>-0.076664</td>\n",
              "      <td>0.014839</td>\n",
              "      <td>0.020425</td>\n",
              "      <td>-0.492629</td>\n",
              "      <td>-0.492063</td>\n",
              "      <td>-0.534852</td>\n",
              "      <td>1.000000</td>\n",
              "      <td>0.242222</td>\n",
              "      <td>-0.749558</td>\n",
              "      <td>-0.015375</td>\n",
              "      <td>-0.748531</td>\n",
              "      <td>0.234265</td>\n",
              "      <td>0.701663</td>\n",
              "    </tr>\n",
              "    <tr>\n",
              "      <th>X Coordinate</th>\n",
              "      <td>-0.014971</td>\n",
              "      <td>0.002816</td>\n",
              "      <td>-0.014971</td>\n",
              "      <td>-0.032539</td>\n",
              "      <td>-0.519498</td>\n",
              "      <td>-0.529528</td>\n",
              "      <td>-0.436238</td>\n",
              "      <td>0.242222</td>\n",
              "      <td>1.000000</td>\n",
              "      <td>-0.433995</td>\n",
              "      <td>0.013180</td>\n",
              "      <td>-0.435727</td>\n",
              "      <td>0.999809</td>\n",
              "      <td>0.642334</td>\n",
              "    </tr>\n",
              "    <tr>\n",
              "      <th>Y Coordinate</th>\n",
              "      <td>-0.040453</td>\n",
              "      <td>0.077471</td>\n",
              "      <td>-0.040453</td>\n",
              "      <td>-0.024831</td>\n",
              "      <td>0.613699</td>\n",
              "      <td>0.616178</td>\n",
              "      <td>0.637980</td>\n",
              "      <td>-0.749558</td>\n",
              "      <td>-0.433995</td>\n",
              "      <td>1.000000</td>\n",
              "      <td>0.010064</td>\n",
              "      <td>0.999993</td>\n",
              "      <td>-0.430499</td>\n",
              "      <td>-0.969218</td>\n",
              "    </tr>\n",
              "    <tr>\n",
              "      <th>Year</th>\n",
              "      <td>-0.048723</td>\n",
              "      <td>-0.018476</td>\n",
              "      <td>-0.048723</td>\n",
              "      <td>-0.103533</td>\n",
              "      <td>-0.019175</td>\n",
              "      <td>-0.006220</td>\n",
              "      <td>0.012220</td>\n",
              "      <td>-0.015375</td>\n",
              "      <td>0.013180</td>\n",
              "      <td>0.010064</td>\n",
              "      <td>1.000000</td>\n",
              "      <td>0.010002</td>\n",
              "      <td>0.013400</td>\n",
              "      <td>-0.004898</td>\n",
              "    </tr>\n",
              "    <tr>\n",
              "      <th>Latitude</th>\n",
              "      <td>-0.040268</td>\n",
              "      <td>0.077254</td>\n",
              "      <td>-0.040268</td>\n",
              "      <td>-0.024637</td>\n",
              "      <td>0.614155</td>\n",
              "      <td>0.616668</td>\n",
              "      <td>0.638029</td>\n",
              "      <td>-0.748531</td>\n",
              "      <td>-0.435727</td>\n",
              "      <td>0.999993</td>\n",
              "      <td>0.010002</td>\n",
              "      <td>1.000000</td>\n",
              "      <td>-0.432292</td>\n",
              "      <td>-0.969709</td>\n",
              "    </tr>\n",
              "    <tr>\n",
              "      <th>Longitude</th>\n",
              "      <td>-0.015685</td>\n",
              "      <td>0.004089</td>\n",
              "      <td>-0.015685</td>\n",
              "      <td>-0.033301</td>\n",
              "      <td>-0.517132</td>\n",
              "      <td>-0.527257</td>\n",
              "      <td>-0.432398</td>\n",
              "      <td>0.234265</td>\n",
              "      <td>0.999809</td>\n",
              "      <td>-0.430499</td>\n",
              "      <td>0.013400</td>\n",
              "      <td>-0.432292</td>\n",
              "      <td>1.000000</td>\n",
              "      <td>0.639457</td>\n",
              "    </tr>\n",
              "    <tr>\n",
              "      <th>Location</th>\n",
              "      <td>0.030084</td>\n",
              "      <td>-0.064760</td>\n",
              "      <td>0.030084</td>\n",
              "      <td>0.011985</td>\n",
              "      <td>-0.663715</td>\n",
              "      <td>-0.668601</td>\n",
              "      <td>-0.661118</td>\n",
              "      <td>0.701663</td>\n",
              "      <td>0.642334</td>\n",
              "      <td>-0.969218</td>\n",
              "      <td>-0.004898</td>\n",
              "      <td>-0.969709</td>\n",
              "      <td>0.639457</td>\n",
              "      <td>1.000000</td>\n",
              "    </tr>\n",
              "  </tbody>\n",
              "</table>\n",
              "</div>\n",
              "      <button class=\"colab-df-convert\" onclick=\"convertToInteractive('df-696ef51e-c207-427e-bbf3-cb7a47e50a11')\"\n",
              "              title=\"Convert this dataframe to an interactive table.\"\n",
              "              style=\"display:none;\">\n",
              "        \n",
              "  <svg xmlns=\"http://www.w3.org/2000/svg\" height=\"24px\"viewBox=\"0 0 24 24\"\n",
              "       width=\"24px\">\n",
              "    <path d=\"M0 0h24v24H0V0z\" fill=\"none\"/>\n",
              "    <path d=\"M18.56 5.44l.94 2.06.94-2.06 2.06-.94-2.06-.94-.94-2.06-.94 2.06-2.06.94zm-11 1L8.5 8.5l.94-2.06 2.06-.94-2.06-.94L8.5 2.5l-.94 2.06-2.06.94zm10 10l.94 2.06.94-2.06 2.06-.94-2.06-.94-.94-2.06-.94 2.06-2.06.94z\"/><path d=\"M17.41 7.96l-1.37-1.37c-.4-.4-.92-.59-1.43-.59-.52 0-1.04.2-1.43.59L10.3 9.45l-7.72 7.72c-.78.78-.78 2.05 0 2.83L4 21.41c.39.39.9.59 1.41.59.51 0 1.02-.2 1.41-.59l7.78-7.78 2.81-2.81c.8-.78.8-2.07 0-2.86zM5.41 20L4 18.59l7.72-7.72 1.47 1.35L5.41 20z\"/>\n",
              "  </svg>\n",
              "      </button>\n",
              "      \n",
              "  <style>\n",
              "    .colab-df-container {\n",
              "      display:flex;\n",
              "      flex-wrap:wrap;\n",
              "      gap: 12px;\n",
              "    }\n",
              "\n",
              "    .colab-df-convert {\n",
              "      background-color: #E8F0FE;\n",
              "      border: none;\n",
              "      border-radius: 50%;\n",
              "      cursor: pointer;\n",
              "      display: none;\n",
              "      fill: #1967D2;\n",
              "      height: 32px;\n",
              "      padding: 0 0 0 0;\n",
              "      width: 32px;\n",
              "    }\n",
              "\n",
              "    .colab-df-convert:hover {\n",
              "      background-color: #E2EBFA;\n",
              "      box-shadow: 0px 1px 2px rgba(60, 64, 67, 0.3), 0px 1px 3px 1px rgba(60, 64, 67, 0.15);\n",
              "      fill: #174EA6;\n",
              "    }\n",
              "\n",
              "    [theme=dark] .colab-df-convert {\n",
              "      background-color: #3B4455;\n",
              "      fill: #D2E3FC;\n",
              "    }\n",
              "\n",
              "    [theme=dark] .colab-df-convert:hover {\n",
              "      background-color: #434B5C;\n",
              "      box-shadow: 0px 1px 3px 1px rgba(0, 0, 0, 0.15);\n",
              "      filter: drop-shadow(0px 1px 2px rgba(0, 0, 0, 0.3));\n",
              "      fill: #FFFFFF;\n",
              "    }\n",
              "  </style>\n",
              "\n",
              "      <script>\n",
              "        const buttonEl =\n",
              "          document.querySelector('#df-696ef51e-c207-427e-bbf3-cb7a47e50a11 button.colab-df-convert');\n",
              "        buttonEl.style.display =\n",
              "          google.colab.kernel.accessAllowed ? 'block' : 'none';\n",
              "\n",
              "        async function convertToInteractive(key) {\n",
              "          const element = document.querySelector('#df-696ef51e-c207-427e-bbf3-cb7a47e50a11');\n",
              "          const dataTable =\n",
              "            await google.colab.kernel.invokeFunction('convertToInteractive',\n",
              "                                                     [key], {});\n",
              "          if (!dataTable) return;\n",
              "\n",
              "          const docLinkHtml = 'Like what you see? Visit the ' +\n",
              "            '<a target=\"_blank\" href=https://colab.research.google.com/notebooks/data_table.ipynb>data table notebook</a>'\n",
              "            + ' to learn more about interactive tables.';\n",
              "          element.innerHTML = '';\n",
              "          dataTable['output_type'] = 'display_data';\n",
              "          await google.colab.output.renderOutput(dataTable, element);\n",
              "          const docLink = document.createElement('div');\n",
              "          docLink.innerHTML = docLinkHtml;\n",
              "          element.appendChild(docLink);\n",
              "        }\n",
              "      </script>\n",
              "    </div>\n",
              "  </div>\n",
              "  "
            ]
          },
          "metadata": {},
          "execution_count": 55
        }
      ]
    },
    {
      "cell_type": "code",
      "source": [
        "sns.heatmap(corelation)"
      ],
      "metadata": {
        "colab": {
          "base_uri": "https://localhost:8080/",
          "height": 380
        },
        "id": "GcU8aJjjdEPQ",
        "outputId": "04830eca-4980-4ca2-e64c-d6f2c0079802"
      },
      "execution_count": 56,
      "outputs": [
        {
          "output_type": "execute_result",
          "data": {
            "text/plain": [
              "<matplotlib.axes._subplots.AxesSubplot at 0x7f812c3f67d0>"
            ]
          },
          "metadata": {},
          "execution_count": 56
        },
        {
          "output_type": "display_data",
          "data": {
            "text/plain": [
              "<Figure size 432x288 with 2 Axes>"
            ],
            "image/png": "[encoded data removed]"
          },
          "metadata": {
            "needs_background": "light"
          }
        }
      ]
    },
    {
      "cell_type": "code",
      "source": [
        "selected_columns = ['Latitude','Longitude','Location Description','Block']"
      ],
      "metadata": {
        "id": "Ic58t43gdHe-"
      },
      "execution_count": 57,
      "outputs": []
    },
    {
      "cell_type": "code",
      "source": [
        "from sklearn.model_selection import train_test_split\n",
        "X_train, X_test, y_train, y_test = train_test_split(crime_df[selected_columns], crime_df['Primary Type'], test_size=0.3) # 70% training and 30% test"
      ],
      "metadata": {
        "id": "aqVxMv6AdItP"
      },
      "execution_count": 58,
      "outputs": []
    },
    {
      "cell_type": "code",
      "source": [
        "knn_5 = KNeighborsClassifier(n_neighbors=5) \n",
        "knn_5.fit(X_train,y_train)\n",
        "pred_train = knn_5.predict(X_train)\n",
        "pred_i = knn_5.predict(X_test)\n",
        "print('Test accuracy ', metrics.accuracy_score(y_train, pred_train))\n",
        "print('Accuracy ', metrics.accuracy_score(y_test, pred_i))\n",
        "print('F1 score ', metrics.f1_score(y_test, pred_i, average = 'weighted'))"
      ],
      "metadata": {
        "colab": {
          "base_uri": "https://localhost:8080/"
        },
        "id": "qL30vo5m3RdE",
        "outputId": "bef67727-2f30-41e1-df0a-350e6cbb70bc"
      },
      "execution_count": 59,
      "outputs": [
        {
          "output_type": "stream",
          "name": "stdout",
          "text": [
            "Test accuracy  0.45745759542595416\n",
            "Accuracy  0.29721429768208607\n",
            "F1 score  0.2878999965672365\n"
          ]
        }
      ]
    },
    {
      "cell_type": "markdown",
      "source": [
        "Here I will try ensemble of Various classification models"
      ],
      "metadata": {
        "id": "h4017pzI4X8E"
      }
    },
    {
      "cell_type": "code",
      "source": [
        "from sklearn.ensemble import VotingClassifier\n",
        "from sklearn.ensemble import RandomForestClassifier\n",
        "from sklearn.svm import SVC\n",
        "from sklearn.linear_model import LogisticRegression"
      ],
      "metadata": {
        "id": "oGSXQuU44WLb"
      },
      "execution_count": 60,
      "outputs": []
    },
    {
      "cell_type": "code",
      "source": [
        "#KNN with - 25 neighbours\n",
        "knn = KNeighborsClassifier(25, metric='manhattan', weights = 'uniform',n_jobs= -1)\n",
        "\n",
        "#random forest with 75 Decision Trees\n",
        "rf = RandomForestClassifier(10, max_depth = 10, n_jobs= -1)\n",
        "\n",
        "#Support Vector Classifier\n",
        "svm = SVC(kernel = 'linear', random_state = 123, probability=True)"
      ],
      "metadata": {
        "id": "lGCZTkvi4bgT"
      },
      "execution_count": 61,
      "outputs": []
    },
    {
      "cell_type": "code",
      "source": [
        "knn.fit(X_train,y_train)"
      ],
      "metadata": {
        "colab": {
          "base_uri": "https://localhost:8080/"
        },
        "id": "xEffIVDc4eMJ",
        "outputId": "d966af4b-f649-4ec0-acaf-f84952a06a1e"
      },
      "execution_count": 62,
      "outputs": [
        {
          "output_type": "execute_result",
          "data": {
            "text/plain": [
              "KNeighborsClassifier(metric='manhattan', n_jobs=-1, n_neighbors=25)"
            ]
          },
          "metadata": {},
          "execution_count": 62
        }
      ]
    },
    {
      "cell_type": "code",
      "source": [
        "rf.fit(X_train,y_train)"
      ],
      "metadata": {
        "colab": {
          "base_uri": "https://localhost:8080/"
        },
        "id": "b94mg6mE4yGk",
        "outputId": "9f1addc9-1905-4127-ba38-56efc337805c"
      },
      "execution_count": 63,
      "outputs": [
        {
          "output_type": "execute_result",
          "data": {
            "text/plain": [
              "RandomForestClassifier(max_depth=10, n_estimators=10, n_jobs=-1)"
            ]
          },
          "metadata": {},
          "execution_count": 63
        }
      ]
    },
    {
      "cell_type": "code",
      "source": [
        "rf.score(X_test, y_test)"
      ],
      "metadata": {
        "colab": {
          "base_uri": "https://localhost:8080/"
        },
        "id": "kl47BLa244LV",
        "outputId": "ce92396e-0aaa-454f-ff2e-070371e42415"
      },
      "execution_count": 64,
      "outputs": [
        {
          "output_type": "execute_result",
          "data": {
            "text/plain": [
              "0.3288653545352421"
            ]
          },
          "metadata": {},
          "execution_count": 64
        }
      ]
    },
    {
      "cell_type": "code",
      "source": [
        "svm.fit(X_train,y_train)"
      ],
      "metadata": {
        "id": "H8zyIhFI4Xap"
      },
      "execution_count": null,
      "outputs": []
    },
    {
      "cell_type": "code",
      "source": [
        "svm.score(X_test, y_test)"
      ],
      "metadata": {
        "id": "VtuBOtQg49Rs"
      },
      "execution_count": null,
      "outputs": []
    },
    {
      "cell_type": "code",
      "source": [
        "#create a dictionary of our models\n",
        "estimators=[('knn', knn), ('rf', rf), ('svm', svm)]\n",
        "#create our voting classifier, inputting our models\n",
        "ensemble = VotingClassifier(estimators, voting='hard')"
      ],
      "metadata": {
        "id": "2cV-7lRu4_WC"
      },
      "execution_count": null,
      "outputs": []
    },
    {
      "cell_type": "code",
      "source": [
        "#fit model to training data\n",
        "ensemble.fit(X_train, y_train)\n",
        "#test our model on the test data\n",
        "ensemble.score(X_test, y_test)"
      ],
      "metadata": {
        "id": "oyZFKq245ALT"
      },
      "execution_count": null,
      "outputs": []
    },
    {
      "cell_type": "markdown",
      "metadata": {
        "id": "u8tZi97Kh8Hq"
      },
      "source": [
        "Classifying the data"
      ]
    },
    {
      "cell_type": "code",
      "source": [
        ""
      ],
      "metadata": {
        "id": "1mJ-WDlJ5H_-"
      },
      "execution_count": null,
      "outputs": []
    },
    {
      "cell_type": "code",
      "execution_count": null,
      "metadata": {
        "id": "POo4m6PKidsb"
      },
      "outputs": [],
      "source": [
        "crimes = crime_df.iloc[:, 2:]\n",
        "crimes.head()"
      ]
    },
    {
      "cell_type": "code",
      "source": [
        "crimes.index = pd.to_datetime(crimes.index)\n",
        "crimes.head(5)"
      ],
      "metadata": {
        "id": "Zs4h5rUL3v9o"
      },
      "execution_count": null,
      "outputs": []
    },
    {
      "cell_type": "code",
      "execution_count": null,
      "metadata": {
        "id": "neDltozKh96m"
      },
      "outputs": [],
      "source": [
        "crime_counts = pd.DataFrame(crime_df.groupby('Primary Type').size().sort_values(ascending=False).rename('counts').reset_index())\n",
        "crime_counts"
      ]
    },
    {
      "cell_type": "code",
      "execution_count": null,
      "metadata": {
        "id": "JKZZCy7bmPJL"
      },
      "outputs": [],
      "source": [
        "classifiedCrimes = crime_df.replace(['THEFT', 'BURGLARY', 'MOTOR VEHICLE THEFT', 'ROBBERY' ,'BATTERY', 'CRIMINAL SEXUAL ASSAULT', 'CRIM SEXUAL ASSAULT',\n",
        "                                        'SEX OFFENSE' , 'NARCOTICS','OTHER NARCOTIC VIOLATION' , 'ASSAULT', 'INTIMIDATION' ,\n",
        "                                        'OTHER OFFENSE' , 'RITUALISM', 'DECEPTIVE PRACTICE' , 'CRIMINAL TRESPASS' , 'WEAPONS VIOLATION' , \n",
        "                                        'CONCEALED CARRY LICENSE VIOLATION','PUBLIC INDECENCY', 'PUBLIC PEACE VIOLATION',\n",
        "                                        'OFFENSE INVOLVING CHILDREN','PROSTITUTION','INTERFERENCE WITH PUBLIC OFFICER','HOMICIDE',\n",
        "                                        'ARSON', 'CRIMINAL DAMAGE','GAMBLING','LIQUOR LAW VIOLATION','KIDNAPPING','STALKING', \n",
        "                                        'OBSCENITY','NON - CRIMINAL','NON-CRIMINAL', 'NON-CRIMINAL (SUBJECT SPECIFIED)','HUMAN TRAFFICKING']\n",
        "                    ,[1,1,1,1,2,2,2,2,3,3,4,4,5,5,6,7,8,8,9,9,10,11,12,13,14,14,15,16,17,18,18,19,19,19,20])"
      ]
    },
    {
      "cell_type": "code",
      "execution_count": null,
      "metadata": {
        "id": "Y8t4UaYrmYby"
      },
      "outputs": [],
      "source": [
        "primaryTypes = classifiedCrimes[['Primary Type']]\n",
        "classifiedCrimeCounts = pd.DataFrame(primaryTypes.groupby('Primary Type').size().sort_values(ascending=False).rename('counts').reset_index())\n",
        "classifiedCrimeCounts"
      ]
    },
    {
      "cell_type": "code",
      "source": [
        "classifiedCrimes=classifiedCrimes.dropna()"
      ],
      "metadata": {
        "id": "oGPDGGP_EuO3"
      },
      "execution_count": null,
      "outputs": []
    },
    {
      "cell_type": "code",
      "execution_count": null,
      "metadata": {
        "id": "ZCiTqtt1m8t_"
      },
      "outputs": [],
      "source": [
        "classifiedCrimes = classifiedCrimes[['Primary Type','Latitude','Longitude','Year']]"
      ]
    },
    {
      "cell_type": "code",
      "source": [
        ""
      ],
      "metadata": {
        "id": "CqzQf-AsEnam"
      },
      "execution_count": null,
      "outputs": []
    },
    {
      "cell_type": "code",
      "execution_count": null,
      "metadata": {
        "id": "_BENYAhLm_4i"
      },
      "outputs": [],
      "source": [
        "classifiedCrimes.head(10)"
      ]
    },
    {
      "cell_type": "code",
      "source": [
        "classifiedCrimes1 = classifiedCrimes.dropna(axis=0,how='any')"
      ],
      "metadata": {
        "id": "YJydCRKAxrTy"
      },
      "execution_count": null,
      "outputs": []
    },
    {
      "cell_type": "code",
      "source": [
        "classifiedCrimes1.index = pd.to_datetime(classifiedCrimes1.index)"
      ],
      "metadata": {
        "id": "lyHF7obrxs5j"
      },
      "execution_count": null,
      "outputs": []
    },
    {
      "cell_type": "code",
      "source": [
        "classifiedCrimes1.head(10)"
      ],
      "metadata": {
        "id": "xvXgkn2bxvAV"
      },
      "execution_count": null,
      "outputs": []
    },
    {
      "cell_type": "code",
      "source": [
        "classifiedCrimes1 = classifiedCrimes1.reset_index()\n",
        "#classifiedCrimes1['weekday'] = classifiedCrimes1['Date'].dt.dayofweek\n",
        "classifiedCrimes1['weekday'] = classifiedCrimes1['Date'].dt.dayofweek\n",
        "classifiedCrimes1.head(10)"
      ],
      "metadata": {
        "id": "hTPbpO8Wx2ez"
      },
      "execution_count": null,
      "outputs": []
    },
    {
      "cell_type": "code",
      "execution_count": null,
      "metadata": {
        "id": "xAr71dXl1bxn"
      },
      "outputs": [],
      "source": [
        "import math\n",
        "def train(X,T):\n",
        "    means = np.mean(X,axis = 0)\n",
        "    stds = np.std(X, axis = 0)\n",
        "    Xs = (X - means) / stds\n",
        "    Xs1 = np.hstack((np.ones((Xs.shape[0],1)),Xs))\n",
        "    w = np.linalg.lstsq(np.dot(Xs1.T,Xs1), np.dot(Xs1.T, T))[0]\n",
        "    return {'means':means, 'stds':stds, 'w':w}"
      ]
    },
    {
      "cell_type": "code",
      "execution_count": null,
      "metadata": {
        "id": "mgfzlsBf1eSG"
      },
      "outputs": [],
      "source": [
        "def use(model, X):\n",
        "    mean = model['means']\n",
        "    std = model['stds']\n",
        "    Xs = (X - mean) / std\n",
        "    Xs1 = np.hstack((np.ones((Xs.shape[0],1)),Xs))\n",
        "    new_w = model['w']\n",
        "    predict = np.dot( Xs1,new_w )\n",
        "    return predict"
      ]
    },
    {
      "cell_type": "code",
      "execution_count": null,
      "metadata": {
        "id": "eKrFyJ5e1jgG"
      },
      "outputs": [],
      "source": [
        "def rmse(predict, T):\n",
        "    error = predict - T\n",
        "    square = error ** 2\n",
        "    mean = np.mean(square)\n",
        "    root = np.sqrt(mean)\n",
        "    return root"
      ]
    },
    {
      "cell_type": "markdown",
      "source": [
        "Let's first define the X and T matrices using classifiedCrimes1 dataFrame. Since this is a dataFrame, we first convert it to a numpy array so that we can slice it.\n",
        "\n",
        "The matrix X should contain the Latitude, Longitude, Year and Weekday. T consists of the Primary Type(Crime)"
      ],
      "metadata": {
        "id": "Ux2-YmriOFdr"
      }
    },
    {
      "cell_type": "code",
      "execution_count": null,
      "metadata": {
        "id": "Q3qz6hnZ1n1Z"
      },
      "outputs": [],
      "source": [
        "CrimesData = classifiedCrimes1[classifiedCrimes1.columns[1:]].to_numpy()"
      ]
    },
    {
      "cell_type": "code",
      "execution_count": null,
      "metadata": {
        "id": "H3uQiIQX2rfz"
      },
      "outputs": [],
      "source": [
        "X = np.float64(CrimesData[:,2:6])\n",
        "X"
      ]
    },
    {
      "cell_type": "code",
      "execution_count": null,
      "metadata": {
        "id": "FhNzsa652-vX"
      },
      "outputs": [],
      "source": [
        "T = np.float64(CrimesData[:,1:2])\n",
        "T"
      ]
    },
    {
      "cell_type": "code",
      "execution_count": null,
      "metadata": {
        "id": "PjY2OIsr3DNb"
      },
      "outputs": [],
      "source": [
        "model = train(X, T)\n",
        "predict = use(model, X)\n",
        "error = rmse(predict, T)"
      ]
    },
    {
      "cell_type": "code",
      "execution_count": null,
      "metadata": {
        "id": "Z2gzYKP23GTv"
      },
      "outputs": [],
      "source": [
        "error"
      ]
    },
    {
      "cell_type": "code",
      "execution_count": null,
      "metadata": {
        "id": "MiRa3DvUpZdO"
      },
      "outputs": [],
      "source": [
        "from sklearn.model_selection import train_test_split\n",
        "X_train, X_test, y_train, y_test = train_test_split(X, T, test_size=0.3) # 70% training and 30% test"
      ]
    },
    {
      "cell_type": "code",
      "execution_count": null,
      "metadata": {
        "id": "Ntp-N3wqvwnW"
      },
      "outputs": [],
      "source": [
        "from sklearn import preprocessing\n",
        "from sklearn import utils\n",
        "print(utils.multiclass.type_of_target(X_test))"
      ]
    },
    {
      "cell_type": "code",
      "execution_count": null,
      "metadata": {
        "id": "lqX-YJ5vPKqp"
      },
      "outputs": [],
      "source": [
        "lab_enc = preprocessing.LabelEncoder()\n",
        "y_train_e = lab_enc.fit_transform(y_train)"
      ]
    },
    {
      "cell_type": "code",
      "source": [
        "def partitionKFolds(X,T,nFolds,shuffle=False,nPartitions=3):\n",
        "    # Randomly arrange row indices\n",
        "    rowIndices = np.arange(X.shape[0])\n",
        "    if shuffle:\n",
        "        np.random.shuffle(rowIndices)\n",
        "    # Calculate number of samples in each of the nFolds folds\n",
        "    nSamples = X.shape[0]\n",
        "    nEach = int(nSamples / nFolds)\n",
        "    if nEach == 0:\n",
        "        raise ValueError(\"partitionKFolds: Number of samples in each fold is 0.\")\n",
        "    # Calculate the starting and stopping row index for each fold.\n",
        "    # Store in startsStops as list of (start,stop) pairs\n",
        "    starts = np.arange(0,nEach*nFolds,nEach)\n",
        "    stops = starts + nEach\n",
        "    stops[-1] = nSamples\n",
        "    startsStops = list(zip(starts,stops))\n",
        "    # Repeat with testFold taking each single fold, one at a time\n",
        "    for testFold in range(nFolds):\n",
        "        if nPartitions == 3:\n",
        "            # Repeat with validateFold taking each single fold, except for the testFold\n",
        "            for validateFold in range(nFolds):\n",
        "                if testFold == validateFold:\n",
        "                    continue\n",
        "                # trainFolds are all remaining folds, after selecting test and validate folds\n",
        "                trainFolds = np.setdiff1d(range(nFolds), [testFold,validateFold])\n",
        "                # Construct Xtrain and Ttrain by collecting rows for all trainFolds\n",
        "                rows = []\n",
        "                for tf in trainFolds:\n",
        "                    a,b = startsStops[tf]                \n",
        "                    rows += rowIndices[a:b].tolist()\n",
        "                Xtrain = X[rows,:]\n",
        "                Ttrain = T[rows,:]\n",
        "                # Construct Xvalidate and Tvalidate\n",
        "                a,b = startsStops[validateFold]\n",
        "                rows = rowIndices[a:b]\n",
        "                Xvalidate = X[rows,:]\n",
        "                Tvalidate = T[rows,:]\n",
        "                # Construct Xtest and Ttest\n",
        "                a,b = startsStops[testFold]\n",
        "                rows = rowIndices[a:b]\n",
        "                Xtest = X[rows,:]\n",
        "                Ttest = T[rows,:]\n",
        "                # Return partition matrices, then suspend until called again.\n",
        "                yield Xtrain,Ttrain,Xvalidate,Tvalidate,Xtest,Ttest,testFold\n",
        "        else:\n",
        "            # trainFolds are all remaining folds, after selecting test and validate folds\n",
        "            trainFolds = np.setdiff1d(range(nFolds), [testFold])\n",
        "            # Construct Xtrain and Ttrain by collecting rows for all trainFolds\n",
        "            rows = []\n",
        "            for tf in trainFolds:\n",
        "                a,b = startsStops[tf]                \n",
        "                rows += rowIndices[a:b].tolist()\n",
        "            Xtrain = X[rows,:]\n",
        "            Ttrain = T[rows,:]\n",
        "            # Construct Xtest and Ttest\n",
        "            a,b = startsStops[testFold]\n",
        "            rows = rowIndices[a:b]\n",
        "            Xtest = X[rows,:]\n",
        "            Ttest = T[rows,:]\n",
        "            # Return partition matrices, then suspend until called again.\n",
        "            yield Xtrain,Ttrain,Xtest,Ttest,testFold"
      ],
      "metadata": {
        "id": "wWPE2eEzVIZ_"
      },
      "execution_count": null,
      "outputs": []
    },
    {
      "cell_type": "code",
      "source": [
        "def train(X,T,lamb):\n",
        "    means = np.mean(X,axis = 0)\n",
        "    stds = np.std(X, axis = 0)\n",
        "    Xs = (X - means) / stds\n",
        "    Xs1 = np.hstack((np.ones((Xs.shape[0],1)),Xs))\n",
        "    w = np.linalg.lstsq(np.dot(Xs1.T,Xs1), np.dot(Xs1.T, T))[0]\n",
        "    means = X.mean(0)\n",
        "    stds = X.std(0)\n",
        "    n,d = X.shape\n",
        "    Xs1 = np.insert( (X - means)/stds, 0, 1, axis=1)\n",
        "    lambDiag = np.eye(d+1) * lamb\n",
        "    lambDiag[0,0] = 0\n",
        "    w = np.linalg.lstsq( np.dot(Xs1.T,Xs1) + lambDiag, np.dot(Xs1.T,T))[0]\n",
        "    return {'w': w, 'means':means, 'stds':stds}\n",
        "\n",
        "def use(X,model):\n",
        "    Xs1 = np.insert((X-model['means'])/model['stds'], 0, 1, axis=1)\n",
        "    return np.dot(Xs1,model['w'])\n",
        "\n",
        "def rmse(A,B):\n",
        "    return np.sqrt(np.mean( (A-B)**2 ))"
      ],
      "metadata": {
        "id": "sc8foXoEVTK8"
      },
      "execution_count": null,
      "outputs": []
    },
    {
      "cell_type": "code",
      "source": [
        "def multipleLambdas(X, T, nFolds, lambdas):\n",
        "    foldCount = 0\n",
        "    results = []\n",
        "    for Xtrain,Ttrain,Xval,Tval,Xtest,Ttest,_ in partitionKFolds(X,T,nFolds,True):\n",
        "        for lamb in lambdas:\n",
        "            model = train(Xtrain,Ttrain,lamb)\n",
        "            predict = use(Xval,model)\n",
        "            results.append([foldCount,lamb,rmse(use(Xtrain,model),Ttrain),rmse(use(Xval,model),Tval),rmse(use(Xtest,model),Ttest)])\n",
        "        foldCount +=1\n",
        "    results = np.array(results)\n",
        "    bestresults = []  \n",
        "    for i in range(foldCount):\n",
        "        FCRow = np.take(results,(np.where(results[:,0:1] == i))[0], axis =0)\n",
        "        minRow = np.where(results[:,3:4] == (np.amin(FCRow[:,3:4],axis=0)))[0]\n",
        "        bestresults.append(np.take(results,minRow,axis=0))\n",
        "    bestresults = np.array(bestresults)\n",
        "    bestresults = bestresults.reshape(bestresults.shape[0], bestresults.shape[2])\n",
        "    return bestresults"
      ],
      "metadata": {
        "id": "TTQr9JegVWlL"
      },
      "execution_count": null,
      "outputs": []
    },
    {
      "cell_type": "code",
      "source": [
        "lambdas = [0,1,2,3,4,5]\n",
        "bestresults = multipleLambdas(X,T,4,lambdas)\n",
        "bestresults"
      ],
      "metadata": {
        "id": "zD2sGEbCVZSp"
      },
      "execution_count": null,
      "outputs": []
    },
    {
      "cell_type": "code",
      "source": [
        "pip install neuralnetwork"
      ],
      "metadata": {
        "id": "o2IGoLXZV4Iv"
      },
      "execution_count": null,
      "outputs": []
    },
    {
      "cell_type": "code",
      "source": [
        "\n",
        "from neuralnetwork import "
      ],
      "metadata": {
        "id": "m8idBQ-ZVl0O"
      },
      "execution_count": null,
      "outputs": []
    },
    {
      "cell_type": "code",
      "source": [
        "def trainNN(X,T, parameters):\n",
        "    nnet = nn(X.shape[1], parameters[0], T.shape[1])\n",
        "    nnet.train(X,T, nIterations=parameters[1], verbose=False)\n",
        "    return {'net': nnet}"
      ],
      "metadata": {
        "id": "Jy13gjvtVoCN"
      },
      "execution_count": null,
      "outputs": []
    },
    {
      "cell_type": "markdown",
      "metadata": {
        "id": "tiaNnKylpSSN"
      },
      "source": [
        "**Building initial KNN Classifier**\n",
        "\n",
        "\n",
        "\n",
        "\n",
        "Initially we will build our classifier with 5 neighbours"
      ]
    },
    {
      "cell_type": "code",
      "execution_count": null,
      "metadata": {
        "id": "_B8xJprtpQGb"
      },
      "outputs": [],
      "source": [
        "knn_5 = KNeighborsClassifier(n_neighbors=15, metric='manhattan', weights ='uniform')\n",
        "knn_5.fit(X_train,y_train_e)\n",
        "pred_train = knn_5.predict(X_train)\n",
        "pred_i = knn_5.predict(X_test)\n",
        "#print('Test accuracy ', metrics.accuracy_score(y_train, pred_train))\n",
        "print('Accuracy ', metrics.accuracy_score(y_test, pred_i))\n",
        "print('F1 score ', metrics.f1_score(y_test, pred_i, average = 'weighted'))"
      ]
    },
    {
      "cell_type": "code",
      "source": [
        "from sklearn.model_selection import cross_val_score\n",
        "from sklearn.tree import DecisionTreeRegressor"
      ],
      "metadata": {
        "id": "NA9sAcFqoOuH"
      },
      "execution_count": null,
      "outputs": []
    },
    {
      "cell_type": "code",
      "source": [
        "regressor = DecisionTreeRegressor(random_state=0)"
      ],
      "metadata": {
        "id": "spNmN9DEoQf9"
      },
      "execution_count": null,
      "outputs": []
    },
    {
      "cell_type": "code",
      "source": [
        "cross_val_score(regressor, X_train, y_train, cv=10)"
      ],
      "metadata": {
        "id": "UD5S3JaZodxw"
      },
      "execution_count": null,
      "outputs": []
    },
    {
      "cell_type": "code",
      "execution_count": null,
      "metadata": {
        "id": "x0dAFyOpvShS"
      },
      "outputs": [],
      "source": [
        "from sklearn.linear_model import LogisticRegression  \n",
        "classifier= LogisticRegression(random_state=0)  \n",
        "classifier.fit(X_train, y_train) "
      ]
    },
    {
      "cell_type": "code",
      "execution_count": null,
      "metadata": {
        "id": "5cgYi2tQvf7Y"
      },
      "outputs": [],
      "source": [
        "y_pred= classifier.predict(X_test)  "
      ]
    },
    {
      "cell_type": "code",
      "execution_count": null,
      "metadata": {
        "id": "Wu8i_N6eviWO"
      },
      "outputs": [],
      "source": [
        "from sklearn import metrics\n",
        "print(metrics.accuracy_score(y_test, y_pred))"
      ]
    },
    {
      "cell_type": "code",
      "execution_count": null,
      "metadata": {
        "id": "qMyL5Moevl3R"
      },
      "outputs": [],
      "source": [
        "print(metrics.confusion_matrix(y_test, y_pred))"
      ]
    },
    {
      "cell_type": "code",
      "execution_count": null,
      "metadata": {
        "id": "tB1N_LYqnsAO"
      },
      "outputs": [],
      "source": [
        "crime_df.head()"
      ]
    },
    {
      "cell_type": "code",
      "execution_count": null,
      "metadata": {
        "id": "MQv8V08DNJgU"
      },
      "outputs": [],
      "source": [
        "crime_df = crime_df.dropna()\n",
        "crime_df.isnull().sum().sum()\n",
        "keep_cols = ['Arrest','Primary Type','Domestic','District','Location Description','X Coordinate','Y Coordinate']\n",
        "crime_df = crime_df[keep_cols].reset_index()\n",
        "crime_df.head()"
      ]
    },
    {
      "cell_type": "code",
      "execution_count": null,
      "metadata": {
        "id": "k8M459nDNZCt"
      },
      "outputs": [],
      "source": [
        "percentage_intances = crime_df.groupby('Arrest').size() * 100 / len(crime_df)\n",
        "print(percentage_intances)\n",
        "print(\"------------------\")\n",
        "print(\"Percentage Positive Instance = {}\\nPercentage Negative Instance = {} \".format(percentage_intances[1],percentage_intances[0]))"
      ]
    },
    {
      "cell_type": "code",
      "execution_count": null,
      "metadata": {
        "id": "zYOtLPHVNhB_"
      },
      "outputs": [],
      "source": [
        "len(crime_df['Location Description'].unique().tolist())"
      ]
    },
    {
      "cell_type": "code",
      "execution_count": null,
      "metadata": {
        "id": "51rU-hWrNlJk"
      },
      "outputs": [],
      "source": [
        "X=crime_df.drop('Arrest',axis=1)\n",
        "features = list(X.columns)\n",
        "y = crime_df[\"Arrest\"]"
      ]
    },
    {
      "cell_type": "code",
      "execution_count": null,
      "metadata": {
        "id": "YxJFrkHMNum1"
      },
      "outputs": [],
      "source": [
        "X.head()"
      ]
    },
    {
      "cell_type": "code",
      "execution_count": null,
      "metadata": {
        "id": "XfLhyuTlN2oW"
      },
      "outputs": [],
      "source": [
        "labelencoder = LabelEncoder()\n",
        "X['Primary Type']=X['Primary Type'].astype(\"category\").cat.codes\n",
        "X['Location Description']=X['Location Description'].astype(\"category\").cat.codes"
      ]
    },
    {
      "cell_type": "code",
      "execution_count": null,
      "metadata": {
        "id": "fuCFq1TAN80v"
      },
      "outputs": [],
      "source": [
        "from sklearn import preprocessing\n",
        "scaler = preprocessing.MinMaxScaler()\n",
        "X[['X Coordinate', 'Y Coordinate']] = scaler.fit_transform(X[['X Coordinate', 'Y Coordinate']])"
      ]
    },
    {
      "cell_type": "code",
      "execution_count": null,
      "metadata": {
        "id": "Ve-auis6OLJ2"
      },
      "outputs": [],
      "source": [
        "#X.head()"
      ]
    },
    {
      "cell_type": "code",
      "execution_count": null,
      "metadata": {
        "id": "8pZfrs6smmBX"
      },
      "outputs": [],
      "source": [
        "dt_clf = DecisionTreeClassifier()\n",
        "dt_clf.fit(X,y)\n",
        "predicted = dt_clf.predict(X[features])\n",
        "recall_score = metrics.recall_score(crime_df['Arrest'], predicted)\n",
        "precision_score = metrics.precision_score(crime_df['Arrest'], predicted)\n",
        "accuracy_score = metrics.accuracy_score(crime_df['Arrest'], predicted)\n",
        "print(\"Training Accuracy = {} Precision = {} Recall = {}\".format(accuracy_score,precision_score,recall_score))"
      ]
    },
    {
      "cell_type": "code",
      "execution_count": null,
      "metadata": {
        "id": "OPP6aUscPmp4"
      },
      "outputs": [],
      "source": [
        "for depth in range(1,10):\n",
        "    tree_clf = DecisionTreeClassifier(max_depth=depth, random_state=0)\n",
        "    if tree_clf.fit(X,y).tree_.max_depth < depth:\n",
        "        break\n",
        "    score = np.mean(cross_val_score(tree_clf, X, y,scoring='accuracy', cv=10, n_jobs=1))\n",
        "    print(\"Depth: %i Accuracy: %.3f\" % (depth,score))"
      ]
    },
    {
      "cell_type": "code",
      "execution_count": null,
      "metadata": {
        "id": "M5xHoTecPp0l"
      },
      "outputs": [],
      "source": [
        "dt_clf = DecisionTreeClassifier(max_depth=3)\n",
        "dt_clf.fit(X,y)\n",
        "predicted = dt_clf.predict(X[features])\n",
        "dt_recall = metrics.recall_score(crime_df['Arrest'], predicted)\n",
        "dt_precision = metrics.precision_score(crime_df['Arrest'], predicted)\n",
        "dt_accuracy= metrics.accuracy_score(crime_df['Arrest'], predicted)\n",
        "dt_f1score = metrics.f1_score(crime_df['Arrest'], predicted)\n",
        "print(\"Accuracy for DT =\",dt_accuracy)\n",
        "print(\"Precision for DT =\",dt_precision)\n",
        "print(\"Recall for DT =\",dt_precision)\n",
        "print(\"F1 Score for DT=\", dt_f1score)"
      ]
    },
    {
      "cell_type": "code",
      "execution_count": null,
      "metadata": {
        "id": "h3c9qzfBPzPp"
      },
      "outputs": [],
      "source": [
        "importances=dt_clf.feature_importances_\n",
        "indices = np.argsort(importances)[::-1]\n",
        "# Print the feature ranking\n",
        "print(\"Feature ranking:\")\n",
        "# We have taken the top 5 feature \n",
        "print(\"The main features used for classification\")\n",
        "print(X.columns[indices[:5]])\n",
        "print(\"Top main feature is\",X.columns[indices[:1]][0])"
      ]
    },
    {
      "cell_type": "code",
      "execution_count": null,
      "metadata": {
        "id": "cSXOeyllP4Hb"
      },
      "outputs": [],
      "source": [
        "# Applying 10 fold cross validation\n",
        "dt_cv_accuracy = cross_val_score(dt_clf, X, y, cv=10).mean()\n",
        "dt_cv_precision= cross_val_score(dt_clf, X, y, cv=10, scoring='precision').mean()\n",
        "dt_cv_recall = cross_val_score(dt_clf, X, y, cv=10, scoring='recall').mean()\n",
        "print(\"Cross Validation Accuracy DT:\", dt_cv_accuracy)\n",
        "print(\"Cross Validation Recall DT:\", dt_cv_precision)\n",
        "print(\"Cross Validation Precision DT:\", dt_cv_recall)"
      ]
    },
    {
      "cell_type": "code",
      "execution_count": null,
      "metadata": {
        "id": "qGRmVRlB-a0f"
      },
      "outputs": [],
      "source": [
        "crimes.date = pd.to_datetime(crimes.date)"
      ]
    },
    {
      "cell_type": "code",
      "execution_count": null,
      "metadata": {
        "id": "5n0U4ys9_JGc"
      },
      "outputs": [],
      "source": [
        ""
      ]
    },
    {
      "cell_type": "code",
      "execution_count": null,
      "metadata": {
        "id": "4aA7LVdQ_ago"
      },
      "outputs": [],
      "source": [
        "# Creating a Countplot to view yearwise criminal activity\n",
        "crime_df = crime_df[crime_df['Year'] > 2010]\n",
        "yearwise_total_crime = crime_df.groupby('Year').size()\n",
        "print(yearwise_total_crime)"
      ]
    },
    {
      "cell_type": "code",
      "execution_count": null,
      "metadata": {
        "id": "32xn948HBvF9"
      },
      "outputs": [],
      "source": [
        "crime_date = crime_df.groupby('Date').size()\n",
        "print(crime_date)"
      ]
    },
    {
      "cell_type": "code",
      "execution_count": null,
      "metadata": {
        "id": "bqpzyH34PLja"
      },
      "outputs": [],
      "source": [
        "crime_date.index"
      ]
    },
    {
      "cell_type": "code",
      "execution_count": null,
      "metadata": {
        "id": "RYocgZWcP5ua"
      },
      "outputs": [],
      "source": [
        "from datetime import datetime\n",
        "from statsmodels.tsa.stattools import adfuller\n",
        "from statsmodels.tsa.seasonal import seasonal_decompose\n",
        "from statsmodels.tsa.stattools import acf, pacf\n",
        "from statsmodels.tsa.arima_model import ARIMA"
      ]
    },
    {
      "cell_type": "markdown",
      "metadata": {
        "id": "GWZG1-MaE7LI"
      },
      "source": [
        "**Plotting the rolling mean and standard deviation**"
      ]
    },
    {
      "cell_type": "code",
      "execution_count": null,
      "metadata": {
        "id": "SZoSO18KPTkw"
      },
      "outputs": [],
      "source": [
        "def  check_stationarity_graph(timeseries):\n",
        "    \n",
        "    # Determine rolling statistics (moving averages and variance)\n",
        "    rolmean = pd.Series(timeseries).rolling(window=12).mean()\n",
        "    rolstd = pd.Series(timeseries).rolling(window=12).std()\n",
        "\n",
        "    \n",
        "\n",
        "    fig,ax = plt.subplots()\n",
        "    ax.plot(timeseries,color='blue', label='Original')\n",
        "    ax.plot(rolmean, color='red', label='Rolling Mean')\n",
        "    ax.plot(rolstd,color='black', label = 'Rolling Std')\n",
        "    ax.set_title('Rolling Mean & Standard Deviation')\n",
        "    display(fig)\n",
        "\n",
        "    \n",
        "    # Perform Dickey-Fuller test:\n",
        "def  check_stationarity_data(timeseries):\n",
        "    print('Results of Dickey-Fuller Test:')\n",
        "    y = adfuller(timeseries, autolag='AIC')\n",
        "    dfoutput = pd.Series(y[0:4], \n",
        "                index = ['Test Statistic','p-value','Number of Observations Used'])\n",
        "    for key,value in y[4].items():\n",
        "        dfoutput['Critical Value (%s)'%key] = value\n",
        "    print(dfoutput)"
      ]
    },
    {
      "cell_type": "code",
      "execution_count": null,
      "metadata": {
        "id": "wyf7grEuQCUL"
      },
      "outputs": [],
      "source": [
        "check_stationarity_graph(crime_date)"
      ]
    },
    {
      "cell_type": "code",
      "execution_count": null,
      "metadata": {
        "id": "sSNDDdhdURCM"
      },
      "outputs": [],
      "source": [
        "#check_stationarity_data(crime_date)"
      ]
    },
    {
      "cell_type": "markdown",
      "metadata": {
        "id": "Xo8Ul4ZDE1S2"
      },
      "source": [
        "**Visualizing crime time series data**"
      ]
    },
    {
      "cell_type": "code",
      "execution_count": null,
      "metadata": {
        "id": "nfJ0Z0SXUZ2h"
      },
      "outputs": [],
      "source": [
        "fig,ax = plt.subplots()\n",
        "ax.plot(crime_date)\n",
        "display(fig)"
      ]
    },
    {
      "cell_type": "markdown",
      "metadata": {
        "id": "7_FzqsA9FRzU"
      },
      "source": [
        "**Plotting data by using log value of crimes**"
      ]
    },
    {
      "cell_type": "code",
      "execution_count": null,
      "metadata": {
        "id": "L6HutfQ8FLPa"
      },
      "outputs": [],
      "source": [
        "ts_log = np.log(crime_date)\n",
        "fig,ax = plt.subplots()\n",
        "ax.plot(ts_log)\n",
        "display(fig)"
      ]
    },
    {
      "cell_type": "markdown",
      "metadata": {
        "id": "uRTmLJLiGfve"
      },
      "source": [
        "**Plotting moving average**"
      ]
    },
    {
      "cell_type": "code",
      "execution_count": null,
      "metadata": {
        "id": "s_lW3vGWFYPg"
      },
      "outputs": [],
      "source": [
        "#moving_avg = pd.rolling_mean(ts_log,12)\n",
        "moving_avg = ts_log.rolling(12).mean()\n",
        "fig,ax = plt.subplots()\n",
        "ax.plot(moving_avg, color='blue')\n",
        "ax.plot(ts_log, color='orange')\n",
        "display(fig)"
      ]
    },
    {
      "cell_type": "code",
      "execution_count": null,
      "metadata": {
        "id": "D78PYRQfGnQk"
      },
      "outputs": [],
      "source": [
        "ts_log_moving_avg_diff = ts_log - moving_avg\n",
        "ts_log_moving_avg_diff.head(12)"
      ]
    },
    {
      "cell_type": "code",
      "execution_count": null,
      "metadata": {
        "id": "mwzeavmKGsI8"
      },
      "outputs": [],
      "source": [
        "ts_log_moving_avg_diff.dropna(inplace=True)\n",
        "check_stationarity_graph(ts_log_moving_avg_diff)"
      ]
    },
    {
      "cell_type": "code",
      "execution_count": null,
      "metadata": {
        "id": "alQSAXHOGuJV"
      },
      "outputs": [],
      "source": [
        "expwighted_avg = pd.ewma(ts_log, halflife=17)\n",
        "fig,ax = plt.subplots()\n",
        "ax.plot(ts_log, color='orange')\n",
        "ax.plot(expwighted_avg,color='blue')\n",
        "display(fig)"
      ]
    },
    {
      "cell_type": "code",
      "execution_count": null,
      "metadata": {
        "id": "YAb-W4uvGWtu"
      },
      "outputs": [],
      "source": [
        "lag_acf = acf(ts_log_diff, nlags=20)\n",
        "lag_pacf = pacf(ts_log_diff, nlags=20, method='ols')\n",
        "\n",
        "# Plot ACF: \n",
        "plt.subplot(121) \n",
        "plt.plot(lag_acf)\n",
        "plt.axhline(y=0,linestyle='--',color='gray')\n",
        "plt.axhline(y=-1.96/np.sqrt(len(ts_log_diff)),linestyle='--',color='gray')\n",
        "plt.axhline(y=1.96/np.sqrt(len(ts_log_diff)),linestyle='--',color='gray')\n",
        "plt.title('Autocorrelation Function')\n",
        "\n",
        "# Plot PACF:\n",
        "plt.subplot(122)\n",
        "plt.plot(lag_pacf)\n",
        "plt.axhline(y=0,linestyle='--',color='gray')\n",
        "plt.axhline(y=-1.96/np.sqrt(len(ts_log_diff)),linestyle='--',color='gray')\n",
        "plt.axhline(y=1.96/np.sqrt(len(ts_log_diff)),linestyle='--',color='gray')\n",
        "plt.title('Partial Autocorrelation Function')\n",
        "plt.tight_layout()\n",
        "display()"
      ]
    }
  ],
  "metadata": {
    "colab": {
      "collapsed_sections": [],
      "machine_shape": "hm",
      "name": "MTP_Urabn_Crime_Prediction.ipynb",
      "provenance": [],
      "authorship_tag": "ABX9TyMFQY3ackXDn0lwct5x1dj8",
      "include_colab_link": true
    },
    "gpuClass": "standard",
    "kernelspec": {
      "display_name": "Python 3",
      "name": "python3"
    },
    "language_info": {
      "name": "python"
    }
  },
  "nbformat": 4,
  "nbformat_minor": 0
}